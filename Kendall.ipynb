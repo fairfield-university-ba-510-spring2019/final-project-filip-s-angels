{
 "cells": [
  {
   "cell_type": "markdown",
   "metadata": {},
   "source": [
    "# **Create a SQLite database called CourseData.db**"
   ]
  },
  {
   "cell_type": "code",
   "execution_count": 23,
   "metadata": {},
   "outputs": [
    {
     "name": "stdout",
     "output_type": "stream",
     "text": [
      "The sql extension is already loaded. To reload it, use:\n",
      "  %reload_ext sql\n"
     ]
    },
    {
     "data": {
      "text/plain": [
       "'Connected: @CourseData.db'"
      ]
     },
     "execution_count": 23,
     "metadata": {},
     "output_type": "execute_result"
    }
   ],
   "source": [
    "%load_ext sql\n",
    "%sql sqlite:///CourseData.db"
   ]
  },
  {
   "cell_type": "code",
   "execution_count": 24,
   "metadata": {},
   "outputs": [
    {
     "name": "stdout",
     "output_type": "stream",
     "text": [
      " * sqlite:///CourseData.db\n",
      "Done.\n",
      "Done.\n",
      "Done.\n",
      "Done.\n"
     ]
    },
    {
     "data": {
      "text/plain": [
       "[]"
      ]
     },
     "execution_count": 24,
     "metadata": {},
     "output_type": "execute_result"
    }
   ],
   "source": [
    "%%sql\n",
    "--Dropping tables for when we need to restart and clear CourseData database-- \n",
    "\n",
    "DROP TABLE IF EXISTS SECTION;\n",
    "DROP TABLE IF EXISTS COURSE;\n",
    "DROP TABLE IF EXISTS INSTRUCTOR;\n",
    "DROP TABLE IF EXISTS COURSE_MEETINGS;"
   ]
  },
  {
   "cell_type": "code",
   "execution_count": 25,
   "metadata": {},
   "outputs": [
    {
     "name": "stdout",
     "output_type": "stream",
     "text": [
      " * sqlite:///CourseData.db\n",
      "Done.\n"
     ]
    },
    {
     "data": {
      "text/plain": [
       "[]"
      ]
     },
     "execution_count": 25,
     "metadata": {},
     "output_type": "execute_result"
    }
   ],
   "source": [
    "%%sql\n",
    "-- Creating table INSTRUCTOR with surrogate primary key-- \n",
    "\n",
    "CREATE TABLE 'INSTRUCTOR' (\n",
    "    InID INTEGER NOT NULL PRIMARY KEY,\n",
    "    Name TEXT NOT NULL\n",
    ");"
   ]
  },
  {
   "cell_type": "code",
   "execution_count": 26,
   "metadata": {},
   "outputs": [
    {
     "name": "stdout",
     "output_type": "stream",
     "text": [
      " * sqlite:///CourseData.db\n",
      "Done.\n"
     ]
    },
    {
     "data": {
      "text/plain": [
       "[]"
      ]
     },
     "execution_count": 26,
     "metadata": {},
     "output_type": "execute_result"
    }
   ],
   "source": [
    "%%sql\n",
    "--Creating table COURSE with CatID as the primary key-- \n",
    "\n",
    "CREATE TABLE 'COURSE'(\n",
    "    CatID VARCHAR PRIMARY KEY,\n",
    "    Title VARCHAR NOT NULL,\n",
    "    Description TEXT NOT NULL,\n",
    "    Credits TEXT NOT NULL,\n",
    "    PName TEXT NOT NULL,\n",
    "    PCode TEXT,\n",
    "    PREREQS TEXT,\n",
    "    COREQS TEXT,\n",
    "    FEES INTEGER,\n",
    "    Attribute TEXT\n",
    "    \n",
    ");"
   ]
  },
  {
   "cell_type": "code",
   "execution_count": 27,
   "metadata": {},
   "outputs": [
    {
     "name": "stdout",
     "output_type": "stream",
     "text": [
      " * sqlite:///CourseData.db\n",
      "Done.\n"
     ]
    },
    {
     "data": {
      "text/plain": [
       "[]"
      ]
     },
     "execution_count": 27,
     "metadata": {},
     "output_type": "execute_result"
    }
   ],
   "source": [
    "%%sql\n",
    "--Creating table SECTION with surrogate primary key-- \n",
    "\n",
    "CREATE TABLE 'SECTION'(\n",
    "    SID INTEGER NOT NULL PRIMARY KEY,\n",
    "    CRN INTEGER NOT NULL,\n",
    "    Term TEXT NOT NULL,\n",
    "    Section VARCHAR NOT NULL,\n",
    "    Cap INTEGER,\n",
    "    Act INTEGER,\n",
    "    Rem INTEGER,\n",
    "    CatID VARCHAR,\n",
    "    InID INTEGER,\n",
    "    FOREIGN KEY (CatID) REFERENCES COURSE(CatID),\n",
    "    FOREIGN KEY (InID) REFERENCES INSTRUCTOR(InID)\n",
    ");"
   ]
  },
  {
   "cell_type": "code",
   "execution_count": 28,
   "metadata": {},
   "outputs": [
    {
     "name": "stdout",
     "output_type": "stream",
     "text": [
      " * sqlite:///CourseData.db\n",
      "Done.\n"
     ]
    },
    {
     "data": {
      "text/plain": [
       "[]"
      ]
     },
     "execution_count": 28,
     "metadata": {},
     "output_type": "execute_result"
    }
   ],
   "source": [
    "%%sql\n",
    "\n",
    "--Creating table COURSE_MEETINGS with CatID as the Primary Key-- \n",
    "\n",
    "CREATE TABLE 'COURSE_MEETINGS' (\n",
    "    MID INTEGER NOT NULL PRIMARY KEY,\n",
    "    CRN INTEGER NOT NULL,\n",
    "    Term TEXT NOT NULL,\n",
    "    Start TEXT NOT NULL,\n",
    "    Location VARCHAR NOT NULL,\n",
    "    Day TEXT NOT NULL,\n",
    "    End TEXT NOT NULL,\n",
    "    FOREIGN KEY (CRN) REFERENCES SECTION(CRN),\n",
    "    FOREIGN KEY (Term) REFERENCES SECTION(Term)\n",
    ");"
   ]
  },
  {
   "cell_type": "code",
   "execution_count": 29,
   "metadata": {},
   "outputs": [
    {
     "name": "stdout",
     "output_type": "stream",
     "text": [
      " * sqlite:///CourseData.db\n",
      "Done.\n"
     ]
    },
    {
     "data": {
      "text/plain": [
       "[]"
      ]
     },
     "execution_count": 29,
     "metadata": {},
     "output_type": "execute_result"
    }
   ],
   "source": [
    "%%sql\n",
    "\n",
    "--Populating Course_Meetings table using import_course_meetings data-- \n",
    "\n",
    "INSERT INTO Course_Meetings (CRN, Term, Start, Location, Day, End)\n",
    "SELECT DISTINCT crn, term, start, location, day, end \n",
    "FROM import_course_meetings;"
   ]
  },
  {
   "cell_type": "code",
   "execution_count": 30,
   "metadata": {},
   "outputs": [
    {
     "name": "stdout",
     "output_type": "stream",
     "text": [
      " * sqlite:///CourseData.db\n",
      "Done.\n"
     ]
    },
    {
     "data": {
      "text/html": [
       "<table>\n",
       "    <tr>\n",
       "        <th>MID</th>\n",
       "        <th>CRN</th>\n",
       "        <th>Term</th>\n",
       "        <th>Start</th>\n",
       "        <th>Location</th>\n",
       "        <th>Day</th>\n",
       "        <th>End</th>\n",
       "    </tr>\n",
       "    <tr>\n",
       "        <td>1</td>\n",
       "        <td>70384</td>\n",
       "        <td>Fall2014</td>\n",
       "        <td>2014-09-02T08:00:00</td>\n",
       "        <td>DSB 105</td>\n",
       "        <td>T</td>\n",
       "        <td>2014-09-02T09:15:00</td>\n",
       "    </tr>\n",
       "    <tr>\n",
       "        <td>2</td>\n",
       "        <td>70384</td>\n",
       "        <td>Fall2014</td>\n",
       "        <td>2014-09-05T08:00:00</td>\n",
       "        <td>DSB 105</td>\n",
       "        <td>F</td>\n",
       "        <td>2014-09-05T09:15:00</td>\n",
       "    </tr>\n",
       "    <tr>\n",
       "        <td>3</td>\n",
       "        <td>70384</td>\n",
       "        <td>Fall2014</td>\n",
       "        <td>2014-09-09T08:00:00</td>\n",
       "        <td>DSB 105</td>\n",
       "        <td>T</td>\n",
       "        <td>2014-09-09T09:15:00</td>\n",
       "    </tr>\n",
       "    <tr>\n",
       "        <td>4</td>\n",
       "        <td>70384</td>\n",
       "        <td>Fall2014</td>\n",
       "        <td>2014-09-12T08:00:00</td>\n",
       "        <td>DSB 105</td>\n",
       "        <td>F</td>\n",
       "        <td>2014-09-12T09:15:00</td>\n",
       "    </tr>\n",
       "    <tr>\n",
       "        <td>5</td>\n",
       "        <td>70384</td>\n",
       "        <td>Fall2014</td>\n",
       "        <td>2014-09-16T08:00:00</td>\n",
       "        <td>DSB 105</td>\n",
       "        <td>T</td>\n",
       "        <td>2014-09-16T09:15:00</td>\n",
       "    </tr>\n",
       "    <tr>\n",
       "        <td>6</td>\n",
       "        <td>70384</td>\n",
       "        <td>Fall2014</td>\n",
       "        <td>2014-09-19T08:00:00</td>\n",
       "        <td>DSB 105</td>\n",
       "        <td>F</td>\n",
       "        <td>2014-09-19T09:15:00</td>\n",
       "    </tr>\n",
       "    <tr>\n",
       "        <td>7</td>\n",
       "        <td>70384</td>\n",
       "        <td>Fall2014</td>\n",
       "        <td>2014-09-23T08:00:00</td>\n",
       "        <td>DSB 105</td>\n",
       "        <td>T</td>\n",
       "        <td>2014-09-23T09:15:00</td>\n",
       "    </tr>\n",
       "    <tr>\n",
       "        <td>8</td>\n",
       "        <td>70384</td>\n",
       "        <td>Fall2014</td>\n",
       "        <td>2014-09-26T08:00:00</td>\n",
       "        <td>DSB 105</td>\n",
       "        <td>F</td>\n",
       "        <td>2014-09-26T09:15:00</td>\n",
       "    </tr>\n",
       "    <tr>\n",
       "        <td>9</td>\n",
       "        <td>70384</td>\n",
       "        <td>Fall2014</td>\n",
       "        <td>2014-09-30T08:00:00</td>\n",
       "        <td>DSB 105</td>\n",
       "        <td>T</td>\n",
       "        <td>2014-09-30T09:15:00</td>\n",
       "    </tr>\n",
       "    <tr>\n",
       "        <td>10</td>\n",
       "        <td>70384</td>\n",
       "        <td>Fall2014</td>\n",
       "        <td>2014-10-03T08:00:00</td>\n",
       "        <td>DSB 105</td>\n",
       "        <td>F</td>\n",
       "        <td>2014-10-03T09:15:00</td>\n",
       "    </tr>\n",
       "</table>"
      ],
      "text/plain": [
       "[(1, 70384, 'Fall2014', '2014-09-02T08:00:00', 'DSB 105', 'T', '2014-09-02T09:15:00'),\n",
       " (2, 70384, 'Fall2014', '2014-09-05T08:00:00', 'DSB 105', 'F', '2014-09-05T09:15:00'),\n",
       " (3, 70384, 'Fall2014', '2014-09-09T08:00:00', 'DSB 105', 'T', '2014-09-09T09:15:00'),\n",
       " (4, 70384, 'Fall2014', '2014-09-12T08:00:00', 'DSB 105', 'F', '2014-09-12T09:15:00'),\n",
       " (5, 70384, 'Fall2014', '2014-09-16T08:00:00', 'DSB 105', 'T', '2014-09-16T09:15:00'),\n",
       " (6, 70384, 'Fall2014', '2014-09-19T08:00:00', 'DSB 105', 'F', '2014-09-19T09:15:00'),\n",
       " (7, 70384, 'Fall2014', '2014-09-23T08:00:00', 'DSB 105', 'T', '2014-09-23T09:15:00'),\n",
       " (8, 70384, 'Fall2014', '2014-09-26T08:00:00', 'DSB 105', 'F', '2014-09-26T09:15:00'),\n",
       " (9, 70384, 'Fall2014', '2014-09-30T08:00:00', 'DSB 105', 'T', '2014-09-30T09:15:00'),\n",
       " (10, 70384, 'Fall2014', '2014-10-03T08:00:00', 'DSB 105', 'F', '2014-10-03T09:15:00')]"
      ]
     },
     "execution_count": 30,
     "metadata": {},
     "output_type": "execute_result"
    }
   ],
   "source": [
    "%%sql \n",
    "\n",
    "--Checking data population of Course_Meetings table-- \n",
    "\n",
    "SELECT * \n",
    "FROM Course_Meetings\n",
    "LIMIT 10;"
   ]
  },
  {
   "cell_type": "code",
   "execution_count": 31,
   "metadata": {},
   "outputs": [
    {
     "name": "stdout",
     "output_type": "stream",
     "text": [
      " * sqlite:///CourseData.db\n",
      "Done.\n"
     ]
    },
    {
     "data": {
      "text/plain": [
       "[]"
      ]
     },
     "execution_count": 31,
     "metadata": {},
     "output_type": "execute_result"
    }
   ],
   "source": [
    "%%sql \n",
    "\n",
    "--Populating Course table using import_catalogs data--  \n",
    "\n",
    "INSERT INTO COURSE (CatID, Title, Description, Credits, PName, PCode, PREREQS, COREQS, FEES, Attribute)\n",
    "SELECT DISTINCT catalog_id, course_title, description, credits, program_name, program_code, prereqs, coreqs, fees, attributes\n",
    "FROM import_catalogs;"
   ]
  },
  {
   "cell_type": "code",
   "execution_count": 32,
   "metadata": {},
   "outputs": [
    {
     "name": "stdout",
     "output_type": "stream",
     "text": [
      " * sqlite:///CourseData.db\n",
      "Done.\n"
     ]
    },
    {
     "data": {
      "text/html": [
       "<table>\n",
       "    <tr>\n",
       "        <th>CatID</th>\n",
       "        <th>Title</th>\n",
       "        <th>Description</th>\n",
       "        <th>Credits</th>\n",
       "        <th>PName</th>\n",
       "        <th>PCode</th>\n",
       "        <th>PREREQS</th>\n",
       "        <th>COREQS</th>\n",
       "        <th>FEES</th>\n",
       "        <th>Attribute</th>\n",
       "    </tr>\n",
       "    <tr>\n",
       "        <td>AN 0301</td>\n",
       "        <td>Independent Study</td>\n",
       "        <td>Students undertake an individualized program of study in consultation with a director from the Asian studies faculty.</td>\n",
       "        <td>1-3 Credits</td>\n",
       "        <td>Asian Studies</td>\n",
       "        <td>AN</td>\n",
       "        <td></td>\n",
       "        <td></td>\n",
       "        <td></td>\n",
       "        <td></td>\n",
       "    </tr>\n",
       "    <tr>\n",
       "        <td>AN 0310</td>\n",
       "        <td>Asian Studies Seminar</td>\n",
       "        <td>This seminar examines selected topics concerning Asia. This course is taught in conjunction with another 100-300 level course from a rotation of course offerings. Consult the Asian Studies director to identify the conjoined course for a given semester. The seminar concentrates on topics within the parameters of the conjoined course syllabus but adds research emphasis. Students registered for this course must complete a research project, to include 300-level research, in addition to the regular research requirements of the conjoined course, and a 25-50 page term paper in substitution of some portion of the conjoined course requirements, as determined by the instructor. Open to juniors and seniors only.</td>\n",
       "        <td>3 Credits</td>\n",
       "        <td>Asian Studies</td>\n",
       "        <td>AN</td>\n",
       "        <td></td>\n",
       "        <td></td>\n",
       "        <td></td>\n",
       "        <td></td>\n",
       "    </tr>\n",
       "    <tr>\n",
       "        <td>BU 0211</td>\n",
       "        <td>Legal Environment of Business</td>\n",
       "        <td>This course examines the broad philosophical as well as practical nature and function of the legal system, and introduces students to the legal and social responsibilities of business. The course includes an introduction to the legal system, the federal courts, Constitutional law, the United States Supreme Court, the civil process, and regulatory areas such as employment discrimination, protection of the environment, and corporate governance and securities markets.</td>\n",
       "        <td>3 Credits</td>\n",
       "        <td>Business</td>\n",
       "        <td>BU</td>\n",
       "        <td>Junior standing.</td>\n",
       "        <td></td>\n",
       "        <td></td>\n",
       "        <td></td>\n",
       "    </tr>\n",
       "    <tr>\n",
       "        <td>BU 0220</td>\n",
       "        <td>Environmental Law and Policy</td>\n",
       "        <td>This course surveys issues arising out of federal laws designed to protect the environment and manage resources. It considers in detail the role of the Environmental Protection Agency in the enforcement of environmental policies arising out of such laws as the National Environmental Policy Act, the Clean Water Act, and the Clear Air Act, among others. The course also considers the impact of Congress, political parties, bureaucracy, and interest groups in shaping environmental policy, giving special attention to the impact of environmental regulation on business and private property rights.</td>\n",
       "        <td>3 Credits</td>\n",
       "        <td>Business</td>\n",
       "        <td>BU</td>\n",
       "        <td></td>\n",
       "        <td></td>\n",
       "        <td></td>\n",
       "        <td>EVME Environmental Studies Major Elective, EVPE Environmental Studies Elective, EVSS Environmental Studies: Social Science, MGEL Management: General Elective</td>\n",
       "    </tr>\n",
       "    <tr>\n",
       "        <td>BU 0311</td>\n",
       "        <td>The Law of Contracts, Sales, and Property</td>\n",
       "        <td>This course examines the components of common law contracts including the concepts of offer and acceptance, consideration, capacity and legality, assignment of rights and delegation of duties, as well as discharge of contracts. The course covers Articles 2 and 2A of the Uniform Commercial Code relating to leases, sales of goods, and warranties. The course also considers personal and real property, and bailments.</td>\n",
       "        <td>3 Credits</td>\n",
       "        <td>Business</td>\n",
       "        <td>BU</td>\n",
       "        <td>BU 0211.</td>\n",
       "        <td></td>\n",
       "        <td></td>\n",
       "        <td></td>\n",
       "    </tr>\n",
       "</table>"
      ],
      "text/plain": [
       "[('AN 0301', 'Independent Study', 'Students undertake an individualized program of study in consultation with a director from the Asian studies faculty.', '1-3 Credits', 'Asian Studies', 'AN', '', '', '', ''),\n",
       " ('AN 0310', 'Asian Studies Seminar', 'This seminar examines selected topics concerning Asia. This course is taught in conjunction with another 100-300 level course from a rotation of cour ... (412 characters truncated) ... e term paper in substitution of some portion of the conjoined course requirements, as determined by the instructor. Open to juniors and seniors only.', '3 Credits', 'Asian Studies', 'AN', '', '', '', ''),\n",
       " ('BU 0211', 'Legal Environment of Business', 'This course examines the broad philosophical as well as practical nature and function of the legal system, and introduces students to the legal and s ... (171 characters truncated) ... ivil process, and regulatory areas such as employment discrimination, protection of the environment, and corporate governance and securities markets.', '3 Credits', 'Business', 'BU', 'Junior standing.', '', '', ''),\n",
       " ('BU 0220', 'Environmental Law and Policy', 'This course surveys issues arising out of federal laws designed to protect the environment and manage resources. It considers in detail the role of t ... (298 characters truncated) ... t groups in shaping environmental policy, giving special attention to the impact of environmental regulation on business and private property rights.', '3 Credits', 'Business', 'BU', '', '', '', 'EVME Environmental Studies Major Elective, EVPE Environmental Studies Elective, EVSS Environmental Studies: Social Science, MGEL Management: General Elective'),\n",
       " ('BU 0311', 'The Law of Contracts, Sales, and Property', 'This course examines the components of common law contracts including the concepts of offer and acceptance, consideration, capacity and legality, ass ... (117 characters truncated) ...  the Uniform Commercial Code relating to leases, sales of goods, and warranties. The course also considers personal and real property, and bailments.', '3 Credits', 'Business', 'BU', 'BU 0211.', '', '', '')]"
      ]
     },
     "execution_count": 32,
     "metadata": {},
     "output_type": "execute_result"
    }
   ],
   "source": [
    "%%sql \n",
    "\n",
    "--Checking data population of Course table-- \n",
    "\n",
    "SELECT * \n",
    "FROM COURSE\n",
    "LIMIT 5;"
   ]
  },
  {
   "cell_type": "code",
   "execution_count": 33,
   "metadata": {},
   "outputs": [
    {
     "name": "stdout",
     "output_type": "stream",
     "text": [
      " * sqlite:///CourseData.db\n",
      "Done.\n"
     ]
    },
    {
     "data": {
      "text/plain": [
       "[]"
      ]
     },
     "execution_count": 33,
     "metadata": {},
     "output_type": "execute_result"
    }
   ],
   "source": [
    "%%sql \n",
    "\n",
    "--Populating Instructor table using import_courses data--  \n",
    "\n",
    "INSERT INTO Instructor (Name)\n",
    "SELECT DISTINCT primary_instructor\n",
    "FROM import_courses\n",
    "WHERE primary_instructor <> 'TBA' AND primary_instructor NOT LIKE 'primary_instructor' AND primary_instructor NOT LIKE '%/';"
   ]
  },
  {
   "cell_type": "code",
   "execution_count": 34,
   "metadata": {},
   "outputs": [
    {
     "name": "stdout",
     "output_type": "stream",
     "text": [
      " * sqlite:///CourseData.db\n",
      "Done.\n"
     ]
    },
    {
     "data": {
      "text/html": [
       "<table>\n",
       "    <tr>\n",
       "        <th>InID</th>\n",
       "        <th>Name</th>\n",
       "    </tr>\n",
       "    <tr>\n",
       "        <td>1</td>\n",
       "        <td>Michael P.  Coyne</td>\n",
       "    </tr>\n",
       "    <tr>\n",
       "        <td>2</td>\n",
       "        <td>Rebecca I.  Bloch</td>\n",
       "    </tr>\n",
       "    <tr>\n",
       "        <td>3</td>\n",
       "        <td>Paul   Caster</td>\n",
       "    </tr>\n",
       "    <tr>\n",
       "        <td>4</td>\n",
       "        <td>Jo Ann   Drusbosky</td>\n",
       "    </tr>\n",
       "    <tr>\n",
       "        <td>5</td>\n",
       "        <td>Arleen N.  Kardos</td>\n",
       "    </tr>\n",
       "</table>"
      ],
      "text/plain": [
       "[(1, 'Michael P.  Coyne'),\n",
       " (2, 'Rebecca I.  Bloch'),\n",
       " (3, 'Paul   Caster'),\n",
       " (4, 'Jo Ann   Drusbosky'),\n",
       " (5, 'Arleen N.  Kardos')]"
      ]
     },
     "execution_count": 34,
     "metadata": {},
     "output_type": "execute_result"
    }
   ],
   "source": [
    "%%sql \n",
    "\n",
    "--Checking data population of Instructor table-- \n",
    "\n",
    "SELECT * \n",
    "FROM Instructor\n",
    "LIMIT 5;"
   ]
  },
  {
   "cell_type": "code",
   "execution_count": 35,
   "metadata": {},
   "outputs": [
    {
     "name": "stdout",
     "output_type": "stream",
     "text": [
      " * sqlite:///CourseData.db\n",
      "Done.\n"
     ]
    },
    {
     "data": {
      "text/plain": [
       "[]"
      ]
     },
     "execution_count": 35,
     "metadata": {},
     "output_type": "execute_result"
    }
   ],
   "source": [
    "%%sql \n",
    "\n",
    "--Populating the SECTION table using import_courses data--\n",
    "--Joining Instructor table using import_courses and instructor table--\n",
    "\n",
    "INSERT INTO SECTION (CRN, Term, Section, Cap, Act, Rem, CatID, InID)\n",
    "SELECT crn, term, section, cap, act, rem, catalog_id, InID\n",
    "FROM import_courses\n",
    "    JOIN Instructor ON (import_courses.primary_instructor = Instructor.Name)\n",
    ";"
   ]
  },
  {
   "cell_type": "code",
   "execution_count": 36,
   "metadata": {},
   "outputs": [
    {
     "name": "stdout",
     "output_type": "stream",
     "text": [
      " * sqlite:///CourseData.db\n",
      "Done.\n"
     ]
    },
    {
     "data": {
      "text/html": [
       "<table>\n",
       "    <tr>\n",
       "        <th>SID</th>\n",
       "        <th>CRN</th>\n",
       "        <th>Term</th>\n",
       "        <th>Section</th>\n",
       "        <th>Cap</th>\n",
       "        <th>Act</th>\n",
       "        <th>Rem</th>\n",
       "        <th>CatID</th>\n",
       "        <th>InID</th>\n",
       "    </tr>\n",
       "    <tr>\n",
       "        <td>1</td>\n",
       "        <td>70384</td>\n",
       "        <td>Fall2014</td>\n",
       "        <td>C01</td>\n",
       "        <td>0</td>\n",
       "        <td>31</td>\n",
       "        <td>-31</td>\n",
       "        <td>AC 0011</td>\n",
       "        <td>1</td>\n",
       "    </tr>\n",
       "    <tr>\n",
       "        <td>2</td>\n",
       "        <td>70385</td>\n",
       "        <td>Fall2014</td>\n",
       "        <td>C02</td>\n",
       "        <td>0</td>\n",
       "        <td>31</td>\n",
       "        <td>-31</td>\n",
       "        <td>AC 0011</td>\n",
       "        <td>1</td>\n",
       "    </tr>\n",
       "    <tr>\n",
       "        <td>3</td>\n",
       "        <td>70382</td>\n",
       "        <td>Fall2014</td>\n",
       "        <td>C03</td>\n",
       "        <td>0</td>\n",
       "        <td>31</td>\n",
       "        <td>-31</td>\n",
       "        <td>AC 0011</td>\n",
       "        <td>1</td>\n",
       "    </tr>\n",
       "    <tr>\n",
       "        <td>4</td>\n",
       "        <td>70291</td>\n",
       "        <td>Fall2014</td>\n",
       "        <td>C04</td>\n",
       "        <td>0</td>\n",
       "        <td>29</td>\n",
       "        <td>-29</td>\n",
       "        <td>AC 0011</td>\n",
       "        <td>2</td>\n",
       "    </tr>\n",
       "    <tr>\n",
       "        <td>5</td>\n",
       "        <td>70350</td>\n",
       "        <td>Fall2014</td>\n",
       "        <td>C05</td>\n",
       "        <td>0</td>\n",
       "        <td>30</td>\n",
       "        <td>-30</td>\n",
       "        <td>AC 0011</td>\n",
       "        <td>2</td>\n",
       "    </tr>\n",
       "    <tr>\n",
       "        <td>6</td>\n",
       "        <td>70381</td>\n",
       "        <td>Fall2014</td>\n",
       "        <td>C06</td>\n",
       "        <td>0</td>\n",
       "        <td>31</td>\n",
       "        <td>-31</td>\n",
       "        <td>AC 0011</td>\n",
       "        <td>2</td>\n",
       "    </tr>\n",
       "    <tr>\n",
       "        <td>7</td>\n",
       "        <td>70383</td>\n",
       "        <td>Fall2014</td>\n",
       "        <td>G</td>\n",
       "        <td>30</td>\n",
       "        <td>31</td>\n",
       "        <td>-1</td>\n",
       "        <td>AC 0011</td>\n",
       "        <td>3</td>\n",
       "    </tr>\n",
       "    <tr>\n",
       "        <td>8</td>\n",
       "        <td>70391</td>\n",
       "        <td>Fall2014</td>\n",
       "        <td>H</td>\n",
       "        <td>30</td>\n",
       "        <td>32</td>\n",
       "        <td>-2</td>\n",
       "        <td>AC 0011</td>\n",
       "        <td>4</td>\n",
       "    </tr>\n",
       "    <tr>\n",
       "        <td>9</td>\n",
       "        <td>71105</td>\n",
       "        <td>Fall2014</td>\n",
       "        <td>I</td>\n",
       "        <td>30</td>\n",
       "        <td>33</td>\n",
       "        <td>-3</td>\n",
       "        <td>AC 0011</td>\n",
       "        <td>4</td>\n",
       "    </tr>\n",
       "    <tr>\n",
       "        <td>10</td>\n",
       "        <td>71123</td>\n",
       "        <td>Fall2014</td>\n",
       "        <td>J</td>\n",
       "        <td>30</td>\n",
       "        <td>32</td>\n",
       "        <td>-2</td>\n",
       "        <td>AC 0011</td>\n",
       "        <td>4</td>\n",
       "    </tr>\n",
       "</table>"
      ],
      "text/plain": [
       "[(1, 70384, 'Fall2014', 'C01', 0, 31, -31, 'AC 0011', 1),\n",
       " (2, 70385, 'Fall2014', 'C02', 0, 31, -31, 'AC 0011', 1),\n",
       " (3, 70382, 'Fall2014', 'C03', 0, 31, -31, 'AC 0011', 1),\n",
       " (4, 70291, 'Fall2014', 'C04', 0, 29, -29, 'AC 0011', 2),\n",
       " (5, 70350, 'Fall2014', 'C05', 0, 30, -30, 'AC 0011', 2),\n",
       " (6, 70381, 'Fall2014', 'C06', 0, 31, -31, 'AC 0011', 2),\n",
       " (7, 70383, 'Fall2014', 'G', 30, 31, -1, 'AC 0011', 3),\n",
       " (8, 70391, 'Fall2014', 'H', 30, 32, -2, 'AC 0011', 4),\n",
       " (9, 71105, 'Fall2014', 'I', 30, 33, -3, 'AC 0011', 4),\n",
       " (10, 71123, 'Fall2014', 'J', 30, 32, -2, 'AC 0011', 4)]"
      ]
     },
     "execution_count": 36,
     "metadata": {},
     "output_type": "execute_result"
    }
   ],
   "source": [
    "%%sql \n",
    "\n",
    "--Checking data population of Section table--\n",
    "\n",
    "SELECT * \n",
    "FROM Section\n",
    "LIMIT 10;"
   ]
  },
  {
   "cell_type": "code",
   "execution_count": 37,
   "metadata": {},
   "outputs": [
    {
     "name": "stdout",
     "output_type": "stream",
     "text": [
      " * sqlite:///CourseData.db\n",
      "Done.\n"
     ]
    },
    {
     "data": {
      "text/html": [
       "<table>\n",
       "    <tr>\n",
       "        <th>COUNT(CatID)</th>\n",
       "    </tr>\n",
       "    <tr>\n",
       "        <td>55</td>\n",
       "    </tr>\n",
       "</table>"
      ],
      "text/plain": [
       "[(55,)]"
      ]
     },
     "execution_count": 37,
     "metadata": {},
     "output_type": "execute_result"
    }
   ],
   "source": [
    "%%sql\n",
    "SELECT COUNT(CatID) \n",
    "FROM COURSE\n",
    "WHERE Credits = '4 Credits' \n",
    "LIMIT 5;"
   ]
  },
  {
   "cell_type": "code",
   "execution_count": 38,
   "metadata": {},
   "outputs": [
    {
     "name": "stdout",
     "output_type": "stream",
     "text": [
      " * sqlite:///CourseData.db\n",
      "Done.\n"
     ]
    },
    {
     "data": {
      "text/html": [
       "<table>\n",
       "    <tr>\n",
       "        <th>COUNT(InID)</th>\n",
       "    </tr>\n",
       "    <tr>\n",
       "        <td>1103</td>\n",
       "    </tr>\n",
       "</table>"
      ],
      "text/plain": [
       "[(1103,)]"
      ]
     },
     "execution_count": 38,
     "metadata": {},
     "output_type": "execute_result"
    }
   ],
   "source": [
    "%%sql\n",
    "SELECT COUNT(InID) \n",
    "FROM Instructor \n",
    "LIMIT 5;"
   ]
  },
  {
   "cell_type": "code",
   "execution_count": 39,
   "metadata": {},
   "outputs": [
    {
     "name": "stdout",
     "output_type": "stream",
     "text": [
      " * sqlite:///CourseData.db\n",
      "Done.\n"
     ]
    },
    {
     "data": {
      "text/html": [
       "<table>\n",
       "    <tr>\n",
       "        <th>CourseHours</th>\n",
       "        <th>CRN</th>\n",
       "        <th>Location</th>\n",
       "        <th>Term</th>\n",
       "    </tr>\n",
       "    <tr>\n",
       "        <td>1142</td>\n",
       "        <td>31036</td>\n",
       "        <td>SON 203</td>\n",
       "        <td>Spring2017</td>\n",
       "    </tr>\n",
       "    <tr>\n",
       "        <td>1076</td>\n",
       "        <td>34033</td>\n",
       "        <td>NHS 224</td>\n",
       "        <td>Spring2018</td>\n",
       "    </tr>\n",
       "    <tr>\n",
       "        <td>994</td>\n",
       "        <td>31444</td>\n",
       "        <td>YAL </td>\n",
       "        <td>Spring2017</td>\n",
       "    </tr>\n",
       "    <tr>\n",
       "        <td>989</td>\n",
       "        <td>75648</td>\n",
       "        <td>BY ARR </td>\n",
       "        <td>Fall2015</td>\n",
       "    </tr>\n",
       "    <tr>\n",
       "        <td>938</td>\n",
       "        <td>37882</td>\n",
       "        <td>YAL </td>\n",
       "        <td>Spring2019</td>\n",
       "    </tr>\n",
       "    <tr>\n",
       "        <td>910</td>\n",
       "        <td>77724</td>\n",
       "        <td>YAL </td>\n",
       "        <td>Fall2016</td>\n",
       "    </tr>\n",
       "    <tr>\n",
       "        <td>903</td>\n",
       "        <td>71483</td>\n",
       "        <td>VA </td>\n",
       "        <td>Fall2017</td>\n",
       "    </tr>\n",
       "    <tr>\n",
       "        <td>899</td>\n",
       "        <td>37032</td>\n",
       "        <td>NHS 224</td>\n",
       "        <td>Spring2019</td>\n",
       "    </tr>\n",
       "    <tr>\n",
       "        <td>890</td>\n",
       "        <td>71543</td>\n",
       "        <td>YAL </td>\n",
       "        <td>Fall2014</td>\n",
       "    </tr>\n",
       "    <tr>\n",
       "        <td>862</td>\n",
       "        <td>74666</td>\n",
       "        <td>BNW 127</td>\n",
       "        <td>Fall2018</td>\n",
       "    </tr>\n",
       "</table>"
      ],
      "text/plain": [
       "[(1142, 31036, 'SON 203', 'Spring2017'),\n",
       " (1076, 34033, 'NHS 224', 'Spring2018'),\n",
       " (994, 31444, 'YAL ', 'Spring2017'),\n",
       " (989, 75648, 'BY ARR ', 'Fall2015'),\n",
       " (938, 37882, 'YAL ', 'Spring2019'),\n",
       " (910, 77724, 'YAL ', 'Fall2016'),\n",
       " (903, 71483, 'VA ', 'Fall2017'),\n",
       " (899, 37032, 'NHS 224', 'Spring2019'),\n",
       " (890, 71543, 'YAL ', 'Fall2014'),\n",
       " (862, 74666, 'BNW 127', 'Fall2018')]"
      ]
     },
     "execution_count": 39,
     "metadata": {},
     "output_type": "execute_result"
    }
   ],
   "source": [
    "%%sql \n",
    "\n",
    "SELECT (SUM(strftime('%s',End)-strftime('%s',Start))/60)/60 AS CourseHours, CRN, Location, Term\n",
    "FROM Course_Meetings\n",
    "GROUP BY Location, Term\n",
    "ORDER BY CourseHours DESC\n",
    "LIMIT 10;"
   ]
  },
  {
   "cell_type": "code",
   "execution_count": 40,
   "metadata": {},
   "outputs": [
    {
     "name": "stdout",
     "output_type": "stream",
     "text": [
      " * sqlite:///CourseData.db\n",
      "Done.\n"
     ]
    },
    {
     "data": {
      "text/html": [
       "<table>\n",
       "    <tr>\n",
       "        <th>COUNT(CRN)</th>\n",
       "        <th>Location</th>\n",
       "        <th>Term</th>\n",
       "        <th>CourseHours</th>\n",
       "    </tr>\n",
       "    <tr>\n",
       "        <td>343</td>\n",
       "        <td>SON 203</td>\n",
       "        <td>Spring2017</td>\n",
       "        <td>1142</td>\n",
       "    </tr>\n",
       "    <tr>\n",
       "        <td>303</td>\n",
       "        <td>NHS 224</td>\n",
       "        <td>Spring2018</td>\n",
       "        <td>1076</td>\n",
       "    </tr>\n",
       "    <tr>\n",
       "        <td>156</td>\n",
       "        <td>YAL </td>\n",
       "        <td>Spring2017</td>\n",
       "        <td>994</td>\n",
       "    </tr>\n",
       "    <tr>\n",
       "        <td>133</td>\n",
       "        <td>BY ARR </td>\n",
       "        <td>Fall2015</td>\n",
       "        <td>989</td>\n",
       "    </tr>\n",
       "    <tr>\n",
       "        <td>134</td>\n",
       "        <td>YAL </td>\n",
       "        <td>Spring2019</td>\n",
       "        <td>938</td>\n",
       "    </tr>\n",
       "    <tr>\n",
       "        <td>130</td>\n",
       "        <td>YAL </td>\n",
       "        <td>Fall2016</td>\n",
       "        <td>910</td>\n",
       "    </tr>\n",
       "    <tr>\n",
       "        <td>129</td>\n",
       "        <td>VA </td>\n",
       "        <td>Fall2017</td>\n",
       "        <td>903</td>\n",
       "    </tr>\n",
       "    <tr>\n",
       "        <td>268</td>\n",
       "        <td>NHS 224</td>\n",
       "        <td>Spring2019</td>\n",
       "        <td>899</td>\n",
       "    </tr>\n",
       "    <tr>\n",
       "        <td>141</td>\n",
       "        <td>YAL </td>\n",
       "        <td>Fall2014</td>\n",
       "        <td>890</td>\n",
       "    </tr>\n",
       "    <tr>\n",
       "        <td>590</td>\n",
       "        <td>BNW 127</td>\n",
       "        <td>Fall2018</td>\n",
       "        <td>862</td>\n",
       "    </tr>\n",
       "    <tr>\n",
       "        <td>456</td>\n",
       "        <td>DSB 106</td>\n",
       "        <td>Fall2018</td>\n",
       "        <td>843</td>\n",
       "    </tr>\n",
       "    <tr>\n",
       "        <td>359</td>\n",
       "        <td>DSB 111</td>\n",
       "        <td>Spring2016</td>\n",
       "        <td>837</td>\n",
       "    </tr>\n",
       "    <tr>\n",
       "        <td>370</td>\n",
       "        <td>DSB 112</td>\n",
       "        <td>Fall2014</td>\n",
       "        <td>833</td>\n",
       "    </tr>\n",
       "    <tr>\n",
       "        <td>117</td>\n",
       "        <td>VA </td>\n",
       "        <td>Fall2018</td>\n",
       "        <td>819</td>\n",
       "    </tr>\n",
       "    <tr>\n",
       "        <td>393</td>\n",
       "        <td>DSB 105</td>\n",
       "        <td>Spring2019</td>\n",
       "        <td>816</td>\n",
       "    </tr>\n",
       "    <tr>\n",
       "        <td>102</td>\n",
       "        <td>DSB 110</td>\n",
       "        <td>Spring2016</td>\n",
       "        <td>816</td>\n",
       "    </tr>\n",
       "    <tr>\n",
       "        <td>606</td>\n",
       "        <td>BNW 137</td>\n",
       "        <td>Fall2018</td>\n",
       "        <td>803</td>\n",
       "    </tr>\n",
       "    <tr>\n",
       "        <td>397</td>\n",
       "        <td>DSB 111</td>\n",
       "        <td>Spring2017</td>\n",
       "        <td>796</td>\n",
       "    </tr>\n",
       "    <tr>\n",
       "        <td>468</td>\n",
       "        <td>DSB 109</td>\n",
       "        <td>Spring2017</td>\n",
       "        <td>792</td>\n",
       "    </tr>\n",
       "    <tr>\n",
       "        <td>113</td>\n",
       "        <td>VA </td>\n",
       "        <td>Spring2018</td>\n",
       "        <td>791</td>\n",
       "    </tr>\n",
       "</table>"
      ],
      "text/plain": [
       "[(343, 'SON 203', 'Spring2017', 1142),\n",
       " (303, 'NHS 224', 'Spring2018', 1076),\n",
       " (156, 'YAL ', 'Spring2017', 994),\n",
       " (133, 'BY ARR ', 'Fall2015', 989),\n",
       " (134, 'YAL ', 'Spring2019', 938),\n",
       " (130, 'YAL ', 'Fall2016', 910),\n",
       " (129, 'VA ', 'Fall2017', 903),\n",
       " (268, 'NHS 224', 'Spring2019', 899),\n",
       " (141, 'YAL ', 'Fall2014', 890),\n",
       " (590, 'BNW 127', 'Fall2018', 862),\n",
       " (456, 'DSB 106', 'Fall2018', 843),\n",
       " (359, 'DSB 111', 'Spring2016', 837),\n",
       " (370, 'DSB 112', 'Fall2014', 833),\n",
       " (117, 'VA ', 'Fall2018', 819),\n",
       " (393, 'DSB 105', 'Spring2019', 816),\n",
       " (102, 'DSB 110', 'Spring2016', 816),\n",
       " (606, 'BNW 137', 'Fall2018', 803),\n",
       " (397, 'DSB 111', 'Spring2017', 796),\n",
       " (468, 'DSB 109', 'Spring2017', 792),\n",
       " (113, 'VA ', 'Spring2018', 791)]"
      ]
     },
     "execution_count": 40,
     "metadata": {},
     "output_type": "execute_result"
    }
   ],
   "source": [
    "%%sql \n",
    "\n",
    "SELECT COUNT(CRN), Location, Term, (SUM(strftime('%s',End)-strftime('%s',Start))/60)/60 AS CourseHours\n",
    "FROM Course_Meetings\n",
    "GROUP BY Location, Term\n",
    "ORDER BY CourseHours DESC\n",
    "LIMIT 20;"
   ]
  },
  {
   "cell_type": "code",
   "execution_count": 41,
   "metadata": {},
   "outputs": [
    {
     "name": "stdout",
     "output_type": "stream",
     "text": [
      " * sqlite:///CourseData.db\n",
      "Done.\n"
     ]
    },
    {
     "data": {
      "text/html": [
       "<table>\n",
       "    <tr>\n",
       "        <th>AmountTaught</th>\n",
       "        <th>InID</th>\n",
       "        <th>Term</th>\n",
       "    </tr>\n",
       "    <tr>\n",
       "        <td>108</td>\n",
       "        <td>730</td>\n",
       "        <td>Fall2017</td>\n",
       "    </tr>\n",
       "    <tr>\n",
       "        <td>64</td>\n",
       "        <td>173</td>\n",
       "        <td>Fall2017</td>\n",
       "    </tr>\n",
       "    <tr>\n",
       "        <td>54</td>\n",
       "        <td>730</td>\n",
       "        <td>Fall2018</td>\n",
       "    </tr>\n",
       "    <tr>\n",
       "        <td>51</td>\n",
       "        <td>730</td>\n",
       "        <td>Fall2016</td>\n",
       "    </tr>\n",
       "    <tr>\n",
       "        <td>50</td>\n",
       "        <td>245</td>\n",
       "        <td>Fall2015</td>\n",
       "    </tr>\n",
       "    <tr>\n",
       "        <td>46</td>\n",
       "        <td>245</td>\n",
       "        <td>Fall2014</td>\n",
       "    </tr>\n",
       "    <tr>\n",
       "        <td>32</td>\n",
       "        <td>173</td>\n",
       "        <td>Spring2016</td>\n",
       "    </tr>\n",
       "    <tr>\n",
       "        <td>31</td>\n",
       "        <td>173</td>\n",
       "        <td>Fall2015</td>\n",
       "    </tr>\n",
       "    <tr>\n",
       "        <td>31</td>\n",
       "        <td>173</td>\n",
       "        <td>Fall2016</td>\n",
       "    </tr>\n",
       "    <tr>\n",
       "        <td>31</td>\n",
       "        <td>173</td>\n",
       "        <td>Spring2017</td>\n",
       "    </tr>\n",
       "</table>"
      ],
      "text/plain": [
       "[(108, 730, 'Fall2017'),\n",
       " (64, 173, 'Fall2017'),\n",
       " (54, 730, 'Fall2018'),\n",
       " (51, 730, 'Fall2016'),\n",
       " (50, 245, 'Fall2015'),\n",
       " (46, 245, 'Fall2014'),\n",
       " (32, 173, 'Spring2016'),\n",
       " (31, 173, 'Fall2015'),\n",
       " (31, 173, 'Fall2016'),\n",
       " (31, 173, 'Spring2017')]"
      ]
     },
     "execution_count": 41,
     "metadata": {},
     "output_type": "execute_result"
    }
   ],
   "source": [
    "%%sql\n",
    "SELECT COUNT(InID) AS AmountTaught, InID, Term\n",
    "FROM SECTION\n",
    "GROUP BY InID, Term\n",
    "ORDER BY AmountTaught DESC\n",
    "LIMIT 10;"
   ]
  },
  {
   "cell_type": "code",
   "execution_count": 42,
   "metadata": {},
   "outputs": [
    {
     "name": "stdout",
     "output_type": "stream",
     "text": [
      " * sqlite:///CourseData.db\n",
      "Done.\n"
     ]
    },
    {
     "data": {
      "text/html": [
       "<table>\n",
       "    <tr>\n",
       "        <th>InID</th>\n",
       "        <th>Term</th>\n",
       "        <th>Name</th>\n",
       "        <th>NumCoursesTaught</th>\n",
       "    </tr>\n",
       "    <tr>\n",
       "        <td>1</td>\n",
       "        <td>Summer2017</td>\n",
       "        <td>Michael P.  Coyne</td>\n",
       "        <td>1</td>\n",
       "    </tr>\n",
       "    <tr>\n",
       "        <td>1</td>\n",
       "        <td>Summer2018</td>\n",
       "        <td>Michael P.  Coyne</td>\n",
       "        <td>1</td>\n",
       "    </tr>\n",
       "    <tr>\n",
       "        <td>6</td>\n",
       "        <td>Spring2015</td>\n",
       "        <td>Scott M  Brenner</td>\n",
       "        <td>1</td>\n",
       "    </tr>\n",
       "    <tr>\n",
       "        <td>6</td>\n",
       "        <td>Spring2016</td>\n",
       "        <td>Scott M  Brenner</td>\n",
       "        <td>1</td>\n",
       "    </tr>\n",
       "    <tr>\n",
       "        <td>6</td>\n",
       "        <td>Spring2017</td>\n",
       "        <td>Scott M  Brenner</td>\n",
       "        <td>1</td>\n",
       "    </tr>\n",
       "    <tr>\n",
       "        <td>6</td>\n",
       "        <td>Spring2018</td>\n",
       "        <td>Scott M  Brenner</td>\n",
       "        <td>1</td>\n",
       "    </tr>\n",
       "    <tr>\n",
       "        <td>7</td>\n",
       "        <td>Fall2014</td>\n",
       "        <td>Kevin C.  Cassidy</td>\n",
       "        <td>1</td>\n",
       "    </tr>\n",
       "    <tr>\n",
       "        <td>7</td>\n",
       "        <td>Spring2016</td>\n",
       "        <td>Kevin C.  Cassidy</td>\n",
       "        <td>1</td>\n",
       "    </tr>\n",
       "    <tr>\n",
       "        <td>10</td>\n",
       "        <td>Fall2015</td>\n",
       "        <td>Stephen E.  Yost</td>\n",
       "        <td>1</td>\n",
       "    </tr>\n",
       "    <tr>\n",
       "        <td>10</td>\n",
       "        <td>Fall2016</td>\n",
       "        <td>Stephen E.  Yost</td>\n",
       "        <td>1</td>\n",
       "    </tr>\n",
       "</table>"
      ],
      "text/plain": [
       "[(1, 'Summer2017', 'Michael P.  Coyne', 1),\n",
       " (1, 'Summer2018', 'Michael P.  Coyne', 1),\n",
       " (6, 'Spring2015', 'Scott M  Brenner', 1),\n",
       " (6, 'Spring2016', 'Scott M  Brenner', 1),\n",
       " (6, 'Spring2017', 'Scott M  Brenner', 1),\n",
       " (6, 'Spring2018', 'Scott M  Brenner', 1),\n",
       " (7, 'Fall2014', 'Kevin C.  Cassidy', 1),\n",
       " (7, 'Spring2016', 'Kevin C.  Cassidy', 1),\n",
       " (10, 'Fall2015', 'Stephen E.  Yost', 1),\n",
       " (10, 'Fall2016', 'Stephen E.  Yost', 1)]"
      ]
     },
     "execution_count": 42,
     "metadata": {},
     "output_type": "execute_result"
    }
   ],
   "source": [
    "%%sql \n",
    "SELECT InID, Term, Name, Count(Name) AS NumCoursesTaught\n",
    "FROM Instructor\n",
    "    JOIN SECTION USING (InID)\n",
    "GROUP BY InID, Term\n",
    "ORDER BY NumCoursesTaught ASC\n",
    "LIMIT 10;"
   ]
  },
  {
   "cell_type": "code",
   "execution_count": 43,
   "metadata": {},
   "outputs": [
    {
     "name": "stdout",
     "output_type": "stream",
     "text": [
      " * sqlite:///CourseData.db\n",
      "Done.\n"
     ]
    },
    {
     "data": {
      "text/html": [
       "<table>\n",
       "    <tr>\n",
       "        <th>AverageCapacity</th>\n",
       "    </tr>\n",
       "    <tr>\n",
       "        <td>22.9560507107184</td>\n",
       "    </tr>\n",
       "</table>"
      ],
      "text/plain": [
       "[(22.9560507107184,)]"
      ]
     },
     "execution_count": 43,
     "metadata": {},
     "output_type": "execute_result"
    }
   ],
   "source": [
    "%%sql \n",
    "SELECT AVG(CAP) as AverageCapacity\n",
    "FROM SECTION \n",
    "WHERE CAP>10;"
   ]
  },
  {
   "cell_type": "code",
   "execution_count": 44,
   "metadata": {},
   "outputs": [
    {
     "name": "stdout",
     "output_type": "stream",
     "text": [
      " * sqlite:///CourseData.db\n",
      "Done.\n"
     ]
    },
    {
     "data": {
      "text/html": [
       "<table>\n",
       "    <tr>\n",
       "        <th>SID</th>\n",
       "        <th>CRN</th>\n",
       "        <th>Term</th>\n",
       "        <th>Section</th>\n",
       "        <th>Cap</th>\n",
       "        <th>Act</th>\n",
       "        <th>Rem</th>\n",
       "        <th>CatID</th>\n",
       "        <th>InID</th>\n",
       "    </tr>\n",
       "    <tr>\n",
       "        <td>416</td>\n",
       "        <td>73240</td>\n",
       "        <td>Fall2014</td>\n",
       "        <td>AA3</td>\n",
       "        <td>19</td>\n",
       "        <td>19</td>\n",
       "        <td>0</td>\n",
       "        <td>EN 0011</td>\n",
       "        <td>174</td>\n",
       "    </tr>\n",
       "    <tr>\n",
       "        <td>442</td>\n",
       "        <td>70909</td>\n",
       "        <td>Fall2014</td>\n",
       "        <td>KK</td>\n",
       "        <td>19</td>\n",
       "        <td>18</td>\n",
       "        <td>1</td>\n",
       "        <td>EN 0011</td>\n",
       "        <td>174</td>\n",
       "    </tr>\n",
       "    <tr>\n",
       "        <td>1912</td>\n",
       "        <td>75013</td>\n",
       "        <td>Fall2015</td>\n",
       "        <td>C01</td>\n",
       "        <td>0</td>\n",
       "        <td>19</td>\n",
       "        <td>-19</td>\n",
       "        <td>EN 0011</td>\n",
       "        <td>174</td>\n",
       "    </tr>\n",
       "    <tr>\n",
       "        <td>1918</td>\n",
       "        <td>75548</td>\n",
       "        <td>Fall2015</td>\n",
       "        <td>C08</td>\n",
       "        <td>0</td>\n",
       "        <td>19</td>\n",
       "        <td>-19</td>\n",
       "        <td>EN 0011</td>\n",
       "        <td>174</td>\n",
       "    </tr>\n",
       "    <tr>\n",
       "        <td>1954</td>\n",
       "        <td>75035</td>\n",
       "        <td>Fall2015</td>\n",
       "        <td>W</td>\n",
       "        <td>19</td>\n",
       "        <td>19</td>\n",
       "        <td>0</td>\n",
       "        <td>EN 0011</td>\n",
       "        <td>174</td>\n",
       "    </tr>\n",
       "    <tr>\n",
       "        <td>3386</td>\n",
       "        <td>77015</td>\n",
       "        <td>Fall2016</td>\n",
       "        <td>09</td>\n",
       "        <td>19</td>\n",
       "        <td>17</td>\n",
       "        <td>2</td>\n",
       "        <td>EN 0011</td>\n",
       "        <td>174</td>\n",
       "    </tr>\n",
       "    <tr>\n",
       "        <td>3423</td>\n",
       "        <td>77678</td>\n",
       "        <td>Fall2016</td>\n",
       "        <td>46C</td>\n",
       "        <td>0</td>\n",
       "        <td>18</td>\n",
       "        <td>-18</td>\n",
       "        <td>EN 0011</td>\n",
       "        <td>174</td>\n",
       "    </tr>\n",
       "    <tr>\n",
       "        <td>4866</td>\n",
       "        <td>71015</td>\n",
       "        <td>Fall2017</td>\n",
       "        <td>09</td>\n",
       "        <td>19</td>\n",
       "        <td>19</td>\n",
       "        <td>0</td>\n",
       "        <td>EN 0011</td>\n",
       "        <td>174</td>\n",
       "    </tr>\n",
       "    <tr>\n",
       "        <td>4884</td>\n",
       "        <td>71334</td>\n",
       "        <td>Fall2017</td>\n",
       "        <td>27</td>\n",
       "        <td>19</td>\n",
       "        <td>19</td>\n",
       "        <td>0</td>\n",
       "        <td>EN 0011</td>\n",
       "        <td>174</td>\n",
       "    </tr>\n",
       "    <tr>\n",
       "        <td>4895</td>\n",
       "        <td>71439</td>\n",
       "        <td>Fall2017</td>\n",
       "        <td>39</td>\n",
       "        <td>19</td>\n",
       "        <td>18</td>\n",
       "        <td>1</td>\n",
       "        <td>EN 0011</td>\n",
       "        <td>174</td>\n",
       "    </tr>\n",
       "    <tr>\n",
       "        <td>6332</td>\n",
       "        <td>71015</td>\n",
       "        <td>Fall2017</td>\n",
       "        <td>09</td>\n",
       "        <td>19</td>\n",
       "        <td>19</td>\n",
       "        <td>0</td>\n",
       "        <td>EN 0011</td>\n",
       "        <td>174</td>\n",
       "    </tr>\n",
       "    <tr>\n",
       "        <td>6350</td>\n",
       "        <td>71334</td>\n",
       "        <td>Fall2017</td>\n",
       "        <td>27</td>\n",
       "        <td>19</td>\n",
       "        <td>19</td>\n",
       "        <td>0</td>\n",
       "        <td>EN 0011</td>\n",
       "        <td>174</td>\n",
       "    </tr>\n",
       "    <tr>\n",
       "        <td>6361</td>\n",
       "        <td>71439</td>\n",
       "        <td>Fall2017</td>\n",
       "        <td>39</td>\n",
       "        <td>19</td>\n",
       "        <td>18</td>\n",
       "        <td>1</td>\n",
       "        <td>EN 0011</td>\n",
       "        <td>174</td>\n",
       "    </tr>\n",
       "    <tr>\n",
       "        <td>7829</td>\n",
       "        <td>74015</td>\n",
       "        <td>Fall2018</td>\n",
       "        <td>09C</td>\n",
       "        <td>0</td>\n",
       "        <td>18</td>\n",
       "        <td>-18</td>\n",
       "        <td>EN 0011</td>\n",
       "        <td>174</td>\n",
       "    </tr>\n",
       "    <tr>\n",
       "        <td>7847</td>\n",
       "        <td>74314</td>\n",
       "        <td>Fall2018</td>\n",
       "        <td>27C</td>\n",
       "        <td>0</td>\n",
       "        <td>18</td>\n",
       "        <td>-18</td>\n",
       "        <td>EN 0011</td>\n",
       "        <td>174</td>\n",
       "    </tr>\n",
       "    <tr>\n",
       "        <td>9314</td>\n",
       "        <td>31962</td>\n",
       "        <td>Spring2015</td>\n",
       "        <td>EE</td>\n",
       "        <td>19</td>\n",
       "        <td>18</td>\n",
       "        <td>1</td>\n",
       "        <td>EN 0012</td>\n",
       "        <td>174</td>\n",
       "    </tr>\n",
       "    <tr>\n",
       "        <td>9318</td>\n",
       "        <td>31838</td>\n",
       "        <td>Spring2015</td>\n",
       "        <td>GG</td>\n",
       "        <td>19</td>\n",
       "        <td>20</td>\n",
       "        <td>-1</td>\n",
       "        <td>EN 0012</td>\n",
       "        <td>174</td>\n",
       "    </tr>\n",
       "    <tr>\n",
       "        <td>9353</td>\n",
       "        <td>33222</td>\n",
       "        <td>Spring2015</td>\n",
       "        <td>Y</td>\n",
       "        <td>19</td>\n",
       "        <td>19</td>\n",
       "        <td>0</td>\n",
       "        <td>EN 0012</td>\n",
       "        <td>174</td>\n",
       "    </tr>\n",
       "    <tr>\n",
       "        <td>10697</td>\n",
       "        <td>37005</td>\n",
       "        <td>Spring2016</td>\n",
       "        <td>D</td>\n",
       "        <td>19</td>\n",
       "        <td>17</td>\n",
       "        <td>2</td>\n",
       "        <td>EN 0012</td>\n",
       "        <td>174</td>\n",
       "    </tr>\n",
       "    <tr>\n",
       "        <td>10729</td>\n",
       "        <td>37578</td>\n",
       "        <td>Spring2016</td>\n",
       "        <td>TT</td>\n",
       "        <td>19</td>\n",
       "        <td>19</td>\n",
       "        <td>0</td>\n",
       "        <td>EN 0012</td>\n",
       "        <td>174</td>\n",
       "    </tr>\n",
       "    <tr>\n",
       "        <td>12105</td>\n",
       "        <td>31007</td>\n",
       "        <td>Spring2017</td>\n",
       "        <td>07</td>\n",
       "        <td>19</td>\n",
       "        <td>19</td>\n",
       "        <td>0</td>\n",
       "        <td>EN 0012</td>\n",
       "        <td>174</td>\n",
       "    </tr>\n",
       "    <tr>\n",
       "        <td>12144</td>\n",
       "        <td>32788</td>\n",
       "        <td>Spring2017</td>\n",
       "        <td>48</td>\n",
       "        <td>19</td>\n",
       "        <td>19</td>\n",
       "        <td>0</td>\n",
       "        <td>EN 0012</td>\n",
       "        <td>174</td>\n",
       "    </tr>\n",
       "    <tr>\n",
       "        <td>12183</td>\n",
       "        <td>31826</td>\n",
       "        <td>Spring2017</td>\n",
       "        <td>01</td>\n",
       "        <td>15</td>\n",
       "        <td>15</td>\n",
       "        <td>0</td>\n",
       "        <td>ENW 0205</td>\n",
       "        <td>174</td>\n",
       "    </tr>\n",
       "    <tr>\n",
       "        <td>13502</td>\n",
       "        <td>34007</td>\n",
       "        <td>Spring2018</td>\n",
       "        <td>07</td>\n",
       "        <td>19</td>\n",
       "        <td>19</td>\n",
       "        <td>0</td>\n",
       "        <td>EN 0012</td>\n",
       "        <td>174</td>\n",
       "    </tr>\n",
       "    <tr>\n",
       "        <td>13539</td>\n",
       "        <td>35268</td>\n",
       "        <td>Spring2018</td>\n",
       "        <td>45</td>\n",
       "        <td>19</td>\n",
       "        <td>18</td>\n",
       "        <td>1</td>\n",
       "        <td>EN 0012</td>\n",
       "        <td>174</td>\n",
       "    </tr>\n",
       "    <tr>\n",
       "        <td>13547</td>\n",
       "        <td>35276</td>\n",
       "        <td>Spring2018</td>\n",
       "        <td>OL1</td>\n",
       "        <td>17</td>\n",
       "        <td>17</td>\n",
       "        <td>0</td>\n",
       "        <td>EN 0101</td>\n",
       "        <td>174</td>\n",
       "    </tr>\n",
       "    <tr>\n",
       "        <td>14947</td>\n",
       "        <td>37007</td>\n",
       "        <td>Spring2019</td>\n",
       "        <td>07</td>\n",
       "        <td>19</td>\n",
       "        <td>19</td>\n",
       "        <td>0</td>\n",
       "        <td>EN 0012</td>\n",
       "        <td>174</td>\n",
       "    </tr>\n",
       "    <tr>\n",
       "        <td>14983</td>\n",
       "        <td>37992</td>\n",
       "        <td>Spring2019</td>\n",
       "        <td>44</td>\n",
       "        <td>19</td>\n",
       "        <td>19</td>\n",
       "        <td>0</td>\n",
       "        <td>EN 0012</td>\n",
       "        <td>174</td>\n",
       "    </tr>\n",
       "    <tr>\n",
       "        <td>16366</td>\n",
       "        <td>56157</td>\n",
       "        <td>Summer2016</td>\n",
       "        <td>OL1</td>\n",
       "        <td>20</td>\n",
       "        <td>6</td>\n",
       "        <td>14</td>\n",
       "        <td>EN 0012</td>\n",
       "        <td>174</td>\n",
       "    </tr>\n",
       "    <tr>\n",
       "        <td>16678</td>\n",
       "        <td>57114</td>\n",
       "        <td>Summer2017</td>\n",
       "        <td>OL1</td>\n",
       "        <td>20</td>\n",
       "        <td>9</td>\n",
       "        <td>11</td>\n",
       "        <td>EN 0012</td>\n",
       "        <td>174</td>\n",
       "    </tr>\n",
       "</table>"
      ],
      "text/plain": [
       "[(416, 73240, 'Fall2014', 'AA3', 19, 19, 0, 'EN 0011', 174),\n",
       " (442, 70909, 'Fall2014', 'KK', 19, 18, 1, 'EN 0011', 174),\n",
       " (1912, 75013, 'Fall2015', 'C01', 0, 19, -19, 'EN 0011', 174),\n",
       " (1918, 75548, 'Fall2015', 'C08', 0, 19, -19, 'EN 0011', 174),\n",
       " (1954, 75035, 'Fall2015', 'W', 19, 19, 0, 'EN 0011', 174),\n",
       " (3386, 77015, 'Fall2016', '09', 19, 17, 2, 'EN 0011', 174),\n",
       " (3423, 77678, 'Fall2016', '46C', 0, 18, -18, 'EN 0011', 174),\n",
       " (4866, 71015, 'Fall2017', '09', 19, 19, 0, 'EN 0011', 174),\n",
       " (4884, 71334, 'Fall2017', '27', 19, 19, 0, 'EN 0011', 174),\n",
       " (4895, 71439, 'Fall2017', '39', 19, 18, 1, 'EN 0011', 174),\n",
       " (6332, 71015, 'Fall2017', '09', 19, 19, 0, 'EN 0011', 174),\n",
       " (6350, 71334, 'Fall2017', '27', 19, 19, 0, 'EN 0011', 174),\n",
       " (6361, 71439, 'Fall2017', '39', 19, 18, 1, 'EN 0011', 174),\n",
       " (7829, 74015, 'Fall2018', '09C', 0, 18, -18, 'EN 0011', 174),\n",
       " (7847, 74314, 'Fall2018', '27C', 0, 18, -18, 'EN 0011', 174),\n",
       " (9314, 31962, 'Spring2015', 'EE', 19, 18, 1, 'EN 0012', 174),\n",
       " (9318, 31838, 'Spring2015', 'GG', 19, 20, -1, 'EN 0012', 174),\n",
       " (9353, 33222, 'Spring2015', 'Y', 19, 19, 0, 'EN 0012', 174),\n",
       " (10697, 37005, 'Spring2016', 'D', 19, 17, 2, 'EN 0012', 174),\n",
       " (10729, 37578, 'Spring2016', 'TT', 19, 19, 0, 'EN 0012', 174),\n",
       " (12105, 31007, 'Spring2017', '07', 19, 19, 0, 'EN 0012', 174),\n",
       " (12144, 32788, 'Spring2017', '48', 19, 19, 0, 'EN 0012', 174),\n",
       " (12183, 31826, 'Spring2017', '01', 15, 15, 0, 'ENW 0205', 174),\n",
       " (13502, 34007, 'Spring2018', '07', 19, 19, 0, 'EN 0012', 174),\n",
       " (13539, 35268, 'Spring2018', '45', 19, 18, 1, 'EN 0012', 174),\n",
       " (13547, 35276, 'Spring2018', 'OL1', 17, 17, 0, 'EN 0101', 174),\n",
       " (14947, 37007, 'Spring2019', '07', 19, 19, 0, 'EN 0012', 174),\n",
       " (14983, 37992, 'Spring2019', '44', 19, 19, 0, 'EN 0012', 174),\n",
       " (16366, 56157, 'Summer2016', 'OL1', 20, 6, 14, 'EN 0012', 174),\n",
       " (16678, 57114, 'Summer2017', 'OL1', 20, 9, 11, 'EN 0012', 174)]"
      ]
     },
     "execution_count": 44,
     "metadata": {},
     "output_type": "execute_result"
    }
   ],
   "source": [
    "%%sql\n",
    "SELECT * \n",
    "FROM SECTION \n",
    "Where InID = '174'; "
   ]
  },
  {
   "cell_type": "code",
   "execution_count": null,
   "metadata": {},
   "outputs": [],
   "source": []
  }
 ],
 "metadata": {
  "kernelspec": {
   "display_name": "Python 3",
   "language": "python",
   "name": "python3"
  },
  "language_info": {
   "codemirror_mode": {
    "name": "ipython",
    "version": 3
   },
   "file_extension": ".py",
   "mimetype": "text/x-python",
   "name": "python",
   "nbconvert_exporter": "python",
   "pygments_lexer": "ipython3",
   "version": "3.6.5"
  }
 },
 "nbformat": 4,
 "nbformat_minor": 2
}

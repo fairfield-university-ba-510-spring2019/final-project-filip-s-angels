{
 "cells": [
  {
   "cell_type": "markdown",
   "metadata": {},
   "source": [
    "**Database Systems Final Project**\n",
    "\n",
    "Team: Filip's Angels \n",
    "\n",
    "Kerry Clarke, Juliana Hoffmann & Kendall Stopa"
   ]
  },
  {
   "cell_type": "markdown",
   "metadata": {},
   "source": [
    "**Step 1: Designing ERD for Database**\n",
    "\n",
    "PDF: [Database ERD](CourseDataERD3.pdf)"
   ]
  },
  {
   "cell_type": "markdown",
   "metadata": {},
   "source": [
    "![Course_Data ERD](CourseDataERD.png)"
   ]
  },
  {
   "cell_type": "markdown",
   "metadata": {},
   "source": [
    "Also, creation of [Data Dictionary](DataDictionary.ipynb)"
   ]
  },
  {
   "cell_type": "markdown",
   "metadata": {},
   "source": [
    "**Step 2: Course Data ETL**\n",
    "\n",
    "Notebook: [Course Data ETL](CourseDataETL.ipynb)\n",
    "\n",
    "* Creating Database titled CourseData2.db \n",
    "* Creating the import tables from the source data\n",
    "* Creating the ERD tables\n",
    "* Populating the ERD tables \n",
    "* Performed queries on database\n",
    "\n",
    "**Step 3: Integrity Checks**\n",
    "\n",
    "Notebook: [Integrity Checks](IntegrityChecks.ipynb)\n",
    "\n",
    "* Tested Domain Integrity\n",
    "* Tested Entity Integrity \n",
    "* Tested Relational Integrity"
   ]
  },
  {
   "cell_type": "markdown",
   "metadata": {},
   "source": [
    "**Step 4: Designing Data Warehouse**\n",
    "\n",
    "PDF: [Data Warehouse Star Schema](DataWarehouse.pdf)\n",
    "\n",
    "![Data Warehouse Star Schema](DataWarehouse.png)"
   ]
  },
  {
   "cell_type": "markdown",
   "metadata": {},
   "source": [
    "**Step 5: Creating Data Warehouse**\n",
    "\n",
    "Notebook: [Course Data Warehouse Creation](DataWarehoueCreation.ipynb)\n",
    "\n",
    "* Created database within SQL acting as data warehouse\n",
    "* Created fact and dimension tables\n",
    "* Calculated aggregates (rolled up) \n",
    "* Populated Data Warehouse \n",
    "\n",
    "\n",
    "**Step 6: Testing Data Warehouse**\n",
    "\n",
    "Notebook: [Course Data Warehouse Test](CourseDataWarehouseTest.ipynb)\n",
    "\n",
    "* Used similar queries from database to test data warehouse"
   ]
  },
  {
   "cell_type": "code",
   "execution_count": null,
   "metadata": {},
   "outputs": [],
   "source": []
  }
 ],
 "metadata": {
  "kernelspec": {
   "display_name": "Python 3",
   "language": "python",
   "name": "python3"
  },
  "language_info": {
   "codemirror_mode": {
    "name": "ipython",
    "version": 3
   },
   "file_extension": ".py",
   "mimetype": "text/x-python",
   "name": "python",
   "nbconvert_exporter": "python",
   "pygments_lexer": "ipython3",
   "version": "3.6.5"
  }
 },
 "nbformat": 4,
 "nbformat_minor": 2
}

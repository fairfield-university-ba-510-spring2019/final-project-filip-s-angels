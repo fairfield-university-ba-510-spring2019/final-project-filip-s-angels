{
 "cells": [
  {
   "cell_type": "code",
   "execution_count": 1,
   "metadata": {},
   "outputs": [],
   "source": [
    "%load_ext sql"
   ]
  },
  {
   "cell_type": "code",
   "execution_count": 2,
   "metadata": {},
   "outputs": [
    {
     "data": {
      "text/plain": [
       "'Connected: @CourseData2.db'"
      ]
     },
     "execution_count": 2,
     "metadata": {},
     "output_type": "execute_result"
    }
   ],
   "source": [
    "%%sql\n",
    "sqlite:///CourseData2.db"
   ]
  },
  {
   "cell_type": "code",
   "execution_count": 5,
   "metadata": {},
   "outputs": [
    {
     "name": "stdout",
     "output_type": "stream",
     "text": [
      " * sqlite:///CourseData2.db\n",
      "Done.\n"
     ]
    },
    {
     "data": {
      "text/html": [
       "<table>\n",
       "    <tr>\n",
       "        <th>COUNT(CatID)</th>\n",
       "        <th>COUNT(Title)</th>\n",
       "    </tr>\n",
       "    <tr>\n",
       "        <td>2236</td>\n",
       "        <td>2236</td>\n",
       "    </tr>\n",
       "</table>"
      ],
      "text/plain": [
       "[(2236, 2236)]"
      ]
     },
     "execution_count": 5,
     "metadata": {},
     "output_type": "execute_result"
    }
   ],
   "source": [
    "%%sql\n",
    "/* Using SELECT DISTINCT to look for duplicate a data records  */\n",
    "SELECT COUNT(CatID),COUNT(Title)\n",
    "    FROM Catalog;\n"
   ]
  },
  {
   "cell_type": "code",
   "execution_count": 6,
   "metadata": {},
   "outputs": [
    {
     "name": "stdout",
     "output_type": "stream",
     "text": [
      " * sqlite:///CourseData2.db\n",
      "Done.\n"
     ]
    },
    {
     "data": {
      "text/html": [
       "<table>\n",
       "    <tr>\n",
       "        <th>COUNT(CatID)</th>\n",
       "        <th>COUNT(Title)</th>\n",
       "    </tr>\n",
       "    <tr>\n",
       "        <td>2236</td>\n",
       "        <td>2236</td>\n",
       "    </tr>\n",
       "</table>"
      ],
      "text/plain": [
       "[(2236, 2236)]"
      ]
     },
     "execution_count": 6,
     "metadata": {},
     "output_type": "execute_result"
    }
   ],
   "source": [
    "%%sql\n",
    "/* Using SELECT DISTINCT to look for duplicate a data records  */\n",
    "\n",
    "SELECT DISTINCT COUNT(CatID), COUNT(Title)\n",
    "    FROM Catalog;"
   ]
  },
  {
   "cell_type": "code",
   "execution_count": 7,
   "metadata": {},
   "outputs": [
    {
     "name": "stdout",
     "output_type": "stream",
     "text": [
      " * sqlite:///CourseData2.db\n",
      "Done.\n"
     ]
    },
    {
     "data": {
      "text/html": [
       "<table>\n",
       "    <tr>\n",
       "        <th>COUNT(Name)</th>\n",
       "    </tr>\n",
       "    <tr>\n",
       "        <td>1103</td>\n",
       "    </tr>\n",
       "</table>"
      ],
      "text/plain": [
       "[(1103,)]"
      ]
     },
     "execution_count": 7,
     "metadata": {},
     "output_type": "execute_result"
    }
   ],
   "source": [
    "%%sql\n",
    "/* Using SELECT DISTINCT to look for duplicate a data records  */\n",
    "SELECT COUNT(Name)\n",
    "    FROM Instructor;"
   ]
  },
  {
   "cell_type": "code",
   "execution_count": 8,
   "metadata": {},
   "outputs": [
    {
     "name": "stdout",
     "output_type": "stream",
     "text": [
      " * sqlite:///CourseData2.db\n",
      "Done.\n"
     ]
    },
    {
     "data": {
      "text/html": [
       "<table>\n",
       "    <tr>\n",
       "        <th>COUNT(Name)</th>\n",
       "    </tr>\n",
       "    <tr>\n",
       "        <td>1103</td>\n",
       "    </tr>\n",
       "</table>"
      ],
      "text/plain": [
       "[(1103,)]"
      ]
     },
     "execution_count": 8,
     "metadata": {},
     "output_type": "execute_result"
    }
   ],
   "source": [
    "%%sql\n",
    "/* Using SELECT DISTINCT to look for duplicate a data records  */\n",
    "SELECT DISTINCT COUNT(Name)\n",
    "    FROM Instructor;"
   ]
  },
  {
   "cell_type": "code",
   "execution_count": 9,
   "metadata": {},
   "outputs": [
    {
     "name": "stdout",
     "output_type": "stream",
     "text": [
      " * sqlite:///CourseData2.db\n",
      "Done.\n"
     ]
    },
    {
     "data": {
      "text/html": [
       "<table>\n",
       "    <tr>\n",
       "        <th>COUNT(CRN)</th>\n",
       "    </tr>\n",
       "    <tr>\n",
       "        <td>15306</td>\n",
       "    </tr>\n",
       "</table>"
      ],
      "text/plain": [
       "[(15306,)]"
      ]
     },
     "execution_count": 9,
     "metadata": {},
     "output_type": "execute_result"
    }
   ],
   "source": [
    "%%sql\n",
    "/* Using SELECT DISTINCT to look for duplicate a data records  */\n",
    "SELECT COUNT(CRN)\n",
    "    FROM Section;"
   ]
  },
  {
   "cell_type": "code",
   "execution_count": 10,
   "metadata": {},
   "outputs": [
    {
     "name": "stdout",
     "output_type": "stream",
     "text": [
      " * sqlite:///CourseData2.db\n",
      "Done.\n"
     ]
    },
    {
     "data": {
      "text/html": [
       "<table>\n",
       "    <tr>\n",
       "        <th>COUNT(CRN)</th>\n",
       "    </tr>\n",
       "    <tr>\n",
       "        <td>15306</td>\n",
       "    </tr>\n",
       "</table>"
      ],
      "text/plain": [
       "[(15306,)]"
      ]
     },
     "execution_count": 10,
     "metadata": {},
     "output_type": "execute_result"
    }
   ],
   "source": [
    "%%sql\n",
    "/* Using SELECT DISTINCT to look for duplicate a data records  */\n",
    "SELECT DISTINCT COUNT(CRN)\n",
    "    FROM Section;"
   ]
  },
  {
   "cell_type": "code",
   "execution_count": 11,
   "metadata": {},
   "outputs": [
    {
     "name": "stdout",
     "output_type": "stream",
     "text": [
      " * sqlite:///CourseData2.db\n",
      "Done.\n"
     ]
    },
    {
     "data": {
      "text/html": [
       "<table>\n",
       "    <tr>\n",
       "        <th>COUNT(CRN)</th>\n",
       "    </tr>\n",
       "    <tr>\n",
       "        <td>311141</td>\n",
       "    </tr>\n",
       "</table>"
      ],
      "text/plain": [
       "[(311141,)]"
      ]
     },
     "execution_count": 11,
     "metadata": {},
     "output_type": "execute_result"
    }
   ],
   "source": [
    "%%sql\n",
    "/* Using SELECT DISTINCT to look for duplicate a data records  */\n",
    "SELECT COUNT(CRN)\n",
    "    FROM Course_Meeting;"
   ]
  },
  {
   "cell_type": "code",
   "execution_count": 13,
   "metadata": {},
   "outputs": [
    {
     "name": "stdout",
     "output_type": "stream",
     "text": [
      " * sqlite:///CourseData2.db\n",
      "Done.\n"
     ]
    },
    {
     "data": {
      "text/html": [
       "<table>\n",
       "    <tr>\n",
       "        <th>COUNT(CRN)</th>\n",
       "    </tr>\n",
       "    <tr>\n",
       "        <td>311141</td>\n",
       "    </tr>\n",
       "</table>"
      ],
      "text/plain": [
       "[(311141,)]"
      ]
     },
     "execution_count": 13,
     "metadata": {},
     "output_type": "execute_result"
    }
   ],
   "source": [
    "%%sql\n",
    "/* Using SELECT DISTINCT to look for duplicate a data records  */\n",
    "SELECT DISTINCT COUNT(CRN)\n",
    "    FROM Course_Meeting;"
   ]
  },
  {
   "cell_type": "code",
   "execution_count": 14,
   "metadata": {},
   "outputs": [
    {
     "name": "stdout",
     "output_type": "stream",
     "text": [
      " * sqlite:///CourseData2.db\n",
      "Done.\n"
     ]
    },
    {
     "data": {
      "text/html": [
       "<table>\n",
       "    <tr>\n",
       "        <th>COUNT(PName)</th>\n",
       "        <th>COUNT(PCode)</th>\n",
       "    </tr>\n",
       "    <tr>\n",
       "        <td>83</td>\n",
       "        <td>83</td>\n",
       "    </tr>\n",
       "</table>"
      ],
      "text/plain": [
       "[(83, 83)]"
      ]
     },
     "execution_count": 14,
     "metadata": {},
     "output_type": "execute_result"
    }
   ],
   "source": [
    "%%sql\n",
    "/* Using SELECT DISTINCT to look for duplicate a data records  */\n",
    "SELECT COUNT(PName), COUNT(PCode)\n",
    "    FROM Program;"
   ]
  },
  {
   "cell_type": "code",
   "execution_count": 15,
   "metadata": {},
   "outputs": [
    {
     "name": "stdout",
     "output_type": "stream",
     "text": [
      " * sqlite:///CourseData2.db\n",
      "Done.\n"
     ]
    },
    {
     "data": {
      "text/html": [
       "<table>\n",
       "    <tr>\n",
       "        <th>COUNT(PName)</th>\n",
       "        <th>COUNT(PCode)</th>\n",
       "    </tr>\n",
       "    <tr>\n",
       "        <td>83</td>\n",
       "        <td>83</td>\n",
       "    </tr>\n",
       "</table>"
      ],
      "text/plain": [
       "[(83, 83)]"
      ]
     },
     "execution_count": 15,
     "metadata": {},
     "output_type": "execute_result"
    }
   ],
   "source": [
    "%%sql\n",
    "/* Using SELECT DISTINCT to look for duplicate a data records  */\n",
    "SELECT DISTINCT COUNT(PName), COUNT(PCode)\n",
    "    FROM Program;"
   ]
  },
  {
   "cell_type": "code",
   "execution_count": null,
   "metadata": {},
   "outputs": [],
   "source": []
  }
 ],
 "metadata": {
  "kernelspec": {
   "display_name": "Python 3",
   "language": "python",
   "name": "python3"
  },
  "language_info": {
   "codemirror_mode": {
    "name": "ipython",
    "version": 3
   },
   "file_extension": ".py",
   "mimetype": "text/x-python",
   "name": "python",
   "nbconvert_exporter": "python",
   "pygments_lexer": "ipython3",
   "version": "3.6.5"
  }
 },
 "nbformat": 4,
 "nbformat_minor": 2
}

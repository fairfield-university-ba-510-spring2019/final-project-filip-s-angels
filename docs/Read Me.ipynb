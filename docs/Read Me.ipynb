{
 "cells": [
  {
   "cell_type": "markdown",
   "metadata": {},
   "source": [
    "# Read Me\n",
    "\n",
    "*Kerry Clarke, Juliana Hoffmann & Kendall Stopa*"
   ]
  },
  {
   "cell_type": "markdown",
   "metadata": {},
   "source": [
    "# Database and Data Warehouse Planning via Lucid Charts\n",
    "\n",
    "1. [CourseDataERD PDF](https://ba-lab.fairfield.edu/user/jhoffmann/lab/tree/final-project-filip-s-angels/docs/CourseDataWarehouseTest.ipynb)\n",
    "2. [CourseDataWarehouse PDF](https://ba-lab.fairfield.edu/user/jhoffmann/lab/tree/final-project-filip-s-angels/docs/Database%20Systems%20-%20Courses%20Data%20Warehouse.pdf)"
   ]
  },
  {
   "cell_type": "markdown",
   "metadata": {},
   "source": [
    "# Database Creation and Manipulation in Jupyter Lab using Pandas and SQL"
   ]
  },
  {
   "cell_type": "markdown",
   "metadata": {},
   "source": [
    "1. [CourseDataETL](https://ba-lab.fairfield.edu/user/jhoffmann/lab/tree/final-project-filip-s-angels/docs/CourseDataETL.ipynb) - Where we create our Database and test with queries"
   ]
  },
  {
   "cell_type": "markdown",
   "metadata": {},
   "source": [
    "2. [IntegrityCheck](https://ba-lab.fairfield.edu/user/jhoffmann/lab/tree/final-project-filip-s-angels/docs/IntegrityChecks.ipynb) - Checking for duplicate and testing integrity of database"
   ]
  },
  {
   "cell_type": "markdown",
   "metadata": {},
   "source": [
    "3. [DataWarehouseCreation](https://ba-lab.fairfield.edu/user/jhoffmann/lab/tree/final-project-filip-s-angels/docs/DataWarehouseCreation.ipynb) - Where we create our Data Warehouse "
   ]
  },
  {
   "cell_type": "markdown",
   "metadata": {},
   "source": [
    "4. [CourseDataWarehouseTest](https://ba-lab.fairfield.edu/user/jhoffmann/lab/tree/final-project-filip-s-angels/docs/CourseDataWarehouseTest.ipynb) - Queries to test our Data Warehouse"
   ]
  },
  {
   "cell_type": "code",
   "execution_count": null,
   "metadata": {},
   "outputs": [],
   "source": []
  }
 ],
 "metadata": {
  "kernelspec": {
   "display_name": "Python 3",
   "language": "python",
   "name": "python3"
  },
  "language_info": {
   "codemirror_mode": {
    "name": "ipython",
    "version": 3
   },
   "file_extension": ".py",
   "mimetype": "text/x-python",
   "name": "python",
   "nbconvert_exporter": "python",
   "pygments_lexer": "ipython3",
   "version": "3.6.5"
  }
 },
 "nbformat": 4,
 "nbformat_minor": 2
}

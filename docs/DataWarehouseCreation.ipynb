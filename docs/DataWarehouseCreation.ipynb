{
 "cells": [
  {
   "cell_type": "code",
   "execution_count": 1,
   "metadata": {},
   "outputs": [],
   "source": [
    "# DataWarehouse"
   ]
  },
  {
   "cell_type": "code",
   "execution_count": 2,
   "metadata": {},
   "outputs": [],
   "source": [
    "import pandas as pd \n",
    "import numpy as np\n",
    "import sqlite3\n",
    "conn = sqlite3.connect('CourseDataWarehouse.db')\n",
    "c = conn.cursor()"
   ]
  },
  {
   "cell_type": "code",
   "execution_count": 3,
   "metadata": {},
   "outputs": [],
   "source": [
    "%load_ext sql"
   ]
  },
  {
   "cell_type": "code",
   "execution_count": 4,
   "metadata": {},
   "outputs": [
    {
     "data": {
      "text/plain": [
       "'Connected: @CourseDataWarehouse.db'"
      ]
     },
     "execution_count": 4,
     "metadata": {},
     "output_type": "execute_result"
    }
   ],
   "source": [
    "%%sql\n",
    "sqlite:///CourseDataWarehouse.db"
   ]
  },
  {
   "cell_type": "code",
   "execution_count": 5,
   "metadata": {},
   "outputs": [
    {
     "name": "stdout",
     "output_type": "stream",
     "text": [
      " * sqlite:///CourseDataWarehouse.db\n",
      "Done.\n",
      "Done.\n",
      "Done.\n",
      "Done.\n",
      "Done.\n",
      "Done.\n",
      "Done.\n",
      "Done.\n"
     ]
    },
    {
     "data": {
      "text/plain": [
       "[]"
      ]
     },
     "execution_count": 5,
     "metadata": {},
     "output_type": "execute_result"
    }
   ],
   "source": [
    "%%sql\n",
    "DROP TABLE IF EXISTS COURSE;\n",
    "DROP TABLE IF EXISTS MEETING;\n",
    "DROP TABLE IF EXISTS LOCATION;\n",
    "DROP TABLE IF EXISTS INSTRUCTOR;\n",
    "DROP TABLE IF EXISTS PROGRAM;\n",
    "DROP TABLE IF EXISTS CATALOG;\n",
    "DROP TABLE IF EXISTS TIME;\n",
    "DROP TABLE IF EXISTS CALCULATIONS;"
   ]
  },
  {
   "cell_type": "markdown",
   "metadata": {},
   "source": [
    "## Create DataWarehouse Tables ##"
   ]
  },
  {
   "cell_type": "code",
   "execution_count": 6,
   "metadata": {},
   "outputs": [
    {
     "name": "stdout",
     "output_type": "stream",
     "text": [
      " * sqlite:///CourseDataWarehouse.db\n",
      "(sqlite3.OperationalError) unknown column \"PID\" in foreign key definition [SQL: \"--Creating Dimension Table: Catalog--\\n    \\nCREATE TABLE 'CATALOG' (\\n    CatClass INTEGER PRIMARY KEY,\\n    CatID VARCHAR,\\n    Title VARCHAR NOT NULL,\\n    Description TEXT,\\n    Credits TEXT NOT NULL,\\n    PREREQS TEXT,\\n    COREQS TEXT,\\n    FEES INTEGER,\\n    Attribute TEXT\\n    PID INTEGER,\\n    FOREIGN KEY (PID) REFERENCES Program(PID)\\n    \\n);\"] (Background on this error at: http://sqlalche.me/e/e3q8)\n"
     ]
    }
   ],
   "source": [
    "%%sql\n",
    "--Creating Dimension Table: Catalog--\n",
    "    \n",
    "CREATE TABLE 'CATALOG' (\n",
    "    CatClass INTEGER PRIMARY KEY,\n",
    "    CatID VARCHAR,\n",
    "    Title VARCHAR NOT NULL,\n",
    "    Description TEXT,\n",
    "    Credits TEXT NOT NULL,\n",
    "    PREREQS TEXT,\n",
    "    COREQS TEXT,\n",
    "    FEES INTEGER,\n",
    "    Attribute TEXT\n",
    "    PID INTEGER,\n",
    "    FOREIGN KEY (PID) REFERENCES Program(PID)\n",
    "    \n",
    ");"
   ]
  },
  {
   "cell_type": "code",
   "execution_count": 7,
   "metadata": {},
   "outputs": [
    {
     "name": "stdout",
     "output_type": "stream",
     "text": [
      " * sqlite:///CourseDataWarehouse.db\n",
      "Done.\n"
     ]
    },
    {
     "data": {
      "text/plain": [
       "[]"
      ]
     },
     "execution_count": 7,
     "metadata": {},
     "output_type": "execute_result"
    }
   ],
   "source": [
    "%%sql\n",
    "--Creating Dimension Table: Instructor--\n",
    "\n",
    "CREATE TABLE 'INSTRUCTOR' (\n",
    "    InID INTEGER NOT NULL PRIMARY KEY,\n",
    "    Name TEXT NOT NULL\n",
    ");"
   ]
  },
  {
   "cell_type": "code",
   "execution_count": 8,
   "metadata": {},
   "outputs": [
    {
     "name": "stdout",
     "output_type": "stream",
     "text": [
      " * sqlite:///CourseDataWarehouse.db\n",
      "Done.\n"
     ]
    },
    {
     "data": {
      "text/plain": [
       "[]"
      ]
     },
     "execution_count": 8,
     "metadata": {},
     "output_type": "execute_result"
    }
   ],
   "source": [
    "%%sql\n",
    "--Create Dimension Table: Location--\n",
    "    \n",
    "CREATE TABLE 'LOCATION' (\n",
    "    LID INTEGER PRIMARY KEY,\n",
    "    Location VARCHAR NOT NULL\n",
    "    \n",
    ");"
   ]
  },
  {
   "cell_type": "code",
   "execution_count": 9,
   "metadata": {},
   "outputs": [
    {
     "name": "stdout",
     "output_type": "stream",
     "text": [
      " * sqlite:///CourseDataWarehouse.db\n",
      "Done.\n"
     ]
    },
    {
     "data": {
      "text/plain": [
       "[]"
      ]
     },
     "execution_count": 9,
     "metadata": {},
     "output_type": "execute_result"
    }
   ],
   "source": [
    "%%sql\n",
    "--Create Dimension Table: Program--\n",
    "    \n",
    "CREATE TABLE 'PROGRAM' (\n",
    "    PID INTEGER NOT NULL PRIMARY KEY,\n",
    "    PName TEXT,\n",
    "    PCode VARCHAR\n",
    ");"
   ]
  },
  {
   "cell_type": "code",
   "execution_count": 10,
   "metadata": {},
   "outputs": [
    {
     "name": "stdout",
     "output_type": "stream",
     "text": [
      " * sqlite:///CourseDataWarehouse.db\n",
      "Done.\n"
     ]
    },
    {
     "data": {
      "text/plain": [
       "[]"
      ]
     },
     "execution_count": 10,
     "metadata": {},
     "output_type": "execute_result"
    }
   ],
   "source": [
    "%%sql\n",
    "--Creating Fact Table: Course-- \n",
    "\n",
    "CREATE TABLE 'COURSE' (\n",
    "    SID INTEGER NOT NULL PRIMARY KEY,\n",
    "    CRN INTEGER NOT NULL,\n",
    "    Term TEXT NOT NULL,\n",
    "    Section VARCHAR NOT NULL,\n",
    "    Cap INTEGER,\n",
    "    Act INTEGER,\n",
    "    Rem INTEGER,\n",
    "    AvgCap INTEGER,\n",
    "    MedCap INTEGER,\n",
    "    CountCRN, INTEGER,\n",
    "    CountLocation INTEGER, \n",
    "    InID INTEGER,\n",
    "    CatID VARCHAR,\n",
    "    PID INTEGER, \n",
    "    FOREIGN KEY (CatID) REFERENCES CATALOG(CatID),\n",
    "    FOREIGN KEY (InID) REFERENCES INSTRUCTOR(InID),\n",
    "    FOREIGN KEY (PID) REFERENCES Program(PID)\n",
    "    \n",
    ");"
   ]
  },
  {
   "cell_type": "code",
   "execution_count": 11,
   "metadata": {},
   "outputs": [
    {
     "name": "stdout",
     "output_type": "stream",
     "text": [
      " * sqlite:///CourseDataWarehouse.db\n",
      "Done.\n"
     ]
    },
    {
     "data": {
      "text/plain": [
       "[]"
      ]
     },
     "execution_count": 11,
     "metadata": {},
     "output_type": "execute_result"
    }
   ],
   "source": [
    "%%sql\n",
    "--Creating Fact Table: Meeting--\n",
    "    \n",
    "CREATE TABLE 'MEETING' (\n",
    "    MID INTEGER NOT NULL PRIMARY KEY, \n",
    "    Term TEXT NOT NULL,\n",
    "    CRN INTEGER NOT NULL,\n",
    "    Location VARCHAR,\n",
    "    Start,\n",
    "    End,\n",
    "    Day,\n",
    "    CountLocation INTEGER,\n",
    "    FOREIGN KEY (Location) REFERENCES LOCATION(Location)\n",
    "    \n",
    ");"
   ]
  },
  {
   "cell_type": "code",
   "execution_count": 12,
   "metadata": {},
   "outputs": [
    {
     "data": {
      "text/plain": [
       "'Connected: @CourseData2.db'"
      ]
     },
     "execution_count": 12,
     "metadata": {},
     "output_type": "execute_result"
    }
   ],
   "source": [
    "%%sql\n",
    "sqlite:///CourseData2.db"
   ]
  },
  {
   "cell_type": "code",
   "execution_count": 13,
   "metadata": {},
   "outputs": [],
   "source": [
    "conn2 = sqlite3.connect('CourseData2.db')\n",
    "c2 = conn.cursor()"
   ]
  },
  {
   "cell_type": "markdown",
   "metadata": {},
   "source": [
    "## Create Dataframes ##"
   ]
  },
  {
   "cell_type": "code",
   "execution_count": 14,
   "metadata": {},
   "outputs": [
    {
     "data": {
      "text/html": [
       "<div>\n",
       "<style scoped>\n",
       "    .dataframe tbody tr th:only-of-type {\n",
       "        vertical-align: middle;\n",
       "    }\n",
       "\n",
       "    .dataframe tbody tr th {\n",
       "        vertical-align: top;\n",
       "    }\n",
       "\n",
       "    .dataframe thead th {\n",
       "        text-align: right;\n",
       "    }\n",
       "</style>\n",
       "<table border=\"1\" class=\"dataframe\">\n",
       "  <thead>\n",
       "    <tr style=\"text-align: right;\">\n",
       "      <th></th>\n",
       "      <th>SID</th>\n",
       "      <th>CRN</th>\n",
       "      <th>Term</th>\n",
       "      <th>Section</th>\n",
       "      <th>Cap</th>\n",
       "      <th>Act</th>\n",
       "      <th>Rem</th>\n",
       "      <th>CatID</th>\n",
       "      <th>InID</th>\n",
       "    </tr>\n",
       "  </thead>\n",
       "  <tbody>\n",
       "    <tr>\n",
       "      <th>0</th>\n",
       "      <td>1</td>\n",
       "      <td>70384</td>\n",
       "      <td>Fall2014</td>\n",
       "      <td>C01</td>\n",
       "      <td>0</td>\n",
       "      <td>31</td>\n",
       "      <td>-31</td>\n",
       "      <td>AC 0011</td>\n",
       "      <td>1</td>\n",
       "    </tr>\n",
       "    <tr>\n",
       "      <th>1</th>\n",
       "      <td>2</td>\n",
       "      <td>70385</td>\n",
       "      <td>Fall2014</td>\n",
       "      <td>C02</td>\n",
       "      <td>0</td>\n",
       "      <td>31</td>\n",
       "      <td>-31</td>\n",
       "      <td>AC 0011</td>\n",
       "      <td>1</td>\n",
       "    </tr>\n",
       "    <tr>\n",
       "      <th>2</th>\n",
       "      <td>3</td>\n",
       "      <td>70382</td>\n",
       "      <td>Fall2014</td>\n",
       "      <td>C03</td>\n",
       "      <td>0</td>\n",
       "      <td>31</td>\n",
       "      <td>-31</td>\n",
       "      <td>AC 0011</td>\n",
       "      <td>1</td>\n",
       "    </tr>\n",
       "    <tr>\n",
       "      <th>3</th>\n",
       "      <td>4</td>\n",
       "      <td>70291</td>\n",
       "      <td>Fall2014</td>\n",
       "      <td>C04</td>\n",
       "      <td>0</td>\n",
       "      <td>29</td>\n",
       "      <td>-29</td>\n",
       "      <td>AC 0011</td>\n",
       "      <td>2</td>\n",
       "    </tr>\n",
       "    <tr>\n",
       "      <th>4</th>\n",
       "      <td>5</td>\n",
       "      <td>70350</td>\n",
       "      <td>Fall2014</td>\n",
       "      <td>C05</td>\n",
       "      <td>0</td>\n",
       "      <td>30</td>\n",
       "      <td>-30</td>\n",
       "      <td>AC 0011</td>\n",
       "      <td>2</td>\n",
       "    </tr>\n",
       "  </tbody>\n",
       "</table>\n",
       "</div>"
      ],
      "text/plain": [
       "   SID    CRN      Term Section  Cap  Act  Rem    CatID  InID\n",
       "0    1  70384  Fall2014     C01    0   31  -31  AC 0011     1\n",
       "1    2  70385  Fall2014     C02    0   31  -31  AC 0011     1\n",
       "2    3  70382  Fall2014     C03    0   31  -31  AC 0011     1\n",
       "3    4  70291  Fall2014     C04    0   29  -29  AC 0011     2\n",
       "4    5  70350  Fall2014     C05    0   30  -30  AC 0011     2"
      ]
     },
     "execution_count": 14,
     "metadata": {},
     "output_type": "execute_result"
    }
   ],
   "source": [
    "course = 'SELECT * FROM SECTION;'\n",
    "df = pd.read_sql(course, conn2)\n",
    "df.head()"
   ]
  },
  {
   "cell_type": "code",
   "execution_count": 15,
   "metadata": {},
   "outputs": [
    {
     "data": {
      "text/html": [
       "<div>\n",
       "<style scoped>\n",
       "    .dataframe tbody tr th:only-of-type {\n",
       "        vertical-align: middle;\n",
       "    }\n",
       "\n",
       "    .dataframe tbody tr th {\n",
       "        vertical-align: top;\n",
       "    }\n",
       "\n",
       "    .dataframe thead th {\n",
       "        text-align: right;\n",
       "    }\n",
       "</style>\n",
       "<table border=\"1\" class=\"dataframe\">\n",
       "  <thead>\n",
       "    <tr style=\"text-align: right;\">\n",
       "      <th></th>\n",
       "      <th>CatClass</th>\n",
       "      <th>CatID</th>\n",
       "      <th>Title</th>\n",
       "      <th>Description</th>\n",
       "      <th>Credits</th>\n",
       "      <th>PID</th>\n",
       "      <th>PREREQS</th>\n",
       "      <th>COREQS</th>\n",
       "      <th>FEES</th>\n",
       "      <th>Attribute</th>\n",
       "    </tr>\n",
       "  </thead>\n",
       "  <tbody>\n",
       "    <tr>\n",
       "      <th>0</th>\n",
       "      <td>1</td>\n",
       "      <td>AN 0301</td>\n",
       "      <td>Independent Study</td>\n",
       "      <td>Students undertake an individualized program o...</td>\n",
       "      <td>1-3 Credits</td>\n",
       "      <td>1</td>\n",
       "      <td>None</td>\n",
       "      <td>None</td>\n",
       "      <td>None</td>\n",
       "      <td>None</td>\n",
       "    </tr>\n",
       "    <tr>\n",
       "      <th>1</th>\n",
       "      <td>2</td>\n",
       "      <td>AN 0310</td>\n",
       "      <td>Asian Studies Seminar</td>\n",
       "      <td>This seminar examines selected topics concerni...</td>\n",
       "      <td>3 Credits</td>\n",
       "      <td>1</td>\n",
       "      <td>None</td>\n",
       "      <td>None</td>\n",
       "      <td>None</td>\n",
       "      <td>None</td>\n",
       "    </tr>\n",
       "    <tr>\n",
       "      <th>2</th>\n",
       "      <td>3</td>\n",
       "      <td>BU 0211</td>\n",
       "      <td>Legal Environment of Business</td>\n",
       "      <td>This course examines the broad philosophical a...</td>\n",
       "      <td>3 Credits</td>\n",
       "      <td>2</td>\n",
       "      <td>Junior standing.</td>\n",
       "      <td>None</td>\n",
       "      <td>None</td>\n",
       "      <td>None</td>\n",
       "    </tr>\n",
       "    <tr>\n",
       "      <th>3</th>\n",
       "      <td>4</td>\n",
       "      <td>BU 0211</td>\n",
       "      <td>Legal Environment of Business</td>\n",
       "      <td>This course examines the broad philosophical a...</td>\n",
       "      <td>3 Credits</td>\n",
       "      <td>81</td>\n",
       "      <td>Junior standing.</td>\n",
       "      <td>None</td>\n",
       "      <td>None</td>\n",
       "      <td>None</td>\n",
       "    </tr>\n",
       "    <tr>\n",
       "      <th>4</th>\n",
       "      <td>5</td>\n",
       "      <td>BU 0220</td>\n",
       "      <td>Environmental Law and Policy</td>\n",
       "      <td>This course surveys issues arising out of fede...</td>\n",
       "      <td>3 Credits</td>\n",
       "      <td>2</td>\n",
       "      <td>None</td>\n",
       "      <td>None</td>\n",
       "      <td>None</td>\n",
       "      <td>EVME Environmental Studies Major Elective, EVP...</td>\n",
       "    </tr>\n",
       "  </tbody>\n",
       "</table>\n",
       "</div>"
      ],
      "text/plain": [
       "   CatClass    CatID                          Title  \\\n",
       "0         1  AN 0301              Independent Study   \n",
       "1         2  AN 0310          Asian Studies Seminar   \n",
       "2         3  BU 0211  Legal Environment of Business   \n",
       "3         4  BU 0211  Legal Environment of Business   \n",
       "4         5  BU 0220   Environmental Law and Policy   \n",
       "\n",
       "                                         Description      Credits  PID  \\\n",
       "0  Students undertake an individualized program o...  1-3 Credits    1   \n",
       "1  This seminar examines selected topics concerni...    3 Credits    1   \n",
       "2  This course examines the broad philosophical a...    3 Credits    2   \n",
       "3  This course examines the broad philosophical a...    3 Credits   81   \n",
       "4  This course surveys issues arising out of fede...    3 Credits    2   \n",
       "\n",
       "            PREREQS COREQS  FEES  \\\n",
       "0              None   None  None   \n",
       "1              None   None  None   \n",
       "2  Junior standing.   None  None   \n",
       "3  Junior standing.   None  None   \n",
       "4              None   None  None   \n",
       "\n",
       "                                           Attribute  \n",
       "0                                               None  \n",
       "1                                               None  \n",
       "2                                               None  \n",
       "3                                               None  \n",
       "4  EVME Environmental Studies Major Elective, EVP...  "
      ]
     },
     "execution_count": 15,
     "metadata": {},
     "output_type": "execute_result"
    }
   ],
   "source": [
    "catalog = 'SELECT * FROM CATALOG;'\n",
    "df2 = pd.read_sql(catalog, conn2)\n",
    "df2.head()"
   ]
  },
  {
   "cell_type": "code",
   "execution_count": 16,
   "metadata": {},
   "outputs": [
    {
     "data": {
      "text/html": [
       "<div>\n",
       "<style scoped>\n",
       "    .dataframe tbody tr th:only-of-type {\n",
       "        vertical-align: middle;\n",
       "    }\n",
       "\n",
       "    .dataframe tbody tr th {\n",
       "        vertical-align: top;\n",
       "    }\n",
       "\n",
       "    .dataframe thead th {\n",
       "        text-align: right;\n",
       "    }\n",
       "</style>\n",
       "<table border=\"1\" class=\"dataframe\">\n",
       "  <thead>\n",
       "    <tr style=\"text-align: right;\">\n",
       "      <th></th>\n",
       "      <th>InID</th>\n",
       "      <th>Name</th>\n",
       "    </tr>\n",
       "  </thead>\n",
       "  <tbody>\n",
       "    <tr>\n",
       "      <th>0</th>\n",
       "      <td>1</td>\n",
       "      <td>Michael P.  Coyne</td>\n",
       "    </tr>\n",
       "    <tr>\n",
       "      <th>1</th>\n",
       "      <td>2</td>\n",
       "      <td>Rebecca I.  Bloch</td>\n",
       "    </tr>\n",
       "    <tr>\n",
       "      <th>2</th>\n",
       "      <td>3</td>\n",
       "      <td>Paul   Caster</td>\n",
       "    </tr>\n",
       "    <tr>\n",
       "      <th>3</th>\n",
       "      <td>4</td>\n",
       "      <td>Jo Ann   Drusbosky</td>\n",
       "    </tr>\n",
       "    <tr>\n",
       "      <th>4</th>\n",
       "      <td>5</td>\n",
       "      <td>Arleen N.  Kardos</td>\n",
       "    </tr>\n",
       "  </tbody>\n",
       "</table>\n",
       "</div>"
      ],
      "text/plain": [
       "   InID                Name\n",
       "0     1   Michael P.  Coyne\n",
       "1     2   Rebecca I.  Bloch\n",
       "2     3       Paul   Caster\n",
       "3     4  Jo Ann   Drusbosky\n",
       "4     5   Arleen N.  Kardos"
      ]
     },
     "execution_count": 16,
     "metadata": {},
     "output_type": "execute_result"
    }
   ],
   "source": [
    "instructor = 'SELECT * FROM INSTRUCTOR;'\n",
    "df3 = pd.read_sql(instructor, conn2)\n",
    "df3.head()"
   ]
  },
  {
   "cell_type": "code",
   "execution_count": 17,
   "metadata": {},
   "outputs": [
    {
     "data": {
      "text/html": [
       "<div>\n",
       "<style scoped>\n",
       "    .dataframe tbody tr th:only-of-type {\n",
       "        vertical-align: middle;\n",
       "    }\n",
       "\n",
       "    .dataframe tbody tr th {\n",
       "        vertical-align: top;\n",
       "    }\n",
       "\n",
       "    .dataframe thead th {\n",
       "        text-align: right;\n",
       "    }\n",
       "</style>\n",
       "<table border=\"1\" class=\"dataframe\">\n",
       "  <thead>\n",
       "    <tr style=\"text-align: right;\">\n",
       "      <th></th>\n",
       "      <th>MID</th>\n",
       "      <th>CRN</th>\n",
       "      <th>Term</th>\n",
       "      <th>Location</th>\n",
       "      <th>Start</th>\n",
       "      <th>End</th>\n",
       "      <th>DAY</th>\n",
       "    </tr>\n",
       "  </thead>\n",
       "  <tbody>\n",
       "    <tr>\n",
       "      <th>0</th>\n",
       "      <td>1</td>\n",
       "      <td>70384</td>\n",
       "      <td>Fall2014</td>\n",
       "      <td>DSB 105</td>\n",
       "      <td>2014-09-02T08:00:00</td>\n",
       "      <td>2014-09-02T09:15:00</td>\n",
       "      <td>T</td>\n",
       "    </tr>\n",
       "    <tr>\n",
       "      <th>1</th>\n",
       "      <td>2</td>\n",
       "      <td>70384</td>\n",
       "      <td>Fall2014</td>\n",
       "      <td>DSB 105</td>\n",
       "      <td>2014-09-05T08:00:00</td>\n",
       "      <td>2014-09-05T09:15:00</td>\n",
       "      <td>F</td>\n",
       "    </tr>\n",
       "    <tr>\n",
       "      <th>2</th>\n",
       "      <td>3</td>\n",
       "      <td>70384</td>\n",
       "      <td>Fall2014</td>\n",
       "      <td>DSB 105</td>\n",
       "      <td>2014-09-09T08:00:00</td>\n",
       "      <td>2014-09-09T09:15:00</td>\n",
       "      <td>T</td>\n",
       "    </tr>\n",
       "    <tr>\n",
       "      <th>3</th>\n",
       "      <td>4</td>\n",
       "      <td>70384</td>\n",
       "      <td>Fall2014</td>\n",
       "      <td>DSB 105</td>\n",
       "      <td>2014-09-12T08:00:00</td>\n",
       "      <td>2014-09-12T09:15:00</td>\n",
       "      <td>F</td>\n",
       "    </tr>\n",
       "    <tr>\n",
       "      <th>4</th>\n",
       "      <td>5</td>\n",
       "      <td>70384</td>\n",
       "      <td>Fall2014</td>\n",
       "      <td>DSB 105</td>\n",
       "      <td>2014-09-16T08:00:00</td>\n",
       "      <td>2014-09-16T09:15:00</td>\n",
       "      <td>T</td>\n",
       "    </tr>\n",
       "  </tbody>\n",
       "</table>\n",
       "</div>"
      ],
      "text/plain": [
       "   MID    CRN      Term Location                Start                  End DAY\n",
       "0    1  70384  Fall2014  DSB 105  2014-09-02T08:00:00  2014-09-02T09:15:00   T\n",
       "1    2  70384  Fall2014  DSB 105  2014-09-05T08:00:00  2014-09-05T09:15:00   F\n",
       "2    3  70384  Fall2014  DSB 105  2014-09-09T08:00:00  2014-09-09T09:15:00   T\n",
       "3    4  70384  Fall2014  DSB 105  2014-09-12T08:00:00  2014-09-12T09:15:00   F\n",
       "4    5  70384  Fall2014  DSB 105  2014-09-16T08:00:00  2014-09-16T09:15:00   T"
      ]
     },
     "execution_count": 17,
     "metadata": {},
     "output_type": "execute_result"
    }
   ],
   "source": [
    "course_meeting = 'SELECT * FROM COURSE_MEETING'\n",
    "df4 = pd.read_sql(course_meeting, conn2)\n",
    "df4.head()"
   ]
  },
  {
   "cell_type": "code",
   "execution_count": 18,
   "metadata": {},
   "outputs": [
    {
     "data": {
      "text/html": [
       "<div>\n",
       "<style scoped>\n",
       "    .dataframe tbody tr th:only-of-type {\n",
       "        vertical-align: middle;\n",
       "    }\n",
       "\n",
       "    .dataframe tbody tr th {\n",
       "        vertical-align: top;\n",
       "    }\n",
       "\n",
       "    .dataframe thead th {\n",
       "        text-align: right;\n",
       "    }\n",
       "</style>\n",
       "<table border=\"1\" class=\"dataframe\">\n",
       "  <thead>\n",
       "    <tr style=\"text-align: right;\">\n",
       "      <th></th>\n",
       "      <th>Location</th>\n",
       "    </tr>\n",
       "  </thead>\n",
       "  <tbody>\n",
       "    <tr>\n",
       "      <th>0</th>\n",
       "      <td>DSB 105</td>\n",
       "    </tr>\n",
       "    <tr>\n",
       "      <th>1</th>\n",
       "      <td>DSB 105</td>\n",
       "    </tr>\n",
       "    <tr>\n",
       "      <th>2</th>\n",
       "      <td>DSB 105</td>\n",
       "    </tr>\n",
       "    <tr>\n",
       "      <th>3</th>\n",
       "      <td>DSB 105</td>\n",
       "    </tr>\n",
       "    <tr>\n",
       "      <th>4</th>\n",
       "      <td>DSB 105</td>\n",
       "    </tr>\n",
       "  </tbody>\n",
       "</table>\n",
       "</div>"
      ],
      "text/plain": [
       "  Location\n",
       "0  DSB 105\n",
       "1  DSB 105\n",
       "2  DSB 105\n",
       "3  DSB 105\n",
       "4  DSB 105"
      ]
     },
     "execution_count": 18,
     "metadata": {},
     "output_type": "execute_result"
    }
   ],
   "source": [
    "location = 'SELECT Location FROM COURSE_MEETING'\n",
    "df5 = pd.read_sql(location, conn2)\n",
    "df5.head()"
   ]
  },
  {
   "cell_type": "code",
   "execution_count": 19,
   "metadata": {},
   "outputs": [
    {
     "data": {
      "text/html": [
       "<div>\n",
       "<style scoped>\n",
       "    .dataframe tbody tr th:only-of-type {\n",
       "        vertical-align: middle;\n",
       "    }\n",
       "\n",
       "    .dataframe tbody tr th {\n",
       "        vertical-align: top;\n",
       "    }\n",
       "\n",
       "    .dataframe thead th {\n",
       "        text-align: right;\n",
       "    }\n",
       "</style>\n",
       "<table border=\"1\" class=\"dataframe\">\n",
       "  <thead>\n",
       "    <tr style=\"text-align: right;\">\n",
       "      <th></th>\n",
       "      <th>PName</th>\n",
       "      <th>PCode</th>\n",
       "    </tr>\n",
       "  </thead>\n",
       "  <tbody>\n",
       "    <tr>\n",
       "      <th>0</th>\n",
       "      <td>Asian Studies</td>\n",
       "      <td>AN</td>\n",
       "    </tr>\n",
       "    <tr>\n",
       "      <th>1</th>\n",
       "      <td>Business</td>\n",
       "      <td>BU</td>\n",
       "    </tr>\n",
       "    <tr>\n",
       "      <th>2</th>\n",
       "      <td>Black Studies</td>\n",
       "      <td>BL</td>\n",
       "    </tr>\n",
       "    <tr>\n",
       "      <th>3</th>\n",
       "      <td>Bioengineering</td>\n",
       "      <td>BEN</td>\n",
       "    </tr>\n",
       "    <tr>\n",
       "      <th>4</th>\n",
       "      <td>Arabic</td>\n",
       "      <td>AR</td>\n",
       "    </tr>\n",
       "  </tbody>\n",
       "</table>\n",
       "</div>"
      ],
      "text/plain": [
       "            PName PCode\n",
       "0   Asian Studies    AN\n",
       "1        Business    BU\n",
       "2   Black Studies    BL\n",
       "3  Bioengineering   BEN\n",
       "4          Arabic    AR"
      ]
     },
     "execution_count": 19,
     "metadata": {},
     "output_type": "execute_result"
    }
   ],
   "source": [
    "program = 'SELECT PName, Pcode FROM PROGRAM'\n",
    "df6 = pd.read_sql(program, conn2)\n",
    "df6.head()"
   ]
  },
  {
   "cell_type": "markdown",
   "metadata": {},
   "source": [
    "## Calculated Columns ##"
   ]
  },
  {
   "cell_type": "code",
   "execution_count": 20,
   "metadata": {},
   "outputs": [
    {
     "data": {
      "text/html": [
       "<div>\n",
       "<style scoped>\n",
       "    .dataframe tbody tr th:only-of-type {\n",
       "        vertical-align: middle;\n",
       "    }\n",
       "\n",
       "    .dataframe tbody tr th {\n",
       "        vertical-align: top;\n",
       "    }\n",
       "\n",
       "    .dataframe thead th {\n",
       "        text-align: right;\n",
       "    }\n",
       "</style>\n",
       "<table border=\"1\" class=\"dataframe\">\n",
       "  <thead>\n",
       "    <tr style=\"text-align: right;\">\n",
       "      <th></th>\n",
       "      <th>SID</th>\n",
       "      <th>CRN</th>\n",
       "      <th>Term</th>\n",
       "      <th>Section</th>\n",
       "      <th>Cap</th>\n",
       "      <th>Act</th>\n",
       "      <th>Rem</th>\n",
       "      <th>CatID</th>\n",
       "      <th>InID</th>\n",
       "      <th>AvgCap</th>\n",
       "      <th>MedCap</th>\n",
       "    </tr>\n",
       "  </thead>\n",
       "  <tbody>\n",
       "    <tr>\n",
       "      <th>0</th>\n",
       "      <td>1</td>\n",
       "      <td>70384</td>\n",
       "      <td>Fall2014</td>\n",
       "      <td>C01</td>\n",
       "      <td>0</td>\n",
       "      <td>31</td>\n",
       "      <td>-31</td>\n",
       "      <td>AC 0011</td>\n",
       "      <td>1</td>\n",
       "      <td>17.710898</td>\n",
       "      <td>19.0</td>\n",
       "    </tr>\n",
       "    <tr>\n",
       "      <th>1</th>\n",
       "      <td>2</td>\n",
       "      <td>70385</td>\n",
       "      <td>Fall2014</td>\n",
       "      <td>C02</td>\n",
       "      <td>0</td>\n",
       "      <td>31</td>\n",
       "      <td>-31</td>\n",
       "      <td>AC 0011</td>\n",
       "      <td>1</td>\n",
       "      <td>17.710898</td>\n",
       "      <td>19.0</td>\n",
       "    </tr>\n",
       "    <tr>\n",
       "      <th>2</th>\n",
       "      <td>3</td>\n",
       "      <td>70382</td>\n",
       "      <td>Fall2014</td>\n",
       "      <td>C03</td>\n",
       "      <td>0</td>\n",
       "      <td>31</td>\n",
       "      <td>-31</td>\n",
       "      <td>AC 0011</td>\n",
       "      <td>1</td>\n",
       "      <td>17.710898</td>\n",
       "      <td>19.0</td>\n",
       "    </tr>\n",
       "    <tr>\n",
       "      <th>3</th>\n",
       "      <td>4</td>\n",
       "      <td>70291</td>\n",
       "      <td>Fall2014</td>\n",
       "      <td>C04</td>\n",
       "      <td>0</td>\n",
       "      <td>29</td>\n",
       "      <td>-29</td>\n",
       "      <td>AC 0011</td>\n",
       "      <td>2</td>\n",
       "      <td>17.710898</td>\n",
       "      <td>19.0</td>\n",
       "    </tr>\n",
       "    <tr>\n",
       "      <th>4</th>\n",
       "      <td>5</td>\n",
       "      <td>70350</td>\n",
       "      <td>Fall2014</td>\n",
       "      <td>C05</td>\n",
       "      <td>0</td>\n",
       "      <td>30</td>\n",
       "      <td>-30</td>\n",
       "      <td>AC 0011</td>\n",
       "      <td>2</td>\n",
       "      <td>17.710898</td>\n",
       "      <td>19.0</td>\n",
       "    </tr>\n",
       "  </tbody>\n",
       "</table>\n",
       "</div>"
      ],
      "text/plain": [
       "   SID    CRN      Term Section  Cap  Act  Rem    CatID  InID     AvgCap  \\\n",
       "0    1  70384  Fall2014     C01    0   31  -31  AC 0011     1  17.710898   \n",
       "1    2  70385  Fall2014     C02    0   31  -31  AC 0011     1  17.710898   \n",
       "2    3  70382  Fall2014     C03    0   31  -31  AC 0011     1  17.710898   \n",
       "3    4  70291  Fall2014     C04    0   29  -29  AC 0011     2  17.710898   \n",
       "4    5  70350  Fall2014     C05    0   30  -30  AC 0011     2  17.710898   \n",
       "\n",
       "   MedCap  \n",
       "0    19.0  \n",
       "1    19.0  \n",
       "2    19.0  \n",
       "3    19.0  \n",
       "4    19.0  "
      ]
     },
     "execution_count": 20,
     "metadata": {},
     "output_type": "execute_result"
    }
   ],
   "source": [
    "# df calc columns\n",
    "df['AvgCap'] = df[\"Cap\"].mean()\n",
    "df['MedCap'] = df['Cap'].median()\n",
    "df.head()"
   ]
  },
  {
   "cell_type": "code",
   "execution_count": 21,
   "metadata": {},
   "outputs": [
    {
     "data": {
      "text/html": [
       "<div>\n",
       "<style scoped>\n",
       "    .dataframe tbody tr th:only-of-type {\n",
       "        vertical-align: middle;\n",
       "    }\n",
       "\n",
       "    .dataframe tbody tr th {\n",
       "        vertical-align: top;\n",
       "    }\n",
       "\n",
       "    .dataframe thead th {\n",
       "        text-align: right;\n",
       "    }\n",
       "</style>\n",
       "<table border=\"1\" class=\"dataframe\">\n",
       "  <thead>\n",
       "    <tr style=\"text-align: right;\">\n",
       "      <th></th>\n",
       "      <th>SID</th>\n",
       "      <th>CRN</th>\n",
       "      <th>Term</th>\n",
       "      <th>Section</th>\n",
       "      <th>Cap</th>\n",
       "      <th>Act</th>\n",
       "      <th>Rem</th>\n",
       "      <th>CatID</th>\n",
       "      <th>InID</th>\n",
       "      <th>AvgCap</th>\n",
       "      <th>MedCap</th>\n",
       "      <th>CountCRN</th>\n",
       "      <th>CountLocation</th>\n",
       "    </tr>\n",
       "  </thead>\n",
       "  <tbody>\n",
       "    <tr>\n",
       "      <th>0</th>\n",
       "      <td>1</td>\n",
       "      <td>70384</td>\n",
       "      <td>Fall2014</td>\n",
       "      <td>C01</td>\n",
       "      <td>0</td>\n",
       "      <td>31</td>\n",
       "      <td>-31</td>\n",
       "      <td>AC 0011</td>\n",
       "      <td>1</td>\n",
       "      <td>17.710898</td>\n",
       "      <td>19.0</td>\n",
       "      <td>11291</td>\n",
       "      <td>207</td>\n",
       "    </tr>\n",
       "    <tr>\n",
       "      <th>1</th>\n",
       "      <td>2</td>\n",
       "      <td>70385</td>\n",
       "      <td>Fall2014</td>\n",
       "      <td>C02</td>\n",
       "      <td>0</td>\n",
       "      <td>31</td>\n",
       "      <td>-31</td>\n",
       "      <td>AC 0011</td>\n",
       "      <td>1</td>\n",
       "      <td>17.710898</td>\n",
       "      <td>19.0</td>\n",
       "      <td>11291</td>\n",
       "      <td>207</td>\n",
       "    </tr>\n",
       "    <tr>\n",
       "      <th>2</th>\n",
       "      <td>3</td>\n",
       "      <td>70382</td>\n",
       "      <td>Fall2014</td>\n",
       "      <td>C03</td>\n",
       "      <td>0</td>\n",
       "      <td>31</td>\n",
       "      <td>-31</td>\n",
       "      <td>AC 0011</td>\n",
       "      <td>1</td>\n",
       "      <td>17.710898</td>\n",
       "      <td>19.0</td>\n",
       "      <td>11291</td>\n",
       "      <td>207</td>\n",
       "    </tr>\n",
       "    <tr>\n",
       "      <th>3</th>\n",
       "      <td>4</td>\n",
       "      <td>70291</td>\n",
       "      <td>Fall2014</td>\n",
       "      <td>C04</td>\n",
       "      <td>0</td>\n",
       "      <td>29</td>\n",
       "      <td>-29</td>\n",
       "      <td>AC 0011</td>\n",
       "      <td>2</td>\n",
       "      <td>17.710898</td>\n",
       "      <td>19.0</td>\n",
       "      <td>11291</td>\n",
       "      <td>207</td>\n",
       "    </tr>\n",
       "    <tr>\n",
       "      <th>4</th>\n",
       "      <td>5</td>\n",
       "      <td>70350</td>\n",
       "      <td>Fall2014</td>\n",
       "      <td>C05</td>\n",
       "      <td>0</td>\n",
       "      <td>30</td>\n",
       "      <td>-30</td>\n",
       "      <td>AC 0011</td>\n",
       "      <td>2</td>\n",
       "      <td>17.710898</td>\n",
       "      <td>19.0</td>\n",
       "      <td>11291</td>\n",
       "      <td>207</td>\n",
       "    </tr>\n",
       "  </tbody>\n",
       "</table>\n",
       "</div>"
      ],
      "text/plain": [
       "   SID    CRN      Term Section  Cap  Act  Rem    CatID  InID     AvgCap  \\\n",
       "0    1  70384  Fall2014     C01    0   31  -31  AC 0011     1  17.710898   \n",
       "1    2  70385  Fall2014     C02    0   31  -31  AC 0011     1  17.710898   \n",
       "2    3  70382  Fall2014     C03    0   31  -31  AC 0011     1  17.710898   \n",
       "3    4  70291  Fall2014     C04    0   29  -29  AC 0011     2  17.710898   \n",
       "4    5  70350  Fall2014     C05    0   30  -30  AC 0011     2  17.710898   \n",
       "\n",
       "   MedCap  CountCRN  CountLocation  \n",
       "0    19.0     11291            207  \n",
       "1    19.0     11291            207  \n",
       "2    19.0     11291            207  \n",
       "3    19.0     11291            207  \n",
       "4    19.0     11291            207  "
      ]
     },
     "execution_count": 21,
     "metadata": {},
     "output_type": "execute_result"
    }
   ],
   "source": [
    "df['CountCRN'] = df4.CRN.nunique()\n",
    "df['CountLocation'] = df4.Location.nunique()\n",
    "df.head()"
   ]
  },
  {
   "cell_type": "code",
   "execution_count": 22,
   "metadata": {},
   "outputs": [],
   "source": [
    "df.to_sql('COURSE', conn, if_exists='append', index=False)"
   ]
  },
  {
   "cell_type": "code",
   "execution_count": 23,
   "metadata": {},
   "outputs": [],
   "source": [
    "df3.to_sql('INSTRUCTOR', conn, if_exists='append', index=False)"
   ]
  },
  {
   "cell_type": "code",
   "execution_count": 24,
   "metadata": {},
   "outputs": [],
   "source": [
    "df4.to_sql('MEETING', conn, if_exists='append', index=False)"
   ]
  },
  {
   "cell_type": "code",
   "execution_count": 25,
   "metadata": {},
   "outputs": [],
   "source": [
    "df6.to_sql('PROGRAM', conn, if_exists='append', index=False)"
   ]
  },
  {
   "cell_type": "code",
   "execution_count": 26,
   "metadata": {},
   "outputs": [],
   "source": [
    "df2.to_sql('CATALOG', conn, if_exists='append', index=False)"
   ]
  },
  {
   "cell_type": "code",
   "execution_count": 27,
   "metadata": {},
   "outputs": [],
   "source": [
    "df5.to_sql('LOCATION', conn, if_exists='append', index=False)"
   ]
  },
  {
   "cell_type": "code",
   "execution_count": null,
   "metadata": {},
   "outputs": [],
   "source": []
  }
 ],
 "metadata": {
  "kernelspec": {
   "display_name": "Python 3",
   "language": "python",
   "name": "python3"
  },
  "language_info": {
   "codemirror_mode": {
    "name": "ipython",
    "version": 3
   },
   "file_extension": ".py",
   "mimetype": "text/x-python",
   "name": "python",
   "nbconvert_exporter": "python",
   "pygments_lexer": "ipython3",
   "version": "3.6.5"
  }
 },
 "nbformat": 4,
 "nbformat_minor": 2
}

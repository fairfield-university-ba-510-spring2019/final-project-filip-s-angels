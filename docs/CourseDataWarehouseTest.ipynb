{
 "cells": [
  {
   "cell_type": "code",
   "execution_count": 1,
   "metadata": {},
   "outputs": [
    {
     "data": {
      "text/plain": [
       "'Connected: @CourseDataWarehouse.db'"
      ]
     },
     "execution_count": 1,
     "metadata": {},
     "output_type": "execute_result"
    }
   ],
   "source": [
    "%load_ext sql\n",
    "%sql sqlite:///CourseDataWarehouse.db"
   ]
  },
  {
   "cell_type": "code",
   "execution_count": 2,
   "metadata": {},
   "outputs": [
    {
     "name": "stdout",
     "output_type": "stream",
     "text": [
      " * sqlite:///CourseDataWarehouse.db\n",
      "Done.\n"
     ]
    },
    {
     "data": {
      "text/html": [
       "<table>\n",
       "    <tr>\n",
       "        <th>InID</th>\n",
       "        <th>Name</th>\n",
       "    </tr>\n",
       "    <tr>\n",
       "        <td>274</td>\n",
       "        <td>Christopher L.  Huntley</td>\n",
       "    </tr>\n",
       "</table>"
      ],
      "text/plain": [
       "[(274, 'Christopher L.  Huntley')]"
      ]
     },
     "execution_count": 2,
     "metadata": {},
     "output_type": "execute_result"
    }
   ],
   "source": [
    "%%sql\n",
    "\n",
    "/*What is Prof. Huntleys InID in our database?*/\n",
    "\n",
    "SELECT * \n",
    "FROM INSTRUCTOR\n",
    "WHERE NAME LIKE '%Huntley%';"
   ]
  },
  {
   "cell_type": "markdown",
   "metadata": {},
   "source": [
    "# How many cat ids does not work  # "
   ]
  },
  {
   "cell_type": "code",
   "execution_count": 3,
   "metadata": {},
   "outputs": [
    {
     "name": "stdout",
     "output_type": "stream",
     "text": [
      " * sqlite:///CourseDataWarehouse.db\n",
      "Done.\n"
     ]
    },
    {
     "data": {
      "text/html": [
       "<table>\n",
       "    <tr>\n",
       "        <th>COUNT(CatID)</th>\n",
       "    </tr>\n",
       "    <tr>\n",
       "        <td>55</td>\n",
       "    </tr>\n",
       "</table>"
      ],
      "text/plain": [
       "[(55,)]"
      ]
     },
     "execution_count": 3,
     "metadata": {},
     "output_type": "execute_result"
    }
   ],
   "source": [
    "%%sql\n",
    "\n",
    "--How many Catalog ID classes are 4 credits?-- \n",
    "\n",
    "SELECT COUNT(CatID) \n",
    "FROM CATALOG\n",
    "WHERE Credits = '4 Credits' \n",
    "LIMIT 5;"
   ]
  },
  {
   "cell_type": "code",
   "execution_count": 4,
   "metadata": {},
   "outputs": [
    {
     "name": "stdout",
     "output_type": "stream",
     "text": [
      " * sqlite:///CourseDataWarehouse.db\n",
      "Done.\n"
     ]
    },
    {
     "data": {
      "text/html": [
       "<table>\n",
       "    <tr>\n",
       "        <th>COUNT(InID)</th>\n",
       "    </tr>\n",
       "    <tr>\n",
       "        <td>1103</td>\n",
       "    </tr>\n",
       "</table>"
      ],
      "text/plain": [
       "[(1103,)]"
      ]
     },
     "execution_count": 4,
     "metadata": {},
     "output_type": "execute_result"
    }
   ],
   "source": [
    "%%sql\n",
    "\n",
    "--How many insructors do we have in our database?-- \n",
    "\n",
    "SELECT COUNT(InID) \n",
    "FROM Instructor \n",
    "LIMIT 5;"
   ]
  },
  {
   "cell_type": "code",
   "execution_count": 5,
   "metadata": {},
   "outputs": [
    {
     "name": "stdout",
     "output_type": "stream",
     "text": [
      " * sqlite:///CourseDataWarehouse.db\n",
      "Done.\n"
     ]
    },
    {
     "data": {
      "text/html": [
       "<table>\n",
       "    <tr>\n",
       "        <th>CourseHours</th>\n",
       "        <th>CRN</th>\n",
       "        <th>Location</th>\n",
       "        <th>Term</th>\n",
       "    </tr>\n",
       "    <tr>\n",
       "        <td>816</td>\n",
       "        <td>37510</td>\n",
       "        <td>DSB 105</td>\n",
       "        <td>Spring2019</td>\n",
       "    </tr>\n",
       "    <tr>\n",
       "        <td>644</td>\n",
       "        <td>37174</td>\n",
       "        <td>DSB 111</td>\n",
       "        <td>Spring2019</td>\n",
       "    </tr>\n",
       "    <tr>\n",
       "        <td>630</td>\n",
       "        <td>37512</td>\n",
       "        <td>DSB 106</td>\n",
       "        <td>Spring2019</td>\n",
       "    </tr>\n",
       "    <tr>\n",
       "        <td>602</td>\n",
       "        <td>37171</td>\n",
       "        <td>DSB 112</td>\n",
       "        <td>Spring2019</td>\n",
       "    </tr>\n",
       "    <tr>\n",
       "        <td>582</td>\n",
       "        <td>37364</td>\n",
       "        <td>DSB 109</td>\n",
       "        <td>Spring2019</td>\n",
       "    </tr>\n",
       "    <tr>\n",
       "        <td>545</td>\n",
       "        <td>37079</td>\n",
       "        <td>DSB 115</td>\n",
       "        <td>Spring2019</td>\n",
       "    </tr>\n",
       "    <tr>\n",
       "        <td>491</td>\n",
       "        <td>37295</td>\n",
       "        <td>DSB 104</td>\n",
       "        <td>Spring2019</td>\n",
       "    </tr>\n",
       "    <tr>\n",
       "        <td>473</td>\n",
       "        <td>37032</td>\n",
       "        <td>DSB 108</td>\n",
       "        <td>Spring2019</td>\n",
       "    </tr>\n",
       "    <tr>\n",
       "        <td>387</td>\n",
       "        <td>37257</td>\n",
       "        <td>DSB 110A</td>\n",
       "        <td>Spring2019</td>\n",
       "    </tr>\n",
       "    <tr>\n",
       "        <td>380</td>\n",
       "        <td>37366</td>\n",
       "        <td>DSB 110B</td>\n",
       "        <td>Spring2019</td>\n",
       "    </tr>\n",
       "</table>"
      ],
      "text/plain": [
       "[(816, 37510, 'DSB 105', 'Spring2019'),\n",
       " (644, 37174, 'DSB 111', 'Spring2019'),\n",
       " (630, 37512, 'DSB 106', 'Spring2019'),\n",
       " (602, 37171, 'DSB 112', 'Spring2019'),\n",
       " (582, 37364, 'DSB 109', 'Spring2019'),\n",
       " (545, 37079, 'DSB 115', 'Spring2019'),\n",
       " (491, 37295, 'DSB 104', 'Spring2019'),\n",
       " (473, 37032, 'DSB 108', 'Spring2019'),\n",
       " (387, 37257, 'DSB 110A', 'Spring2019'),\n",
       " (380, 37366, 'DSB 110B', 'Spring2019')]"
      ]
     },
     "execution_count": 5,
     "metadata": {},
     "output_type": "execute_result"
    }
   ],
   "source": [
    "%%sql \n",
    "\n",
    "--Which DSB classroom has the most class hours scheduled for the Spring 2019 semester?--\n",
    "\n",
    "SELECT (SUM(strftime('%s',End)-strftime('%s',Start))/60)/60 AS CourseHours, CRN, Location, Term\n",
    "FROM MEETING\n",
    "WHERE LOCATION LIKE '%DSB%' AND Term = 'Spring2019'\n",
    "GROUP BY Location, Term\n",
    "ORDER BY CourseHours DESC\n",
    "LIMIT 10;"
   ]
  },
  {
   "cell_type": "code",
   "execution_count": 6,
   "metadata": {},
   "outputs": [
    {
     "name": "stdout",
     "output_type": "stream",
     "text": [
      " * sqlite:///CourseDataWarehouse.db\n",
      "Done.\n"
     ]
    },
    {
     "data": {
      "text/html": [
       "<table>\n",
       "    <tr>\n",
       "        <th>InID</th>\n",
       "        <th>Term</th>\n",
       "        <th>Name</th>\n",
       "        <th>CoursesTaught</th>\n",
       "        <th>CatID</th>\n",
       "    </tr>\n",
       "    <tr>\n",
       "        <td>173</td>\n",
       "        <td>Fall2017</td>\n",
       "        <td>Sonya R.  Huber</td>\n",
       "        <td>32</td>\n",
       "        <td>ENW 0306</td>\n",
       "    </tr>\n",
       "    <tr>\n",
       "        <td>173</td>\n",
       "        <td>Spring2016</td>\n",
       "        <td>Sonya R.  Huber</td>\n",
       "        <td>32</td>\n",
       "        <td>ENW 0206</td>\n",
       "    </tr>\n",
       "    <tr>\n",
       "        <td>173</td>\n",
       "        <td>Fall2015</td>\n",
       "        <td>Sonya R.  Huber</td>\n",
       "        <td>31</td>\n",
       "        <td>ENW 0306</td>\n",
       "    </tr>\n",
       "    <tr>\n",
       "        <td>173</td>\n",
       "        <td>Fall2016</td>\n",
       "        <td>Sonya R.  Huber</td>\n",
       "        <td>31</td>\n",
       "        <td>ENW 0346</td>\n",
       "    </tr>\n",
       "    <tr>\n",
       "        <td>173</td>\n",
       "        <td>Spring2017</td>\n",
       "        <td>Sonya R.  Huber</td>\n",
       "        <td>31</td>\n",
       "        <td>ENW 0206</td>\n",
       "    </tr>\n",
       "    <tr>\n",
       "        <td>216</td>\n",
       "        <td>Spring2015</td>\n",
       "        <td>Michael C.  White</td>\n",
       "        <td>29</td>\n",
       "        <td>ENW 0305</td>\n",
       "    </tr>\n",
       "    <tr>\n",
       "        <td>216</td>\n",
       "        <td>Fall2014</td>\n",
       "        <td>Michael C.  White</td>\n",
       "        <td>27</td>\n",
       "        <td>ENW 0205</td>\n",
       "    </tr>\n",
       "    <tr>\n",
       "        <td>270</td>\n",
       "        <td>Fall2014</td>\n",
       "        <td>Laura   Nash</td>\n",
       "        <td>21</td>\n",
       "        <td>HR 0202</td>\n",
       "    </tr>\n",
       "    <tr>\n",
       "        <td>635</td>\n",
       "        <td>Fall2016</td>\n",
       "        <td>Caitlin E.  Hughes</td>\n",
       "        <td>18</td>\n",
       "        <td>MU 0060</td>\n",
       "    </tr>\n",
       "    <tr>\n",
       "        <td>270</td>\n",
       "        <td>Spring2015</td>\n",
       "        <td>Laura   Nash</td>\n",
       "        <td>17</td>\n",
       "        <td>MU 0065</td>\n",
       "    </tr>\n",
       "</table>"
      ],
      "text/plain": [
       "[(173, 'Fall2017', 'Sonya R.  Huber', 32, 'ENW 0306'),\n",
       " (173, 'Spring2016', 'Sonya R.  Huber', 32, 'ENW 0206'),\n",
       " (173, 'Fall2015', 'Sonya R.  Huber', 31, 'ENW 0306'),\n",
       " (173, 'Fall2016', 'Sonya R.  Huber', 31, 'ENW 0346'),\n",
       " (173, 'Spring2017', 'Sonya R.  Huber', 31, 'ENW 0206'),\n",
       " (216, 'Spring2015', 'Michael C.  White', 29, 'ENW 0305'),\n",
       " (216, 'Fall2014', 'Michael C.  White', 27, 'ENW 0205'),\n",
       " (270, 'Fall2014', 'Laura   Nash', 21, 'HR 0202'),\n",
       " (635, 'Fall2016', 'Caitlin E.  Hughes', 18, 'MU 0060'),\n",
       " (270, 'Spring2015', 'Laura   Nash', 17, 'MU 0065')]"
      ]
     },
     "execution_count": 6,
     "metadata": {},
     "output_type": "execute_result"
    }
   ],
   "source": [
    "%%sql \n",
    "\n",
    "--Which professor has taught the most courses per Semester?-- \n",
    "\n",
    "SELECT InID, Term, Name, Count(Name) AS CoursesTaught, CatID\n",
    "FROM Instructor\n",
    "    JOIN COURSE USING (InID)\n",
    "GROUP BY InID, Term\n",
    "ORDER BY CoursesTaught DESC\n",
    "LIMIT 10;"
   ]
  },
  {
   "cell_type": "code",
   "execution_count": 7,
   "metadata": {},
   "outputs": [
    {
     "name": "stdout",
     "output_type": "stream",
     "text": [
      " * sqlite:///CourseDataWarehouse.db\n",
      "Done.\n"
     ]
    },
    {
     "data": {
      "text/html": [
       "<table>\n",
       "    <tr>\n",
       "        <th>AverageCapacity</th>\n",
       "    </tr>\n",
       "    <tr>\n",
       "        <td>22.514390691977955</td>\n",
       "    </tr>\n",
       "</table>"
      ],
      "text/plain": [
       "[(22.514390691977955,)]"
      ]
     },
     "execution_count": 7,
     "metadata": {},
     "output_type": "execute_result"
    }
   ],
   "source": [
    "%%sql \n",
    "\n",
    "--What is the average class capacity where the capacity is greater than 10 students?--\n",
    "\n",
    "SELECT AVG(CAP) as AverageCapacity\n",
    "FROM COURSE\n",
    "WHERE CAP>10;"
   ]
  },
  {
   "cell_type": "code",
   "execution_count": 8,
   "metadata": {},
   "outputs": [
    {
     "name": "stdout",
     "output_type": "stream",
     "text": [
      " * sqlite:///CourseDataWarehouse.db\n",
      "Done.\n"
     ]
    },
    {
     "data": {
      "text/html": [
       "<table>\n",
       "    <tr>\n",
       "        <th>CourseHours</th>\n",
       "        <th>Day</th>\n",
       "    </tr>\n",
       "    <tr>\n",
       "        <td>116562</td>\n",
       "        <td>T</td>\n",
       "    </tr>\n",
       "    <tr>\n",
       "        <td>111245</td>\n",
       "        <td>R</td>\n",
       "    </tr>\n",
       "    <tr>\n",
       "        <td>108106</td>\n",
       "        <td>M</td>\n",
       "    </tr>\n",
       "    <tr>\n",
       "        <td>96924</td>\n",
       "        <td>W</td>\n",
       "    </tr>\n",
       "    <tr>\n",
       "        <td>68230</td>\n",
       "        <td>F</td>\n",
       "    </tr>\n",
       "    <tr>\n",
       "        <td>7143</td>\n",
       "        <td>S</td>\n",
       "    </tr>\n",
       "    <tr>\n",
       "        <td>956</td>\n",
       "        <td>U</td>\n",
       "    </tr>\n",
       "</table>"
      ],
      "text/plain": [
       "[(116562, 'T'),\n",
       " (111245, 'R'),\n",
       " (108106, 'M'),\n",
       " (96924, 'W'),\n",
       " (68230, 'F'),\n",
       " (7143, 'S'),\n",
       " (956, 'U')]"
      ]
     },
     "execution_count": 8,
     "metadata": {},
     "output_type": "execute_result"
    }
   ],
   "source": [
    "%%sql \n",
    "\n",
    "--Which day of the week overall has the most course hours taught--\n",
    "\n",
    "SELECT ((SUM(strftime('%s',End)-strftime('%s',Start)))/60)/60 AS CourseHours, Day\n",
    "FROM MEETING\n",
    "WHERE DAY <> 'day'\n",
    "GROUP BY Day\n",
    "ORDER BY CourseHours DESC;"
   ]
  },
  {
   "cell_type": "markdown",
   "metadata": {},
   "source": [
    "# Huntley Queries!"
   ]
  },
  {
   "cell_type": "code",
   "execution_count": 9,
   "metadata": {},
   "outputs": [
    {
     "name": "stdout",
     "output_type": "stream",
     "text": [
      " * sqlite:///CourseDataWarehouse.db\n",
      "Done.\n"
     ]
    },
    {
     "data": {
      "text/html": [
       "<table>\n",
       "    <tr>\n",
       "        <th>CatID</th>\n",
       "        <th>Title</th>\n",
       "        <th>Name</th>\n",
       "        <th>TimesTaught</th>\n",
       "    </tr>\n",
       "    <tr>\n",
       "        <td>OM 0101</td>\n",
       "        <td>Operations Management</td>\n",
       "        <td>Christopher L.  Huntley</td>\n",
       "        <td>7</td>\n",
       "    </tr>\n",
       "    <tr>\n",
       "        <td>IS 0240</td>\n",
       "        <td>Systems Analysis and Logical Design</td>\n",
       "        <td>Christopher L.  Huntley</td>\n",
       "        <td>4</td>\n",
       "    </tr>\n",
       "    <tr>\n",
       "        <td>IS 0320</td>\n",
       "        <td>Systems Design and Implementation</td>\n",
       "        <td>Christopher L.  Huntley</td>\n",
       "        <td>4</td>\n",
       "    </tr>\n",
       "</table>"
      ],
      "text/plain": [
       "[('OM 0101', 'Operations Management', 'Christopher L.  Huntley', 7),\n",
       " ('IS 0240', 'Systems Analysis and Logical Design', 'Christopher L.  Huntley', 4),\n",
       " ('IS 0320', 'Systems Design and Implementation', 'Christopher L.  Huntley', 4)]"
      ]
     },
     "execution_count": 9,
     "metadata": {},
     "output_type": "execute_result"
    }
   ],
   "source": [
    "%%sql \n",
    "\n",
    "--Which class has Prof. Huntley taught the most?-- \n",
    "\n",
    "SELECT CatID, Title, Name, COUNT(InID) AS TimesTaught\n",
    "FROM Catalog\n",
    "    JOIN COURSE USING (CatID)\n",
    "    JOIN INSTRUCTOR USING (InID)\n",
    "WHERE NAME LIKE \"%Huntley%\"\n",
    "GROUP BY CatID\n",
    "ORDER BY TimesTaught DESC\n",
    "LIMIT 3;"
   ]
  },
  {
   "cell_type": "code",
   "execution_count": 10,
   "metadata": {},
   "outputs": [
    {
     "name": "stdout",
     "output_type": "stream",
     "text": [
      " * sqlite:///CourseDataWarehouse.db\n",
      "Done.\n"
     ]
    },
    {
     "data": {
      "text/html": [
       "<table>\n",
       "    <tr>\n",
       "        <th>Term</th>\n",
       "        <th>Name</th>\n",
       "        <th>CatID</th>\n",
       "    </tr>\n",
       "    <tr>\n",
       "        <td>Fall2014</td>\n",
       "        <td>Christopher L.  Huntley</td>\n",
       "        <td>IS 0100</td>\n",
       "    </tr>\n",
       "    <tr>\n",
       "        <td>Fall2015</td>\n",
       "        <td>Christopher L.  Huntley</td>\n",
       "        <td>IS 0100</td>\n",
       "    </tr>\n",
       "    <tr>\n",
       "        <td>Fall2015</td>\n",
       "        <td>Christopher L.  Huntley</td>\n",
       "        <td>IS 0100</td>\n",
       "    </tr>\n",
       "</table>"
      ],
      "text/plain": [
       "[('Fall2014', 'Christopher L.  Huntley', 'IS 0100'),\n",
       " ('Fall2015', 'Christopher L.  Huntley', 'IS 0100'),\n",
       " ('Fall2015', 'Christopher L.  Huntley', 'IS 0100')]"
      ]
     },
     "execution_count": 10,
     "metadata": {},
     "output_type": "execute_result"
    }
   ],
   "source": [
    "%%sql \n",
    "\n",
    "--How many times has Prof. Huntley taught IS 100-- \n",
    "\n",
    "SELECT TERM, Name, CatID\n",
    "FROM COURSE\n",
    "    JOIN INSTRUCTOR USING (InID)\n",
    "    JOIN CATALOG USING (CatID)\n",
    "WHERE NAME LIKE '%Huntley'AND CatID = \"IS 0100\";"
   ]
  },
  {
   "cell_type": "code",
   "execution_count": 11,
   "metadata": {},
   "outputs": [
    {
     "name": "stdout",
     "output_type": "stream",
     "text": [
      " * sqlite:///CourseDataWarehouse.db\n",
      "Done.\n"
     ]
    },
    {
     "data": {
      "text/html": [
       "<table>\n",
       "    <tr>\n",
       "        <th>Name</th>\n",
       "        <th>AmountOfClassesTaught</th>\n",
       "        <th>Term</th>\n",
       "    </tr>\n",
       "    <tr>\n",
       "        <td>Christopher L.  Huntley</td>\n",
       "        <td>4</td>\n",
       "        <td>Fall2015</td>\n",
       "    </tr>\n",
       "    <tr>\n",
       "        <td>Christopher L.  Huntley</td>\n",
       "        <td>4</td>\n",
       "        <td>Fall2017</td>\n",
       "    </tr>\n",
       "    <tr>\n",
       "        <td>Christopher L.  Huntley</td>\n",
       "        <td>4</td>\n",
       "        <td>Spring2017</td>\n",
       "    </tr>\n",
       "    <tr>\n",
       "        <td>Christopher L.  Huntley</td>\n",
       "        <td>4</td>\n",
       "        <td>Spring2018</td>\n",
       "    </tr>\n",
       "    <tr>\n",
       "        <td>Christopher L.  Huntley</td>\n",
       "        <td>3</td>\n",
       "        <td>Fall2014</td>\n",
       "    </tr>\n",
       "    <tr>\n",
       "        <td>Christopher L.  Huntley</td>\n",
       "        <td>3</td>\n",
       "        <td>Spring2016</td>\n",
       "    </tr>\n",
       "    <tr>\n",
       "        <td>Christopher L.  Huntley</td>\n",
       "        <td>2</td>\n",
       "        <td>Fall2016</td>\n",
       "    </tr>\n",
       "    <tr>\n",
       "        <td>Christopher L.  Huntley</td>\n",
       "        <td>2</td>\n",
       "        <td>Fall2018</td>\n",
       "    </tr>\n",
       "    <tr>\n",
       "        <td>Christopher L.  Huntley</td>\n",
       "        <td>2</td>\n",
       "        <td>Spring2019</td>\n",
       "    </tr>\n",
       "</table>"
      ],
      "text/plain": [
       "[('Christopher L.  Huntley', 4, 'Fall2015'),\n",
       " ('Christopher L.  Huntley', 4, 'Fall2017'),\n",
       " ('Christopher L.  Huntley', 4, 'Spring2017'),\n",
       " ('Christopher L.  Huntley', 4, 'Spring2018'),\n",
       " ('Christopher L.  Huntley', 3, 'Fall2014'),\n",
       " ('Christopher L.  Huntley', 3, 'Spring2016'),\n",
       " ('Christopher L.  Huntley', 2, 'Fall2016'),\n",
       " ('Christopher L.  Huntley', 2, 'Fall2018'),\n",
       " ('Christopher L.  Huntley', 2, 'Spring2019')]"
      ]
     },
     "execution_count": 11,
     "metadata": {},
     "output_type": "execute_result"
    }
   ],
   "source": [
    "%%sql \n",
    "\n",
    "--Which semester has Prof. Huntley taught the most courses?-- \n",
    "\n",
    "SELECT Name, COUNT(CatID) AS AmountOfClassesTaught, Term\n",
    "FROM COURSE\n",
    "    JOIN INSTRUCTOR USING (InID)\n",
    "    JOIN Catalog USING (CatID)\n",
    "WHERE NAME LIKE \"%Huntley%\"\n",
    "GROUP BY Term\n",
    "ORDER BY AmountOfClassesTaught DESC;"
   ]
  },
  {
   "cell_type": "code",
   "execution_count": 12,
   "metadata": {},
   "outputs": [
    {
     "name": "stdout",
     "output_type": "stream",
     "text": [
      " * sqlite:///CourseDataWarehouse.db\n",
      "Done.\n"
     ]
    },
    {
     "data": {
      "text/html": [
       "<table>\n",
       "    <tr>\n",
       "        <th>Name</th>\n",
       "        <th>Location</th>\n",
       "        <th>NumClassMeetings</th>\n",
       "    </tr>\n",
       "    <tr>\n",
       "        <td>Christopher L.  Huntley</td>\n",
       "        <td>DSB 106</td>\n",
       "        <td>108</td>\n",
       "    </tr>\n",
       "    <tr>\n",
       "        <td>Christopher L.  Huntley</td>\n",
       "        <td>DSB 110B</td>\n",
       "        <td>105</td>\n",
       "    </tr>\n",
       "    <tr>\n",
       "        <td>Christopher L.  Huntley</td>\n",
       "        <td>DSB 109</td>\n",
       "        <td>66</td>\n",
       "    </tr>\n",
       "    <tr>\n",
       "        <td>Christopher L.  Huntley</td>\n",
       "        <td>DSB 115</td>\n",
       "        <td>59</td>\n",
       "    </tr>\n",
       "    <tr>\n",
       "        <td>Christopher L.  Huntley</td>\n",
       "        <td>DSB 114</td>\n",
       "        <td>52</td>\n",
       "    </tr>\n",
       "    <tr>\n",
       "        <td>Christopher L.  Huntley</td>\n",
       "        <td>DSB 108</td>\n",
       "        <td>29</td>\n",
       "    </tr>\n",
       "    <tr>\n",
       "        <td>Christopher L.  Huntley</td>\n",
       "        <td>DSB 111</td>\n",
       "        <td>28</td>\n",
       "    </tr>\n",
       "    <tr>\n",
       "        <td>Christopher L.  Huntley</td>\n",
       "        <td>DSB 112</td>\n",
       "        <td>27</td>\n",
       "    </tr>\n",
       "    <tr>\n",
       "        <td>Christopher L.  Huntley</td>\n",
       "        <td>DSB 107</td>\n",
       "        <td>26</td>\n",
       "    </tr>\n",
       "    <tr>\n",
       "        <td>Christopher L.  Huntley</td>\n",
       "        <td>DSB 110A</td>\n",
       "        <td>26</td>\n",
       "    </tr>\n",
       "    <tr>\n",
       "        <td>Christopher L.  Huntley</td>\n",
       "        <td>DSB 104</td>\n",
       "        <td>14</td>\n",
       "    </tr>\n",
       "    <tr>\n",
       "        <td>Christopher L.  Huntley</td>\n",
       "        <td>DSB 2109A</td>\n",
       "        <td>14</td>\n",
       "    </tr>\n",
       "</table>"
      ],
      "text/plain": [
       "[('Christopher L.  Huntley', 'DSB 106', 108),\n",
       " ('Christopher L.  Huntley', 'DSB 110B', 105),\n",
       " ('Christopher L.  Huntley', 'DSB 109', 66),\n",
       " ('Christopher L.  Huntley', 'DSB 115', 59),\n",
       " ('Christopher L.  Huntley', 'DSB 114', 52),\n",
       " ('Christopher L.  Huntley', 'DSB 108', 29),\n",
       " ('Christopher L.  Huntley', 'DSB 111', 28),\n",
       " ('Christopher L.  Huntley', 'DSB 112', 27),\n",
       " ('Christopher L.  Huntley', 'DSB 107', 26),\n",
       " ('Christopher L.  Huntley', 'DSB 110A', 26),\n",
       " ('Christopher L.  Huntley', 'DSB 104', 14),\n",
       " ('Christopher L.  Huntley', 'DSB 2109A', 14)]"
      ]
     },
     "execution_count": 12,
     "metadata": {},
     "output_type": "execute_result"
    }
   ],
   "source": [
    "%%sql \n",
    "\n",
    "--Which DSB room has Prof. Huntley taught the most in?--\n",
    "\n",
    "SELECT Name, Location, COUNT(Location) AS NumClassMeetings\n",
    "FROM MEETING\n",
    "    JOIN COURSE USING (CRN, Term)\n",
    "    JOIN INSTRUCTOR USING (InID)\n",
    "    JOIN Catalog USING (CatID)\n",
    "WHERE NAME LIKE \"%Huntley%\"\n",
    "GROUP BY Location\n",
    "ORDER BY NumClassMeetings DESC;"
   ]
  },
  {
   "cell_type": "code",
   "execution_count": 13,
   "metadata": {},
   "outputs": [
    {
     "name": "stdout",
     "output_type": "stream",
     "text": [
      " * sqlite:///CourseDataWarehouse.db\n",
      "Done.\n"
     ]
    },
    {
     "data": {
      "text/html": [
       "<table>\n",
       "    <tr>\n",
       "        <th>CourseHours</th>\n",
       "        <th>Day</th>\n",
       "        <th>Name</th>\n",
       "    </tr>\n",
       "    <tr>\n",
       "        <td>248</td>\n",
       "        <td>W</td>\n",
       "        <td>Christopher L.  Huntley</td>\n",
       "    </tr>\n",
       "    <tr>\n",
       "        <td>234</td>\n",
       "        <td>T</td>\n",
       "        <td>Christopher L.  Huntley</td>\n",
       "    </tr>\n",
       "    <tr>\n",
       "        <td>183</td>\n",
       "        <td>R</td>\n",
       "        <td>Christopher L.  Huntley</td>\n",
       "    </tr>\n",
       "    <tr>\n",
       "        <td>173</td>\n",
       "        <td>M</td>\n",
       "        <td>Christopher L.  Huntley</td>\n",
       "    </tr>\n",
       "    <tr>\n",
       "        <td>83</td>\n",
       "        <td>F</td>\n",
       "        <td>Christopher L.  Huntley</td>\n",
       "    </tr>\n",
       "    <tr>\n",
       "        <td>48</td>\n",
       "        <td>S</td>\n",
       "        <td>Christopher L.  Huntley</td>\n",
       "    </tr>\n",
       "</table>"
      ],
      "text/plain": [
       "[(248, 'W', 'Christopher L.  Huntley'),\n",
       " (234, 'T', 'Christopher L.  Huntley'),\n",
       " (183, 'R', 'Christopher L.  Huntley'),\n",
       " (173, 'M', 'Christopher L.  Huntley'),\n",
       " (83, 'F', 'Christopher L.  Huntley'),\n",
       " (48, 'S', 'Christopher L.  Huntley')]"
      ]
     },
     "execution_count": 13,
     "metadata": {},
     "output_type": "execute_result"
    }
   ],
   "source": [
    "%%sql \n",
    "\n",
    "--Which day does Prof. Huntley historically teach the most?-- \n",
    "\n",
    "SELECT ((SUM(strftime('%s',End)-strftime('%s',Start)))/60)/60 AS CourseHours, Day, Name\n",
    "FROM MEETING\n",
    "    JOIN COURSE USING (CRN, Term)\n",
    "    JOIN Instructor USING (InID)\n",
    "WHERE DAY <> 'day'AND Name LIKE '%Huntley%'\n",
    "GROUP BY Day\n",
    "ORDER BY CourseHours DESC;"
   ]
  },
  {
   "cell_type": "code",
   "execution_count": null,
   "metadata": {},
   "outputs": [],
   "source": []
  },
  {
   "cell_type": "code",
   "execution_count": null,
   "metadata": {},
   "outputs": [],
   "source": []
  },
  {
   "cell_type": "code",
   "execution_count": null,
   "metadata": {},
   "outputs": [],
   "source": []
  }
 ],
 "metadata": {
  "kernelspec": {
   "display_name": "Python 3",
   "language": "python",
   "name": "python3"
  },
  "language_info": {
   "codemirror_mode": {
    "name": "ipython",
    "version": 3
   },
   "file_extension": ".py",
   "mimetype": "text/x-python",
   "name": "python",
   "nbconvert_exporter": "python",
   "pygments_lexer": "ipython3",
   "version": "3.6.5"
  }
 },
 "nbformat": 4,
 "nbformat_minor": 2
}

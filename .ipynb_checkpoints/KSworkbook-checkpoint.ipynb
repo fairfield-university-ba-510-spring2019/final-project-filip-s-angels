{
 "cells": [
  {
   "cell_type": "markdown",
   "metadata": {},
   "source": [
    "# **Create a SQLite database called CourseData.db**"
   ]
  },
  {
   "cell_type": "code",
   "execution_count": 1,
   "metadata": {},
   "outputs": [
    {
     "data": {
      "text/plain": [
       "'Connected: @CourseData.db'"
      ]
     },
     "execution_count": 1,
     "metadata": {},
     "output_type": "execute_result"
    }
   ],
   "source": [
    "%load_ext sql\n",
    "%sql sqlite:///CourseData.db"
   ]
  },
  {
   "cell_type": "code",
   "execution_count": null,
   "metadata": {},
   "outputs": [],
   "source": []
  },
  {
   "cell_type": "code",
   "execution_count": 2,
   "metadata": {},
   "outputs": [
    {
     "name": "stdout",
     "output_type": "stream",
     "text": [
      " * sqlite:///CourseData.db\n",
      "Done.\n",
      "Done.\n",
      "Done.\n",
      "Done.\n"
     ]
    },
    {
     "data": {
      "text/plain": [
       "[]"
      ]
     },
     "execution_count": 2,
     "metadata": {},
     "output_type": "execute_result"
    }
   ],
   "source": [
    "%%sql\n",
    "--Dropping tables for when we need to restart and clear CourseData database-- \n",
    "\n",
    "DROP TABLE IF EXISTS SECTION;\n",
    "DROP TABLE IF EXISTS COURSE;\n",
    "DROP TABLE IF EXISTS INSTRUCTOR;\n",
    "DROP TABLE IF EXISTS COURSE_MEETINGS;"
   ]
  },
  {
   "cell_type": "code",
   "execution_count": 3,
   "metadata": {},
   "outputs": [
    {
     "name": "stdout",
     "output_type": "stream",
     "text": [
      " * sqlite:///CourseData.db\n",
      "Done.\n"
     ]
    },
    {
     "data": {
      "text/plain": [
       "[]"
      ]
     },
     "execution_count": 3,
     "metadata": {},
     "output_type": "execute_result"
    }
   ],
   "source": [
    "%%sql\n",
    "-- Creating table INSTRUCTOR with surrogate primary key-- \n",
    "\n",
    "CREATE TABLE 'INSTRUCTOR' (\n",
    "    InID INTEGER NOT NULL PRIMARY KEY,\n",
    "    Name TEXT NOT NULL\n",
    ");"
   ]
  },
  {
   "cell_type": "code",
   "execution_count": 4,
   "metadata": {},
   "outputs": [
    {
     "name": "stdout",
     "output_type": "stream",
     "text": [
      " * sqlite:///CourseData.db\n",
      "(sqlite3.OperationalError) table 'CATALOG' already exists [SQL: \"--Creating table CATALOG with CatID as the primary key-- \\n\\nCREATE TABLE 'CATALOG'(\\n    CatID VARCHAR PRIMARY KEY,\\n    Title VARCHAR NOT NULL,\\n    Description TEXT NOT NULL,\\n    Credits TEXT NOT NULL,\\n    PName TEXT NOT NULL,\\n    PCode TEXT,\\n    PREREQS TEXT,\\n    COREQS TEXT,\\n    FEES INTEGER,\\n    Attribute TEXT\\n    \\n);\"] (Background on this error at: http://sqlalche.me/e/e3q8)\n"
     ]
    }
   ],
   "source": [
    "%%sql\n",
    "--Creating table CATALOG with CatID as the primary key-- \n",
    "\n",
    "CREATE TABLE 'CATALOG'(\n",
    "    CatID VARCHAR PRIMARY KEY,\n",
    "    Title VARCHAR NOT NULL,\n",
    "    Description TEXT NOT NULL,\n",
    "    Credits TEXT NOT NULL,\n",
    "    PName TEXT NOT NULL,\n",
    "    PCode TEXT,\n",
    "    PREREQS TEXT,\n",
    "    COREQS TEXT,\n",
    "    FEES INTEGER,\n",
    "    Attribute TEXT\n",
    "    \n",
    ");"
   ]
  },
  {
   "cell_type": "code",
   "execution_count": 5,
   "metadata": {},
   "outputs": [
    {
     "name": "stdout",
     "output_type": "stream",
     "text": [
      " * sqlite:///CourseData.db\n",
      "Done.\n"
     ]
    },
    {
     "data": {
      "text/plain": [
       "[]"
      ]
     },
     "execution_count": 5,
     "metadata": {},
     "output_type": "execute_result"
    }
   ],
   "source": [
    "%%sql\n",
    "--Creating table SECTION with surrogate primary key-- \n",
    "\n",
    "CREATE TABLE 'SECTION'(\n",
    "    SID INTEGER NOT NULL PRIMARY KEY,\n",
    "    CRN INTEGER NOT NULL,\n",
    "    Term TEXT NOT NULL,\n",
    "    Section VARCHAR NOT NULL,\n",
    "    Cap INTEGER,\n",
    "    Act INTEGER,\n",
    "    Rem INTEGER,\n",
    "    CatID VARCHAR,\n",
    "    InID INTEGER,\n",
    "    FOREIGN KEY (CatID) REFERENCES COURSE(CatID),\n",
    "    FOREIGN KEY (InID) REFERENCES INSTRUCTOR(InID)\n",
    ");"
   ]
  },
  {
   "cell_type": "code",
   "execution_count": 6,
   "metadata": {},
   "outputs": [
    {
     "name": "stdout",
     "output_type": "stream",
     "text": [
      " * sqlite:///CourseData.db\n",
      "Done.\n"
     ]
    },
    {
     "data": {
      "text/plain": [
       "[]"
      ]
     },
     "execution_count": 6,
     "metadata": {},
     "output_type": "execute_result"
    }
   ],
   "source": [
    "%%sql\n",
    "\n",
    "--Creating table COURSE_MEETINGS with CatID as the Primary Key-- \n",
    "\n",
    "CREATE TABLE 'COURSE_MEETINGS' (\n",
    "    MID INTEGER NOT NULL PRIMARY KEY,\n",
    "    CRN INTEGER NOT NULL,\n",
    "    Term TEXT NOT NULL,\n",
    "    Start TEXT NOT NULL,\n",
    "    Location VARCHAR NOT NULL,\n",
    "    Day TEXT NOT NULL,\n",
    "    End TEXT NOT NULL,\n",
    "    FOREIGN KEY (CRN) REFERENCES SECTION(CRN),\n",
    "    FOREIGN KEY (Term) REFERENCES SECTION(Term)\n",
    ");"
   ]
  },
  {
   "cell_type": "code",
   "execution_count": 7,
   "metadata": {},
   "outputs": [
    {
     "name": "stdout",
     "output_type": "stream",
     "text": [
      " * sqlite:///CourseData.db\n",
      "Done.\n"
     ]
    },
    {
     "data": {
      "text/html": [
       "<table>\n",
       "    <tr>\n",
       "        <th>Average_Capacity</th>\n",
       "    </tr>\n",
       "    <tr>\n",
       "        <td>None</td>\n",
       "    </tr>\n",
       "</table>"
      ],
      "text/plain": [
       "[(None,)]"
      ]
     },
     "execution_count": 7,
     "metadata": {},
     "output_type": "execute_result"
    }
   ],
   "source": [
    "%%sql\n",
    "SELECT AVG(Cap) AS Average_Capacity\n",
    "FROM SECTION;"
   ]
  },
  {
   "cell_type": "code",
   "execution_count": 8,
   "metadata": {},
   "outputs": [
    {
     "name": "stdout",
     "output_type": "stream",
     "text": [
      " * sqlite:///CourseData.db\n",
      "Done.\n"
     ]
    },
    {
     "data": {
      "text/html": [
       "<table>\n",
       "    <tr>\n",
       "        <th>COUNT(CatID)</th>\n",
       "    </tr>\n",
       "    <tr>\n",
       "        <td>55</td>\n",
       "    </tr>\n",
       "</table>"
      ],
      "text/plain": [
       "[(55,)]"
      ]
     },
     "execution_count": 8,
     "metadata": {},
     "output_type": "execute_result"
    }
   ],
   "source": [
    "%%sql\n",
    "SELECT COUNT(CatID) \n",
    "FROM Catalog\n",
    "WHERE Credits = '4 Credits' \n",
    "LIMIT 5;"
   ]
  },
  {
   "cell_type": "code",
   "execution_count": 9,
   "metadata": {},
   "outputs": [
    {
     "name": "stdout",
     "output_type": "stream",
     "text": [
      " * sqlite:///CourseData.db\n",
      "Done.\n"
     ]
    },
    {
     "data": {
      "text/html": [
       "<table>\n",
       "    <tr>\n",
       "        <th>Count(CatID)</th>\n",
       "        <th>PCode</th>\n",
       "        <th>PName</th>\n",
       "    </tr>\n",
       "    <tr>\n",
       "        <td>1</td>\n",
       "        <td>BEN</td>\n",
       "        <td>Bioengineering</td>\n",
       "    </tr>\n",
       "    <tr>\n",
       "        <td>18</td>\n",
       "        <td>BI</td>\n",
       "        <td>Biology</td>\n",
       "    </tr>\n",
       "    <tr>\n",
       "        <td>1</td>\n",
       "        <td>ED</td>\n",
       "        <td>Education</td>\n",
       "    </tr>\n",
       "    <tr>\n",
       "        <td>2</td>\n",
       "        <td>HR</td>\n",
       "        <td>Honors</td>\n",
       "    </tr>\n",
       "    <tr>\n",
       "        <td>1</td>\n",
       "        <td>ID</td>\n",
       "        <td>Interdisciplinary</td>\n",
       "    </tr>\n",
       "    <tr>\n",
       "        <td>1</td>\n",
       "        <td>LA</td>\n",
       "        <td>Latin</td>\n",
       "    </tr>\n",
       "    <tr>\n",
       "        <td>1</td>\n",
       "        <td>LAC</td>\n",
       "        <td>Latin American and Caribbean Studies</td>\n",
       "    </tr>\n",
       "    <tr>\n",
       "        <td>6</td>\n",
       "        <td>MA</td>\n",
       "        <td>Mathematics</td>\n",
       "    </tr>\n",
       "    <tr>\n",
       "        <td>19</td>\n",
       "        <td>NS</td>\n",
       "        <td>Nursing</td>\n",
       "    </tr>\n",
       "    <tr>\n",
       "        <td>3</td>\n",
       "        <td>PY</td>\n",
       "        <td>Psychology</td>\n",
       "    </tr>\n",
       "    <tr>\n",
       "        <td>2</td>\n",
       "        <td>SO</td>\n",
       "        <td>Sociology</td>\n",
       "    </tr>\n",
       "</table>"
      ],
      "text/plain": [
       "[(1, 'BEN', 'Bioengineering'),\n",
       " (18, 'BI', 'Biology'),\n",
       " (1, 'ED', 'Education'),\n",
       " (2, 'HR', 'Honors'),\n",
       " (1, 'ID', 'Interdisciplinary'),\n",
       " (1, 'LA', 'Latin'),\n",
       " (1, 'LAC', 'Latin American and Caribbean Studies'),\n",
       " (6, 'MA', 'Mathematics'),\n",
       " (19, 'NS', 'Nursing'),\n",
       " (3, 'PY', 'Psychology'),\n",
       " (2, 'SO', 'Sociology')]"
      ]
     },
     "execution_count": 9,
     "metadata": {},
     "output_type": "execute_result"
    }
   ],
   "source": [
    "%%sql\n",
    "SELECT Count(CatID), PCode, PName\n",
    "FROM Catalog\n",
    "WHERE Credits = '4 Credits' \n",
    "GROUP BY PCode\n",
    "LIMIT 25;"
   ]
  },
  {
   "cell_type": "code",
   "execution_count": 10,
   "metadata": {},
   "outputs": [
    {
     "name": "stdout",
     "output_type": "stream",
     "text": [
      " * sqlite:///CourseData.db\n",
      "Done.\n"
     ]
    },
    {
     "data": {
      "text/plain": [
       "[]"
      ]
     },
     "execution_count": 10,
     "metadata": {},
     "output_type": "execute_result"
    }
   ],
   "source": [
    "%%sql\n",
    "\n",
    "--Populating Course_Meetings table using import_course_meetings data-- \n",
    "\n",
    "INSERT INTO Course_Meetings (CRN, Term, Start, Location, Day, End)\n",
    "SELECT DISTINCT crn, term, start, location, day, end \n",
    "FROM import_course_meetings;"
   ]
  },
  {
   "cell_type": "code",
   "execution_count": 11,
   "metadata": {},
   "outputs": [
    {
     "name": "stdout",
     "output_type": "stream",
     "text": [
      " * sqlite:///CourseData.db\n",
      "Done.\n"
     ]
    },
    {
     "data": {
      "text/html": [
       "<table>\n",
       "    <tr>\n",
       "        <th>MID</th>\n",
       "        <th>CRN</th>\n",
       "        <th>Term</th>\n",
       "        <th>Start</th>\n",
       "        <th>Location</th>\n",
       "        <th>Day</th>\n",
       "        <th>End</th>\n",
       "    </tr>\n",
       "    <tr>\n",
       "        <td>1</td>\n",
       "        <td>70384</td>\n",
       "        <td>Fall2014</td>\n",
       "        <td>2014-09-02T08:00:00</td>\n",
       "        <td>DSB 105</td>\n",
       "        <td>T</td>\n",
       "        <td>2014-09-02T09:15:00</td>\n",
       "    </tr>\n",
       "    <tr>\n",
       "        <td>2</td>\n",
       "        <td>70384</td>\n",
       "        <td>Fall2014</td>\n",
       "        <td>2014-09-05T08:00:00</td>\n",
       "        <td>DSB 105</td>\n",
       "        <td>F</td>\n",
       "        <td>2014-09-05T09:15:00</td>\n",
       "    </tr>\n",
       "    <tr>\n",
       "        <td>3</td>\n",
       "        <td>70384</td>\n",
       "        <td>Fall2014</td>\n",
       "        <td>2014-09-09T08:00:00</td>\n",
       "        <td>DSB 105</td>\n",
       "        <td>T</td>\n",
       "        <td>2014-09-09T09:15:00</td>\n",
       "    </tr>\n",
       "    <tr>\n",
       "        <td>4</td>\n",
       "        <td>70384</td>\n",
       "        <td>Fall2014</td>\n",
       "        <td>2014-09-12T08:00:00</td>\n",
       "        <td>DSB 105</td>\n",
       "        <td>F</td>\n",
       "        <td>2014-09-12T09:15:00</td>\n",
       "    </tr>\n",
       "    <tr>\n",
       "        <td>5</td>\n",
       "        <td>70384</td>\n",
       "        <td>Fall2014</td>\n",
       "        <td>2014-09-16T08:00:00</td>\n",
       "        <td>DSB 105</td>\n",
       "        <td>T</td>\n",
       "        <td>2014-09-16T09:15:00</td>\n",
       "    </tr>\n",
       "    <tr>\n",
       "        <td>6</td>\n",
       "        <td>70384</td>\n",
       "        <td>Fall2014</td>\n",
       "        <td>2014-09-19T08:00:00</td>\n",
       "        <td>DSB 105</td>\n",
       "        <td>F</td>\n",
       "        <td>2014-09-19T09:15:00</td>\n",
       "    </tr>\n",
       "    <tr>\n",
       "        <td>7</td>\n",
       "        <td>70384</td>\n",
       "        <td>Fall2014</td>\n",
       "        <td>2014-09-23T08:00:00</td>\n",
       "        <td>DSB 105</td>\n",
       "        <td>T</td>\n",
       "        <td>2014-09-23T09:15:00</td>\n",
       "    </tr>\n",
       "    <tr>\n",
       "        <td>8</td>\n",
       "        <td>70384</td>\n",
       "        <td>Fall2014</td>\n",
       "        <td>2014-09-26T08:00:00</td>\n",
       "        <td>DSB 105</td>\n",
       "        <td>F</td>\n",
       "        <td>2014-09-26T09:15:00</td>\n",
       "    </tr>\n",
       "    <tr>\n",
       "        <td>9</td>\n",
       "        <td>70384</td>\n",
       "        <td>Fall2014</td>\n",
       "        <td>2014-09-30T08:00:00</td>\n",
       "        <td>DSB 105</td>\n",
       "        <td>T</td>\n",
       "        <td>2014-09-30T09:15:00</td>\n",
       "    </tr>\n",
       "    <tr>\n",
       "        <td>10</td>\n",
       "        <td>70384</td>\n",
       "        <td>Fall2014</td>\n",
       "        <td>2014-10-03T08:00:00</td>\n",
       "        <td>DSB 105</td>\n",
       "        <td>F</td>\n",
       "        <td>2014-10-03T09:15:00</td>\n",
       "    </tr>\n",
       "</table>"
      ],
      "text/plain": [
       "[(1, 70384, 'Fall2014', '2014-09-02T08:00:00', 'DSB 105', 'T', '2014-09-02T09:15:00'),\n",
       " (2, 70384, 'Fall2014', '2014-09-05T08:00:00', 'DSB 105', 'F', '2014-09-05T09:15:00'),\n",
       " (3, 70384, 'Fall2014', '2014-09-09T08:00:00', 'DSB 105', 'T', '2014-09-09T09:15:00'),\n",
       " (4, 70384, 'Fall2014', '2014-09-12T08:00:00', 'DSB 105', 'F', '2014-09-12T09:15:00'),\n",
       " (5, 70384, 'Fall2014', '2014-09-16T08:00:00', 'DSB 105', 'T', '2014-09-16T09:15:00'),\n",
       " (6, 70384, 'Fall2014', '2014-09-19T08:00:00', 'DSB 105', 'F', '2014-09-19T09:15:00'),\n",
       " (7, 70384, 'Fall2014', '2014-09-23T08:00:00', 'DSB 105', 'T', '2014-09-23T09:15:00'),\n",
       " (8, 70384, 'Fall2014', '2014-09-26T08:00:00', 'DSB 105', 'F', '2014-09-26T09:15:00'),\n",
       " (9, 70384, 'Fall2014', '2014-09-30T08:00:00', 'DSB 105', 'T', '2014-09-30T09:15:00'),\n",
       " (10, 70384, 'Fall2014', '2014-10-03T08:00:00', 'DSB 105', 'F', '2014-10-03T09:15:00')]"
      ]
     },
     "execution_count": 11,
     "metadata": {},
     "output_type": "execute_result"
    }
   ],
   "source": [
    "%%sql \n",
    "\n",
    "--Checking data population of Course_Meetings table-- \n",
    "\n",
    "SELECT * \n",
    "FROM Course_Meetings\n",
    "LIMIT 10;"
   ]
  },
  {
   "cell_type": "code",
   "execution_count": 12,
   "metadata": {},
   "outputs": [
    {
     "name": "stdout",
     "output_type": "stream",
     "text": [
      " * sqlite:///CourseData.db\n"
     ]
    },
    {
     "ename": "IntegrityError",
     "evalue": "(sqlite3.IntegrityError) UNIQUE constraint failed: CATALOG.CatID [SQL: '--Populating Catalog table using import_catalogs data--  \\n\\nINSERT INTO Catalog (CatID, Title, Description, Credits, PName, PCode, PREREQS, COREQS, FEES, Attribute)\\nSELECT DISTINCT catalog_id, course_title, description, credits, program_name, program_code, prereqs, coreqs, fees, attributes\\nFROM import_catalogs;'] (Background on this error at: http://sqlalche.me/e/gkpj)",
     "output_type": "error",
     "traceback": [
      "\u001b[0;31m---------------------------------------------------------------------------\u001b[0m",
      "\u001b[0;31mIntegrityError\u001b[0m                            Traceback (most recent call last)",
      "\u001b[0;32m/opt/tljh/user/lib/python3.6/site-packages/sqlalchemy/engine/base.py\u001b[0m in \u001b[0;36m_execute_context\u001b[0;34m(self, dialect, constructor, statement, parameters, *args)\u001b[0m\n\u001b[1;32m   1229\u001b[0m                     self.dialect.do_execute(\n\u001b[0;32m-> 1230\u001b[0;31m                         \u001b[0mcursor\u001b[0m\u001b[0;34m,\u001b[0m \u001b[0mstatement\u001b[0m\u001b[0;34m,\u001b[0m \u001b[0mparameters\u001b[0m\u001b[0;34m,\u001b[0m \u001b[0mcontext\u001b[0m\u001b[0;34m\u001b[0m\u001b[0m\n\u001b[0m\u001b[1;32m   1231\u001b[0m                     )\n",
      "\u001b[0;32m/opt/tljh/user/lib/python3.6/site-packages/sqlalchemy/engine/default.py\u001b[0m in \u001b[0;36mdo_execute\u001b[0;34m(self, cursor, statement, parameters, context)\u001b[0m\n\u001b[1;32m    535\u001b[0m     \u001b[0;32mdef\u001b[0m \u001b[0mdo_execute\u001b[0m\u001b[0;34m(\u001b[0m\u001b[0mself\u001b[0m\u001b[0;34m,\u001b[0m \u001b[0mcursor\u001b[0m\u001b[0;34m,\u001b[0m \u001b[0mstatement\u001b[0m\u001b[0;34m,\u001b[0m \u001b[0mparameters\u001b[0m\u001b[0;34m,\u001b[0m \u001b[0mcontext\u001b[0m\u001b[0;34m=\u001b[0m\u001b[0;32mNone\u001b[0m\u001b[0;34m)\u001b[0m\u001b[0;34m:\u001b[0m\u001b[0;34m\u001b[0m\u001b[0m\n\u001b[0;32m--> 536\u001b[0;31m         \u001b[0mcursor\u001b[0m\u001b[0;34m.\u001b[0m\u001b[0mexecute\u001b[0m\u001b[0;34m(\u001b[0m\u001b[0mstatement\u001b[0m\u001b[0;34m,\u001b[0m \u001b[0mparameters\u001b[0m\u001b[0;34m)\u001b[0m\u001b[0;34m\u001b[0m\u001b[0m\n\u001b[0m\u001b[1;32m    537\u001b[0m \u001b[0;34m\u001b[0m\u001b[0m\n",
      "\u001b[0;31mIntegrityError\u001b[0m: UNIQUE constraint failed: CATALOG.CatID",
      "\nThe above exception was the direct cause of the following exception:\n",
      "\u001b[0;31mIntegrityError\u001b[0m                            Traceback (most recent call last)",
      "\u001b[0;32m<ipython-input-12-dfd088024c91>\u001b[0m in \u001b[0;36m<module>\u001b[0;34m()\u001b[0m\n\u001b[0;32m----> 1\u001b[0;31m \u001b[0mget_ipython\u001b[0m\u001b[0;34m(\u001b[0m\u001b[0;34m)\u001b[0m\u001b[0;34m.\u001b[0m\u001b[0mrun_cell_magic\u001b[0m\u001b[0;34m(\u001b[0m\u001b[0;34m'sql'\u001b[0m\u001b[0;34m,\u001b[0m \u001b[0;34m''\u001b[0m\u001b[0;34m,\u001b[0m \u001b[0;34m'\\n--Populating Catalog table using import_catalogs data--  \\n\\nINSERT INTO Catalog (CatID, Title, Description, Credits, PName, PCode, PREREQS, COREQS, FEES, Attribute)\\nSELECT DISTINCT catalog_id, course_title, description, credits, program_name, program_code, prereqs, coreqs, fees, attributes\\nFROM import_catalogs;'\u001b[0m\u001b[0;34m)\u001b[0m\u001b[0;34m\u001b[0m\u001b[0m\n\u001b[0m",
      "\u001b[0;32m/opt/tljh/user/lib/python3.6/site-packages/IPython/core/interactiveshell.py\u001b[0m in \u001b[0;36mrun_cell_magic\u001b[0;34m(self, magic_name, line, cell)\u001b[0m\n\u001b[1;32m   2165\u001b[0m             \u001b[0mmagic_arg_s\u001b[0m \u001b[0;34m=\u001b[0m \u001b[0mself\u001b[0m\u001b[0;34m.\u001b[0m\u001b[0mvar_expand\u001b[0m\u001b[0;34m(\u001b[0m\u001b[0mline\u001b[0m\u001b[0;34m,\u001b[0m \u001b[0mstack_depth\u001b[0m\u001b[0;34m)\u001b[0m\u001b[0;34m\u001b[0m\u001b[0m\n\u001b[1;32m   2166\u001b[0m             \u001b[0;32mwith\u001b[0m \u001b[0mself\u001b[0m\u001b[0;34m.\u001b[0m\u001b[0mbuiltin_trap\u001b[0m\u001b[0;34m:\u001b[0m\u001b[0;34m\u001b[0m\u001b[0m\n\u001b[0;32m-> 2167\u001b[0;31m                 \u001b[0mresult\u001b[0m \u001b[0;34m=\u001b[0m \u001b[0mfn\u001b[0m\u001b[0;34m(\u001b[0m\u001b[0mmagic_arg_s\u001b[0m\u001b[0;34m,\u001b[0m \u001b[0mcell\u001b[0m\u001b[0;34m)\u001b[0m\u001b[0;34m\u001b[0m\u001b[0m\n\u001b[0m\u001b[1;32m   2168\u001b[0m             \u001b[0;32mreturn\u001b[0m \u001b[0mresult\u001b[0m\u001b[0;34m\u001b[0m\u001b[0m\n\u001b[1;32m   2169\u001b[0m \u001b[0;34m\u001b[0m\u001b[0m\n",
      "\u001b[0;32m<decorator-gen-126>\u001b[0m in \u001b[0;36mexecute\u001b[0;34m(self, line, cell, local_ns)\u001b[0m\n",
      "\u001b[0;32m/opt/tljh/user/lib/python3.6/site-packages/IPython/core/magic.py\u001b[0m in \u001b[0;36m<lambda>\u001b[0;34m(f, *a, **k)\u001b[0m\n\u001b[1;32m    185\u001b[0m     \u001b[0;31m# but it's overkill for just that one bit of state.\u001b[0m\u001b[0;34m\u001b[0m\u001b[0;34m\u001b[0m\u001b[0m\n\u001b[1;32m    186\u001b[0m     \u001b[0;32mdef\u001b[0m \u001b[0mmagic_deco\u001b[0m\u001b[0;34m(\u001b[0m\u001b[0marg\u001b[0m\u001b[0;34m)\u001b[0m\u001b[0;34m:\u001b[0m\u001b[0;34m\u001b[0m\u001b[0m\n\u001b[0;32m--> 187\u001b[0;31m         \u001b[0mcall\u001b[0m \u001b[0;34m=\u001b[0m \u001b[0;32mlambda\u001b[0m \u001b[0mf\u001b[0m\u001b[0;34m,\u001b[0m \u001b[0;34m*\u001b[0m\u001b[0ma\u001b[0m\u001b[0;34m,\u001b[0m \u001b[0;34m**\u001b[0m\u001b[0mk\u001b[0m\u001b[0;34m:\u001b[0m \u001b[0mf\u001b[0m\u001b[0;34m(\u001b[0m\u001b[0;34m*\u001b[0m\u001b[0ma\u001b[0m\u001b[0;34m,\u001b[0m \u001b[0;34m**\u001b[0m\u001b[0mk\u001b[0m\u001b[0;34m)\u001b[0m\u001b[0;34m\u001b[0m\u001b[0m\n\u001b[0m\u001b[1;32m    188\u001b[0m \u001b[0;34m\u001b[0m\u001b[0m\n\u001b[1;32m    189\u001b[0m         \u001b[0;32mif\u001b[0m \u001b[0mcallable\u001b[0m\u001b[0;34m(\u001b[0m\u001b[0marg\u001b[0m\u001b[0;34m)\u001b[0m\u001b[0;34m:\u001b[0m\u001b[0;34m\u001b[0m\u001b[0m\n",
      "\u001b[0;32m<decorator-gen-125>\u001b[0m in \u001b[0;36mexecute\u001b[0;34m(self, line, cell, local_ns)\u001b[0m\n",
      "\u001b[0;32m/opt/tljh/user/lib/python3.6/site-packages/IPython/core/magic.py\u001b[0m in \u001b[0;36m<lambda>\u001b[0;34m(f, *a, **k)\u001b[0m\n\u001b[1;32m    185\u001b[0m     \u001b[0;31m# but it's overkill for just that one bit of state.\u001b[0m\u001b[0;34m\u001b[0m\u001b[0;34m\u001b[0m\u001b[0m\n\u001b[1;32m    186\u001b[0m     \u001b[0;32mdef\u001b[0m \u001b[0mmagic_deco\u001b[0m\u001b[0;34m(\u001b[0m\u001b[0marg\u001b[0m\u001b[0;34m)\u001b[0m\u001b[0;34m:\u001b[0m\u001b[0;34m\u001b[0m\u001b[0m\n\u001b[0;32m--> 187\u001b[0;31m         \u001b[0mcall\u001b[0m \u001b[0;34m=\u001b[0m \u001b[0;32mlambda\u001b[0m \u001b[0mf\u001b[0m\u001b[0;34m,\u001b[0m \u001b[0;34m*\u001b[0m\u001b[0ma\u001b[0m\u001b[0;34m,\u001b[0m \u001b[0;34m**\u001b[0m\u001b[0mk\u001b[0m\u001b[0;34m:\u001b[0m \u001b[0mf\u001b[0m\u001b[0;34m(\u001b[0m\u001b[0;34m*\u001b[0m\u001b[0ma\u001b[0m\u001b[0;34m,\u001b[0m \u001b[0;34m**\u001b[0m\u001b[0mk\u001b[0m\u001b[0;34m)\u001b[0m\u001b[0;34m\u001b[0m\u001b[0m\n\u001b[0m\u001b[1;32m    188\u001b[0m \u001b[0;34m\u001b[0m\u001b[0m\n\u001b[1;32m    189\u001b[0m         \u001b[0;32mif\u001b[0m \u001b[0mcallable\u001b[0m\u001b[0;34m(\u001b[0m\u001b[0marg\u001b[0m\u001b[0;34m)\u001b[0m\u001b[0;34m:\u001b[0m\u001b[0;34m\u001b[0m\u001b[0m\n",
      "\u001b[0;32m/opt/tljh/user/lib/python3.6/site-packages/sql/magic.py\u001b[0m in \u001b[0;36mexecute\u001b[0;34m(self, line, cell, local_ns)\u001b[0m\n\u001b[1;32m     93\u001b[0m \u001b[0;34m\u001b[0m\u001b[0m\n\u001b[1;32m     94\u001b[0m         \u001b[0;32mtry\u001b[0m\u001b[0;34m:\u001b[0m\u001b[0;34m\u001b[0m\u001b[0m\n\u001b[0;32m---> 95\u001b[0;31m             \u001b[0mresult\u001b[0m \u001b[0;34m=\u001b[0m \u001b[0msql\u001b[0m\u001b[0;34m.\u001b[0m\u001b[0mrun\u001b[0m\u001b[0;34m.\u001b[0m\u001b[0mrun\u001b[0m\u001b[0;34m(\u001b[0m\u001b[0mconn\u001b[0m\u001b[0;34m,\u001b[0m \u001b[0mparsed\u001b[0m\u001b[0;34m[\u001b[0m\u001b[0;34m'sql'\u001b[0m\u001b[0;34m]\u001b[0m\u001b[0;34m,\u001b[0m \u001b[0mself\u001b[0m\u001b[0;34m,\u001b[0m \u001b[0muser_ns\u001b[0m\u001b[0;34m)\u001b[0m\u001b[0;34m\u001b[0m\u001b[0m\n\u001b[0m\u001b[1;32m     96\u001b[0m \u001b[0;34m\u001b[0m\u001b[0m\n\u001b[1;32m     97\u001b[0m             \u001b[0;32mif\u001b[0m \u001b[0mresult\u001b[0m \u001b[0;32mis\u001b[0m \u001b[0;32mnot\u001b[0m \u001b[0;32mNone\u001b[0m \u001b[0;32mand\u001b[0m \u001b[0;32mnot\u001b[0m \u001b[0misinstance\u001b[0m\u001b[0;34m(\u001b[0m\u001b[0mresult\u001b[0m\u001b[0;34m,\u001b[0m \u001b[0mstr\u001b[0m\u001b[0;34m)\u001b[0m \u001b[0;32mand\u001b[0m \u001b[0mself\u001b[0m\u001b[0;34m.\u001b[0m\u001b[0mcolumn_local_vars\u001b[0m\u001b[0;34m:\u001b[0m\u001b[0;34m\u001b[0m\u001b[0m\n",
      "\u001b[0;32m/opt/tljh/user/lib/python3.6/site-packages/sql/run.py\u001b[0m in \u001b[0;36mrun\u001b[0;34m(conn, sql, config, user_namespace)\u001b[0m\n\u001b[1;32m    338\u001b[0m             \u001b[0;32melse\u001b[0m\u001b[0;34m:\u001b[0m\u001b[0;34m\u001b[0m\u001b[0m\n\u001b[1;32m    339\u001b[0m                 \u001b[0mtxt\u001b[0m \u001b[0;34m=\u001b[0m \u001b[0msqlalchemy\u001b[0m\u001b[0;34m.\u001b[0m\u001b[0msql\u001b[0m\u001b[0;34m.\u001b[0m\u001b[0mtext\u001b[0m\u001b[0;34m(\u001b[0m\u001b[0mstatement\u001b[0m\u001b[0;34m)\u001b[0m\u001b[0;34m\u001b[0m\u001b[0m\n\u001b[0;32m--> 340\u001b[0;31m                 \u001b[0mresult\u001b[0m \u001b[0;34m=\u001b[0m \u001b[0mconn\u001b[0m\u001b[0;34m.\u001b[0m\u001b[0msession\u001b[0m\u001b[0;34m.\u001b[0m\u001b[0mexecute\u001b[0m\u001b[0;34m(\u001b[0m\u001b[0mtxt\u001b[0m\u001b[0;34m,\u001b[0m \u001b[0muser_namespace\u001b[0m\u001b[0;34m)\u001b[0m\u001b[0;34m\u001b[0m\u001b[0m\n\u001b[0m\u001b[1;32m    341\u001b[0m             \u001b[0m_commit\u001b[0m\u001b[0;34m(\u001b[0m\u001b[0mconn\u001b[0m\u001b[0;34m=\u001b[0m\u001b[0mconn\u001b[0m\u001b[0;34m,\u001b[0m \u001b[0mconfig\u001b[0m\u001b[0;34m=\u001b[0m\u001b[0mconfig\u001b[0m\u001b[0;34m)\u001b[0m\u001b[0;34m\u001b[0m\u001b[0m\n\u001b[1;32m    342\u001b[0m             \u001b[0;32mif\u001b[0m \u001b[0mresult\u001b[0m \u001b[0;32mand\u001b[0m \u001b[0mconfig\u001b[0m\u001b[0;34m.\u001b[0m\u001b[0mfeedback\u001b[0m\u001b[0;34m:\u001b[0m\u001b[0;34m\u001b[0m\u001b[0m\n",
      "\u001b[0;32m/opt/tljh/user/lib/python3.6/site-packages/sqlalchemy/engine/base.py\u001b[0m in \u001b[0;36mexecute\u001b[0;34m(self, object_, *multiparams, **params)\u001b[0m\n\u001b[1;32m    972\u001b[0m             \u001b[0;32mraise\u001b[0m \u001b[0mexc\u001b[0m\u001b[0;34m.\u001b[0m\u001b[0mObjectNotExecutableError\u001b[0m\u001b[0;34m(\u001b[0m\u001b[0mobject_\u001b[0m\u001b[0;34m)\u001b[0m\u001b[0;34m\u001b[0m\u001b[0m\n\u001b[1;32m    973\u001b[0m         \u001b[0;32melse\u001b[0m\u001b[0;34m:\u001b[0m\u001b[0;34m\u001b[0m\u001b[0m\n\u001b[0;32m--> 974\u001b[0;31m             \u001b[0;32mreturn\u001b[0m \u001b[0mmeth\u001b[0m\u001b[0;34m(\u001b[0m\u001b[0mself\u001b[0m\u001b[0;34m,\u001b[0m \u001b[0mmultiparams\u001b[0m\u001b[0;34m,\u001b[0m \u001b[0mparams\u001b[0m\u001b[0;34m)\u001b[0m\u001b[0;34m\u001b[0m\u001b[0m\n\u001b[0m\u001b[1;32m    975\u001b[0m \u001b[0;34m\u001b[0m\u001b[0m\n\u001b[1;32m    976\u001b[0m     \u001b[0;32mdef\u001b[0m \u001b[0m_execute_function\u001b[0m\u001b[0;34m(\u001b[0m\u001b[0mself\u001b[0m\u001b[0;34m,\u001b[0m \u001b[0mfunc\u001b[0m\u001b[0;34m,\u001b[0m \u001b[0mmultiparams\u001b[0m\u001b[0;34m,\u001b[0m \u001b[0mparams\u001b[0m\u001b[0;34m)\u001b[0m\u001b[0;34m:\u001b[0m\u001b[0;34m\u001b[0m\u001b[0m\n",
      "\u001b[0;32m/opt/tljh/user/lib/python3.6/site-packages/sqlalchemy/sql/elements.py\u001b[0m in \u001b[0;36m_execute_on_connection\u001b[0;34m(self, connection, multiparams, params)\u001b[0m\n\u001b[1;32m    271\u001b[0m     \u001b[0;32mdef\u001b[0m \u001b[0m_execute_on_connection\u001b[0m\u001b[0;34m(\u001b[0m\u001b[0mself\u001b[0m\u001b[0;34m,\u001b[0m \u001b[0mconnection\u001b[0m\u001b[0;34m,\u001b[0m \u001b[0mmultiparams\u001b[0m\u001b[0;34m,\u001b[0m \u001b[0mparams\u001b[0m\u001b[0;34m)\u001b[0m\u001b[0;34m:\u001b[0m\u001b[0;34m\u001b[0m\u001b[0m\n\u001b[1;32m    272\u001b[0m         \u001b[0;32mif\u001b[0m \u001b[0mself\u001b[0m\u001b[0;34m.\u001b[0m\u001b[0msupports_execution\u001b[0m\u001b[0;34m:\u001b[0m\u001b[0;34m\u001b[0m\u001b[0m\n\u001b[0;32m--> 273\u001b[0;31m             \u001b[0;32mreturn\u001b[0m \u001b[0mconnection\u001b[0m\u001b[0;34m.\u001b[0m\u001b[0m_execute_clauseelement\u001b[0m\u001b[0;34m(\u001b[0m\u001b[0mself\u001b[0m\u001b[0;34m,\u001b[0m \u001b[0mmultiparams\u001b[0m\u001b[0;34m,\u001b[0m \u001b[0mparams\u001b[0m\u001b[0;34m)\u001b[0m\u001b[0;34m\u001b[0m\u001b[0m\n\u001b[0m\u001b[1;32m    274\u001b[0m         \u001b[0;32melse\u001b[0m\u001b[0;34m:\u001b[0m\u001b[0;34m\u001b[0m\u001b[0m\n\u001b[1;32m    275\u001b[0m             \u001b[0;32mraise\u001b[0m \u001b[0mexc\u001b[0m\u001b[0;34m.\u001b[0m\u001b[0mObjectNotExecutableError\u001b[0m\u001b[0;34m(\u001b[0m\u001b[0mself\u001b[0m\u001b[0;34m)\u001b[0m\u001b[0;34m\u001b[0m\u001b[0m\n",
      "\u001b[0;32m/opt/tljh/user/lib/python3.6/site-packages/sqlalchemy/engine/base.py\u001b[0m in \u001b[0;36m_execute_clauseelement\u001b[0;34m(self, elem, multiparams, params)\u001b[0m\n\u001b[1;32m   1091\u001b[0m             \u001b[0mdistilled_params\u001b[0m\u001b[0;34m,\u001b[0m\u001b[0;34m\u001b[0m\u001b[0m\n\u001b[1;32m   1092\u001b[0m             \u001b[0mcompiled_sql\u001b[0m\u001b[0;34m,\u001b[0m\u001b[0;34m\u001b[0m\u001b[0m\n\u001b[0;32m-> 1093\u001b[0;31m             \u001b[0mdistilled_params\u001b[0m\u001b[0;34m,\u001b[0m\u001b[0;34m\u001b[0m\u001b[0m\n\u001b[0m\u001b[1;32m   1094\u001b[0m         )\n\u001b[1;32m   1095\u001b[0m         \u001b[0;32mif\u001b[0m \u001b[0mself\u001b[0m\u001b[0;34m.\u001b[0m\u001b[0m_has_events\u001b[0m \u001b[0;32mor\u001b[0m \u001b[0mself\u001b[0m\u001b[0;34m.\u001b[0m\u001b[0mengine\u001b[0m\u001b[0;34m.\u001b[0m\u001b[0m_has_events\u001b[0m\u001b[0;34m:\u001b[0m\u001b[0;34m\u001b[0m\u001b[0m\n",
      "\u001b[0;32m/opt/tljh/user/lib/python3.6/site-packages/sqlalchemy/engine/base.py\u001b[0m in \u001b[0;36m_execute_context\u001b[0;34m(self, dialect, constructor, statement, parameters, *args)\u001b[0m\n\u001b[1;32m   1232\u001b[0m         \u001b[0;32mexcept\u001b[0m \u001b[0mBaseException\u001b[0m \u001b[0;32mas\u001b[0m \u001b[0me\u001b[0m\u001b[0;34m:\u001b[0m\u001b[0;34m\u001b[0m\u001b[0m\n\u001b[1;32m   1233\u001b[0m             self._handle_dbapi_exception(\n\u001b[0;32m-> 1234\u001b[0;31m                 \u001b[0me\u001b[0m\u001b[0;34m,\u001b[0m \u001b[0mstatement\u001b[0m\u001b[0;34m,\u001b[0m \u001b[0mparameters\u001b[0m\u001b[0;34m,\u001b[0m \u001b[0mcursor\u001b[0m\u001b[0;34m,\u001b[0m \u001b[0mcontext\u001b[0m\u001b[0;34m\u001b[0m\u001b[0m\n\u001b[0m\u001b[1;32m   1235\u001b[0m             )\n\u001b[1;32m   1236\u001b[0m \u001b[0;34m\u001b[0m\u001b[0m\n",
      "\u001b[0;32m/opt/tljh/user/lib/python3.6/site-packages/sqlalchemy/engine/base.py\u001b[0m in \u001b[0;36m_handle_dbapi_exception\u001b[0;34m(self, e, statement, parameters, cursor, context)\u001b[0m\n\u001b[1;32m   1450\u001b[0m                 \u001b[0mutil\u001b[0m\u001b[0;34m.\u001b[0m\u001b[0mraise_from_cause\u001b[0m\u001b[0;34m(\u001b[0m\u001b[0mnewraise\u001b[0m\u001b[0;34m,\u001b[0m \u001b[0mexc_info\u001b[0m\u001b[0;34m)\u001b[0m\u001b[0;34m\u001b[0m\u001b[0m\n\u001b[1;32m   1451\u001b[0m             \u001b[0;32melif\u001b[0m \u001b[0mshould_wrap\u001b[0m\u001b[0;34m:\u001b[0m\u001b[0;34m\u001b[0m\u001b[0m\n\u001b[0;32m-> 1452\u001b[0;31m                 \u001b[0mutil\u001b[0m\u001b[0;34m.\u001b[0m\u001b[0mraise_from_cause\u001b[0m\u001b[0;34m(\u001b[0m\u001b[0msqlalchemy_exception\u001b[0m\u001b[0;34m,\u001b[0m \u001b[0mexc_info\u001b[0m\u001b[0;34m)\u001b[0m\u001b[0;34m\u001b[0m\u001b[0m\n\u001b[0m\u001b[1;32m   1453\u001b[0m             \u001b[0;32melse\u001b[0m\u001b[0;34m:\u001b[0m\u001b[0;34m\u001b[0m\u001b[0m\n\u001b[1;32m   1454\u001b[0m                 \u001b[0mutil\u001b[0m\u001b[0;34m.\u001b[0m\u001b[0mreraise\u001b[0m\u001b[0;34m(\u001b[0m\u001b[0;34m*\u001b[0m\u001b[0mexc_info\u001b[0m\u001b[0;34m)\u001b[0m\u001b[0;34m\u001b[0m\u001b[0m\n",
      "\u001b[0;32m/opt/tljh/user/lib/python3.6/site-packages/sqlalchemy/util/compat.py\u001b[0m in \u001b[0;36mraise_from_cause\u001b[0;34m(exception, exc_info)\u001b[0m\n\u001b[1;32m    294\u001b[0m     \u001b[0mexc_type\u001b[0m\u001b[0;34m,\u001b[0m \u001b[0mexc_value\u001b[0m\u001b[0;34m,\u001b[0m \u001b[0mexc_tb\u001b[0m \u001b[0;34m=\u001b[0m \u001b[0mexc_info\u001b[0m\u001b[0;34m\u001b[0m\u001b[0m\n\u001b[1;32m    295\u001b[0m     \u001b[0mcause\u001b[0m \u001b[0;34m=\u001b[0m \u001b[0mexc_value\u001b[0m \u001b[0;32mif\u001b[0m \u001b[0mexc_value\u001b[0m \u001b[0;32mis\u001b[0m \u001b[0;32mnot\u001b[0m \u001b[0mexception\u001b[0m \u001b[0;32melse\u001b[0m \u001b[0;32mNone\u001b[0m\u001b[0;34m\u001b[0m\u001b[0m\n\u001b[0;32m--> 296\u001b[0;31m     \u001b[0mreraise\u001b[0m\u001b[0;34m(\u001b[0m\u001b[0mtype\u001b[0m\u001b[0;34m(\u001b[0m\u001b[0mexception\u001b[0m\u001b[0;34m)\u001b[0m\u001b[0;34m,\u001b[0m \u001b[0mexception\u001b[0m\u001b[0;34m,\u001b[0m \u001b[0mtb\u001b[0m\u001b[0;34m=\u001b[0m\u001b[0mexc_tb\u001b[0m\u001b[0;34m,\u001b[0m \u001b[0mcause\u001b[0m\u001b[0;34m=\u001b[0m\u001b[0mcause\u001b[0m\u001b[0;34m)\u001b[0m\u001b[0;34m\u001b[0m\u001b[0m\n\u001b[0m\u001b[1;32m    297\u001b[0m \u001b[0;34m\u001b[0m\u001b[0m\n\u001b[1;32m    298\u001b[0m \u001b[0;34m\u001b[0m\u001b[0m\n",
      "\u001b[0;32m/opt/tljh/user/lib/python3.6/site-packages/sqlalchemy/util/compat.py\u001b[0m in \u001b[0;36mreraise\u001b[0;34m(tp, value, tb, cause)\u001b[0m\n\u001b[1;32m    274\u001b[0m             \u001b[0mvalue\u001b[0m\u001b[0;34m.\u001b[0m\u001b[0m__cause__\u001b[0m \u001b[0;34m=\u001b[0m \u001b[0mcause\u001b[0m\u001b[0;34m\u001b[0m\u001b[0m\n\u001b[1;32m    275\u001b[0m         \u001b[0;32mif\u001b[0m \u001b[0mvalue\u001b[0m\u001b[0;34m.\u001b[0m\u001b[0m__traceback__\u001b[0m \u001b[0;32mis\u001b[0m \u001b[0;32mnot\u001b[0m \u001b[0mtb\u001b[0m\u001b[0;34m:\u001b[0m\u001b[0;34m\u001b[0m\u001b[0m\n\u001b[0;32m--> 276\u001b[0;31m             \u001b[0;32mraise\u001b[0m \u001b[0mvalue\u001b[0m\u001b[0;34m.\u001b[0m\u001b[0mwith_traceback\u001b[0m\u001b[0;34m(\u001b[0m\u001b[0mtb\u001b[0m\u001b[0;34m)\u001b[0m\u001b[0;34m\u001b[0m\u001b[0m\n\u001b[0m\u001b[1;32m    277\u001b[0m         \u001b[0;32mraise\u001b[0m \u001b[0mvalue\u001b[0m\u001b[0;34m\u001b[0m\u001b[0m\n\u001b[1;32m    278\u001b[0m \u001b[0;34m\u001b[0m\u001b[0m\n",
      "\u001b[0;32m/opt/tljh/user/lib/python3.6/site-packages/sqlalchemy/engine/base.py\u001b[0m in \u001b[0;36m_execute_context\u001b[0;34m(self, dialect, constructor, statement, parameters, *args)\u001b[0m\n\u001b[1;32m   1228\u001b[0m                 \u001b[0;32mif\u001b[0m \u001b[0;32mnot\u001b[0m \u001b[0mevt_handled\u001b[0m\u001b[0;34m:\u001b[0m\u001b[0;34m\u001b[0m\u001b[0m\n\u001b[1;32m   1229\u001b[0m                     self.dialect.do_execute(\n\u001b[0;32m-> 1230\u001b[0;31m                         \u001b[0mcursor\u001b[0m\u001b[0;34m,\u001b[0m \u001b[0mstatement\u001b[0m\u001b[0;34m,\u001b[0m \u001b[0mparameters\u001b[0m\u001b[0;34m,\u001b[0m \u001b[0mcontext\u001b[0m\u001b[0;34m\u001b[0m\u001b[0m\n\u001b[0m\u001b[1;32m   1231\u001b[0m                     )\n\u001b[1;32m   1232\u001b[0m         \u001b[0;32mexcept\u001b[0m \u001b[0mBaseException\u001b[0m \u001b[0;32mas\u001b[0m \u001b[0me\u001b[0m\u001b[0;34m:\u001b[0m\u001b[0;34m\u001b[0m\u001b[0m\n",
      "\u001b[0;32m/opt/tljh/user/lib/python3.6/site-packages/sqlalchemy/engine/default.py\u001b[0m in \u001b[0;36mdo_execute\u001b[0;34m(self, cursor, statement, parameters, context)\u001b[0m\n\u001b[1;32m    534\u001b[0m \u001b[0;34m\u001b[0m\u001b[0m\n\u001b[1;32m    535\u001b[0m     \u001b[0;32mdef\u001b[0m \u001b[0mdo_execute\u001b[0m\u001b[0;34m(\u001b[0m\u001b[0mself\u001b[0m\u001b[0;34m,\u001b[0m \u001b[0mcursor\u001b[0m\u001b[0;34m,\u001b[0m \u001b[0mstatement\u001b[0m\u001b[0;34m,\u001b[0m \u001b[0mparameters\u001b[0m\u001b[0;34m,\u001b[0m \u001b[0mcontext\u001b[0m\u001b[0;34m=\u001b[0m\u001b[0;32mNone\u001b[0m\u001b[0;34m)\u001b[0m\u001b[0;34m:\u001b[0m\u001b[0;34m\u001b[0m\u001b[0m\n\u001b[0;32m--> 536\u001b[0;31m         \u001b[0mcursor\u001b[0m\u001b[0;34m.\u001b[0m\u001b[0mexecute\u001b[0m\u001b[0;34m(\u001b[0m\u001b[0mstatement\u001b[0m\u001b[0;34m,\u001b[0m \u001b[0mparameters\u001b[0m\u001b[0;34m)\u001b[0m\u001b[0;34m\u001b[0m\u001b[0m\n\u001b[0m\u001b[1;32m    537\u001b[0m \u001b[0;34m\u001b[0m\u001b[0m\n\u001b[1;32m    538\u001b[0m     \u001b[0;32mdef\u001b[0m \u001b[0mdo_execute_no_params\u001b[0m\u001b[0;34m(\u001b[0m\u001b[0mself\u001b[0m\u001b[0;34m,\u001b[0m \u001b[0mcursor\u001b[0m\u001b[0;34m,\u001b[0m \u001b[0mstatement\u001b[0m\u001b[0;34m,\u001b[0m \u001b[0mcontext\u001b[0m\u001b[0;34m=\u001b[0m\u001b[0;32mNone\u001b[0m\u001b[0;34m)\u001b[0m\u001b[0;34m:\u001b[0m\u001b[0;34m\u001b[0m\u001b[0m\n",
      "\u001b[0;31mIntegrityError\u001b[0m: (sqlite3.IntegrityError) UNIQUE constraint failed: CATALOG.CatID [SQL: '--Populating Catalog table using import_catalogs data--  \\n\\nINSERT INTO Catalog (CatID, Title, Description, Credits, PName, PCode, PREREQS, COREQS, FEES, Attribute)\\nSELECT DISTINCT catalog_id, course_title, description, credits, program_name, program_code, prereqs, coreqs, fees, attributes\\nFROM import_catalogs;'] (Background on this error at: http://sqlalche.me/e/gkpj)"
     ]
    }
   ],
   "source": [
    "%%sql \n",
    "\n",
    "--Populating Catalog table using import_catalogs data--  \n",
    "\n",
    "INSERT INTO Catalog (CatID, Title, Description, Credits, PName, PCode, PREREQS, COREQS, FEES, Attribute)\n",
    "SELECT DISTINCT catalog_id, course_title, description, credits, program_name, program_code, prereqs, coreqs, fees, attributes\n",
    "FROM import_catalogs;"
   ]
  },
  {
   "cell_type": "code",
   "execution_count": 13,
   "metadata": {},
   "outputs": [
    {
     "name": "stdout",
     "output_type": "stream",
     "text": [
      " * sqlite:///CourseData.db\n",
      "Done.\n"
     ]
    },
    {
     "data": {
      "text/html": [
       "<table>\n",
       "    <tr>\n",
       "        <th>CatID</th>\n",
       "        <th>Title</th>\n",
       "        <th>Description</th>\n",
       "        <th>Credits</th>\n",
       "        <th>PName</th>\n",
       "        <th>PCode</th>\n",
       "        <th>PREREQS</th>\n",
       "        <th>COREQS</th>\n",
       "        <th>FEES</th>\n",
       "        <th>Attribute</th>\n",
       "    </tr>\n",
       "    <tr>\n",
       "        <td>AN 0301</td>\n",
       "        <td>Independent Study</td>\n",
       "        <td>Students undertake an individualized program of study in consultation with a director from the Asian studies faculty.</td>\n",
       "        <td>1-3 Credits</td>\n",
       "        <td>Asian Studies</td>\n",
       "        <td>AN</td>\n",
       "        <td></td>\n",
       "        <td></td>\n",
       "        <td></td>\n",
       "        <td></td>\n",
       "    </tr>\n",
       "    <tr>\n",
       "        <td>AN 0310</td>\n",
       "        <td>Asian Studies Seminar</td>\n",
       "        <td>This seminar examines selected topics concerning Asia. This course is taught in conjunction with another 100-300 level course from a rotation of course offerings. Consult the Asian Studies director to identify the conjoined course for a given semester. The seminar concentrates on topics within the parameters of the conjoined course syllabus but adds research emphasis. Students registered for this course must complete a research project, to include 300-level research, in addition to the regular research requirements of the conjoined course, and a 25-50 page term paper in substitution of some portion of the conjoined course requirements, as determined by the instructor. Open to juniors and seniors only.</td>\n",
       "        <td>3 Credits</td>\n",
       "        <td>Asian Studies</td>\n",
       "        <td>AN</td>\n",
       "        <td></td>\n",
       "        <td></td>\n",
       "        <td></td>\n",
       "        <td></td>\n",
       "    </tr>\n",
       "    <tr>\n",
       "        <td>BU 0211</td>\n",
       "        <td>Legal Environment of Business</td>\n",
       "        <td>This course examines the broad philosophical as well as practical nature and function of the legal system, and introduces students to the legal and social responsibilities of business. The course includes an introduction to the legal system, the federal courts, Constitutional law, the United States Supreme Court, the civil process, and regulatory areas such as employment discrimination, protection of the environment, and corporate governance and securities markets.</td>\n",
       "        <td>3 Credits</td>\n",
       "        <td>Business</td>\n",
       "        <td>BU</td>\n",
       "        <td>Junior standing.</td>\n",
       "        <td></td>\n",
       "        <td></td>\n",
       "        <td></td>\n",
       "    </tr>\n",
       "    <tr>\n",
       "        <td>BU 0220</td>\n",
       "        <td>Environmental Law and Policy</td>\n",
       "        <td>This course surveys issues arising out of federal laws designed to protect the environment and manage resources. It considers in detail the role of the Environmental Protection Agency in the enforcement of environmental policies arising out of such laws as the National Environmental Policy Act, the Clean Water Act, and the Clear Air Act, among others. The course also considers the impact of Congress, political parties, bureaucracy, and interest groups in shaping environmental policy, giving special attention to the impact of environmental regulation on business and private property rights.</td>\n",
       "        <td>3 Credits</td>\n",
       "        <td>Business</td>\n",
       "        <td>BU</td>\n",
       "        <td></td>\n",
       "        <td></td>\n",
       "        <td></td>\n",
       "        <td>EVME Environmental Studies Major Elective, EVPE Environmental Studies Elective, EVSS Environmental Studies: Social Science, MGEL Management: General Elective</td>\n",
       "    </tr>\n",
       "    <tr>\n",
       "        <td>BU 0311</td>\n",
       "        <td>The Law of Contracts, Sales, and Property</td>\n",
       "        <td>This course examines the components of common law contracts including the concepts of offer and acceptance, consideration, capacity and legality, assignment of rights and delegation of duties, as well as discharge of contracts. The course covers Articles 2 and 2A of the Uniform Commercial Code relating to leases, sales of goods, and warranties. The course also considers personal and real property, and bailments.</td>\n",
       "        <td>3 Credits</td>\n",
       "        <td>Business</td>\n",
       "        <td>BU</td>\n",
       "        <td>BU 0211.</td>\n",
       "        <td></td>\n",
       "        <td></td>\n",
       "        <td></td>\n",
       "    </tr>\n",
       "</table>"
      ],
      "text/plain": [
       "[('AN 0301', 'Independent Study', 'Students undertake an individualized program of study in consultation with a director from the Asian studies faculty.', '1-3 Credits', 'Asian Studies', 'AN', '', '', '', ''),\n",
       " ('AN 0310', 'Asian Studies Seminar', 'This seminar examines selected topics concerning Asia. This course is taught in conjunction with another 100-300 level course from a rotation of cour ... (412 characters truncated) ... e term paper in substitution of some portion of the conjoined course requirements, as determined by the instructor. Open to juniors and seniors only.', '3 Credits', 'Asian Studies', 'AN', '', '', '', ''),\n",
       " ('BU 0211', 'Legal Environment of Business', 'This course examines the broad philosophical as well as practical nature and function of the legal system, and introduces students to the legal and s ... (171 characters truncated) ... ivil process, and regulatory areas such as employment discrimination, protection of the environment, and corporate governance and securities markets.', '3 Credits', 'Business', 'BU', 'Junior standing.', '', '', ''),\n",
       " ('BU 0220', 'Environmental Law and Policy', 'This course surveys issues arising out of federal laws designed to protect the environment and manage resources. It considers in detail the role of t ... (298 characters truncated) ... t groups in shaping environmental policy, giving special attention to the impact of environmental regulation on business and private property rights.', '3 Credits', 'Business', 'BU', '', '', '', 'EVME Environmental Studies Major Elective, EVPE Environmental Studies Elective, EVSS Environmental Studies: Social Science, MGEL Management: General Elective'),\n",
       " ('BU 0311', 'The Law of Contracts, Sales, and Property', 'This course examines the components of common law contracts including the concepts of offer and acceptance, consideration, capacity and legality, ass ... (117 characters truncated) ...  the Uniform Commercial Code relating to leases, sales of goods, and warranties. The course also considers personal and real property, and bailments.', '3 Credits', 'Business', 'BU', 'BU 0211.', '', '', '')]"
      ]
     },
     "execution_count": 13,
     "metadata": {},
     "output_type": "execute_result"
    }
   ],
   "source": [
    "%%sql \n",
    "\n",
    "--Checking data population of Course table-- \n",
    "\n",
    "SELECT * \n",
    "FROM Catalog\n",
    "LIMIT 5;"
   ]
  },
  {
   "cell_type": "code",
   "execution_count": 14,
   "metadata": {},
   "outputs": [
    {
     "name": "stdout",
     "output_type": "stream",
     "text": [
      " * sqlite:///CourseData.db\n",
      "Done.\n"
     ]
    },
    {
     "data": {
      "text/plain": [
       "[]"
      ]
     },
     "execution_count": 14,
     "metadata": {},
     "output_type": "execute_result"
    }
   ],
   "source": [
    "%%sql \n",
    "\n",
    "--Populating Instructor table using import_courses data--  \n",
    "\n",
    "INSERT INTO Instructor (Name)\n",
    "SELECT DISTINCT primary_instructor\n",
    "FROM import_courses;"
   ]
  },
  {
   "cell_type": "code",
   "execution_count": 15,
   "metadata": {},
   "outputs": [
    {
     "name": "stdout",
     "output_type": "stream",
     "text": [
      " * sqlite:///CourseData.db\n",
      "Done.\n"
     ]
    },
    {
     "data": {
      "text/html": [
       "<table>\n",
       "    <tr>\n",
       "        <th>InID</th>\n",
       "        <th>Name</th>\n",
       "    </tr>\n",
       "    <tr>\n",
       "        <td>1</td>\n",
       "        <td>Michael P.  Coyne</td>\n",
       "    </tr>\n",
       "    <tr>\n",
       "        <td>2</td>\n",
       "        <td>Rebecca I.  Bloch</td>\n",
       "    </tr>\n",
       "    <tr>\n",
       "        <td>3</td>\n",
       "        <td>Paul   Caster</td>\n",
       "    </tr>\n",
       "    <tr>\n",
       "        <td>4</td>\n",
       "        <td>Jo Ann   Drusbosky</td>\n",
       "    </tr>\n",
       "    <tr>\n",
       "        <td>5</td>\n",
       "        <td>Arleen N.  Kardos</td>\n",
       "    </tr>\n",
       "</table>"
      ],
      "text/plain": [
       "[(1, 'Michael P.  Coyne'),\n",
       " (2, 'Rebecca I.  Bloch'),\n",
       " (3, 'Paul   Caster'),\n",
       " (4, 'Jo Ann   Drusbosky'),\n",
       " (5, 'Arleen N.  Kardos')]"
      ]
     },
     "execution_count": 15,
     "metadata": {},
     "output_type": "execute_result"
    }
   ],
   "source": [
    "%%sql \n",
    "\n",
    "--Checking data population of Instructor table-- \n",
    "\n",
    "SELECT * \n",
    "FROM Instructor\n",
    "LIMIT 5;"
   ]
  },
  {
   "cell_type": "code",
   "execution_count": 16,
   "metadata": {},
   "outputs": [
    {
     "name": "stdout",
     "output_type": "stream",
     "text": [
      " * sqlite:///CourseData.db\n",
      "Done.\n"
     ]
    },
    {
     "data": {
      "text/plain": [
       "[]"
      ]
     },
     "execution_count": 16,
     "metadata": {},
     "output_type": "execute_result"
    }
   ],
   "source": [
    "%%sql \n",
    "\n",
    "--Populating the SECTION table using import_courses data--\n",
    "--Joining Instructor table using import_courses and instructor table--\n",
    "\n",
    "INSERT INTO SECTION (CRN, Term, Section, Cap, Act, Rem, CatID, InID)\n",
    "SELECT crn, term, section, cap, act, rem, catalog_id, InID\n",
    "FROM import_courses\n",
    "    JOIN Instructor ON (import_courses.primary_instructor = Instructor.Name)\n",
    ";"
   ]
  },
  {
   "cell_type": "code",
   "execution_count": 17,
   "metadata": {},
   "outputs": [
    {
     "name": "stdout",
     "output_type": "stream",
     "text": [
      " * sqlite:///CourseData.db\n",
      "Done.\n"
     ]
    },
    {
     "data": {
      "text/html": [
       "<table>\n",
       "    <tr>\n",
       "        <th>SID</th>\n",
       "        <th>CRN</th>\n",
       "        <th>Term</th>\n",
       "        <th>Section</th>\n",
       "        <th>Cap</th>\n",
       "        <th>Act</th>\n",
       "        <th>Rem</th>\n",
       "        <th>CatID</th>\n",
       "        <th>InID</th>\n",
       "    </tr>\n",
       "    <tr>\n",
       "        <td>1</td>\n",
       "        <td>70384</td>\n",
       "        <td>Fall2014</td>\n",
       "        <td>C01</td>\n",
       "        <td>0</td>\n",
       "        <td>31</td>\n",
       "        <td>-31</td>\n",
       "        <td>AC 0011</td>\n",
       "        <td>1</td>\n",
       "    </tr>\n",
       "    <tr>\n",
       "        <td>2</td>\n",
       "        <td>70385</td>\n",
       "        <td>Fall2014</td>\n",
       "        <td>C02</td>\n",
       "        <td>0</td>\n",
       "        <td>31</td>\n",
       "        <td>-31</td>\n",
       "        <td>AC 0011</td>\n",
       "        <td>1</td>\n",
       "    </tr>\n",
       "    <tr>\n",
       "        <td>3</td>\n",
       "        <td>70382</td>\n",
       "        <td>Fall2014</td>\n",
       "        <td>C03</td>\n",
       "        <td>0</td>\n",
       "        <td>31</td>\n",
       "        <td>-31</td>\n",
       "        <td>AC 0011</td>\n",
       "        <td>1</td>\n",
       "    </tr>\n",
       "    <tr>\n",
       "        <td>4</td>\n",
       "        <td>70291</td>\n",
       "        <td>Fall2014</td>\n",
       "        <td>C04</td>\n",
       "        <td>0</td>\n",
       "        <td>29</td>\n",
       "        <td>-29</td>\n",
       "        <td>AC 0011</td>\n",
       "        <td>2</td>\n",
       "    </tr>\n",
       "    <tr>\n",
       "        <td>5</td>\n",
       "        <td>70350</td>\n",
       "        <td>Fall2014</td>\n",
       "        <td>C05</td>\n",
       "        <td>0</td>\n",
       "        <td>30</td>\n",
       "        <td>-30</td>\n",
       "        <td>AC 0011</td>\n",
       "        <td>2</td>\n",
       "    </tr>\n",
       "    <tr>\n",
       "        <td>6</td>\n",
       "        <td>70381</td>\n",
       "        <td>Fall2014</td>\n",
       "        <td>C06</td>\n",
       "        <td>0</td>\n",
       "        <td>31</td>\n",
       "        <td>-31</td>\n",
       "        <td>AC 0011</td>\n",
       "        <td>2</td>\n",
       "    </tr>\n",
       "    <tr>\n",
       "        <td>7</td>\n",
       "        <td>70383</td>\n",
       "        <td>Fall2014</td>\n",
       "        <td>G</td>\n",
       "        <td>30</td>\n",
       "        <td>31</td>\n",
       "        <td>-1</td>\n",
       "        <td>AC 0011</td>\n",
       "        <td>3</td>\n",
       "    </tr>\n",
       "    <tr>\n",
       "        <td>8</td>\n",
       "        <td>70391</td>\n",
       "        <td>Fall2014</td>\n",
       "        <td>H</td>\n",
       "        <td>30</td>\n",
       "        <td>32</td>\n",
       "        <td>-2</td>\n",
       "        <td>AC 0011</td>\n",
       "        <td>4</td>\n",
       "    </tr>\n",
       "    <tr>\n",
       "        <td>9</td>\n",
       "        <td>71105</td>\n",
       "        <td>Fall2014</td>\n",
       "        <td>I</td>\n",
       "        <td>30</td>\n",
       "        <td>33</td>\n",
       "        <td>-3</td>\n",
       "        <td>AC 0011</td>\n",
       "        <td>4</td>\n",
       "    </tr>\n",
       "    <tr>\n",
       "        <td>10</td>\n",
       "        <td>71123</td>\n",
       "        <td>Fall2014</td>\n",
       "        <td>J</td>\n",
       "        <td>30</td>\n",
       "        <td>32</td>\n",
       "        <td>-2</td>\n",
       "        <td>AC 0011</td>\n",
       "        <td>4</td>\n",
       "    </tr>\n",
       "</table>"
      ],
      "text/plain": [
       "[(1, 70384, 'Fall2014', 'C01', 0, 31, -31, 'AC 0011', 1),\n",
       " (2, 70385, 'Fall2014', 'C02', 0, 31, -31, 'AC 0011', 1),\n",
       " (3, 70382, 'Fall2014', 'C03', 0, 31, -31, 'AC 0011', 1),\n",
       " (4, 70291, 'Fall2014', 'C04', 0, 29, -29, 'AC 0011', 2),\n",
       " (5, 70350, 'Fall2014', 'C05', 0, 30, -30, 'AC 0011', 2),\n",
       " (6, 70381, 'Fall2014', 'C06', 0, 31, -31, 'AC 0011', 2),\n",
       " (7, 70383, 'Fall2014', 'G', 30, 31, -1, 'AC 0011', 3),\n",
       " (8, 70391, 'Fall2014', 'H', 30, 32, -2, 'AC 0011', 4),\n",
       " (9, 71105, 'Fall2014', 'I', 30, 33, -3, 'AC 0011', 4),\n",
       " (10, 71123, 'Fall2014', 'J', 30, 32, -2, 'AC 0011', 4)]"
      ]
     },
     "execution_count": 17,
     "metadata": {},
     "output_type": "execute_result"
    }
   ],
   "source": [
    "%%sql \n",
    "\n",
    "--Checking data population of Section table--\n",
    "\n",
    "SELECT * \n",
    "FROM Section\n",
    "LIMIT 10;"
   ]
  },
  {
   "cell_type": "code",
   "execution_count": 18,
   "metadata": {},
   "outputs": [
    {
     "name": "stdout",
     "output_type": "stream",
     "text": [
      " * sqlite:///CourseData.db\n",
      "Done.\n"
     ]
    },
    {
     "data": {
      "text/html": [
       "<table>\n",
       "    <tr>\n",
       "        <th>CourseHours</th>\n",
       "        <th>CRN</th>\n",
       "        <th>Location</th>\n",
       "        <th>Term</th>\n",
       "    </tr>\n",
       "    <tr>\n",
       "        <td>40</td>\n",
       "        <td>10896</td>\n",
       "        <td>DMH 347</td>\n",
       "        <td>Winter2015</td>\n",
       "    </tr>\n",
       "    <tr>\n",
       "        <td>40</td>\n",
       "        <td>10903</td>\n",
       "        <td>JGS 25</td>\n",
       "        <td>Winter2015</td>\n",
       "    </tr>\n",
       "    <tr>\n",
       "        <td>40</td>\n",
       "        <td>10905</td>\n",
       "        <td>LYL 8</td>\n",
       "        <td>Winter2015</td>\n",
       "    </tr>\n",
       "    <tr>\n",
       "        <td>40</td>\n",
       "        <td>10906</td>\n",
       "        <td>DMH 231</td>\n",
       "        <td>Winter2015</td>\n",
       "    </tr>\n",
       "    <tr>\n",
       "        <td>108</td>\n",
       "        <td>10908</td>\n",
       "        <td>DSB 111</td>\n",
       "        <td>Winter2015</td>\n",
       "    </tr>\n",
       "    <tr>\n",
       "        <td>108</td>\n",
       "        <td>10909</td>\n",
       "        <td>DSB 111</td>\n",
       "        <td>Winter2015</td>\n",
       "    </tr>\n",
       "    <tr>\n",
       "        <td>40</td>\n",
       "        <td>10911</td>\n",
       "        <td>DSB 109</td>\n",
       "        <td>Winter2015</td>\n",
       "    </tr>\n",
       "    <tr>\n",
       "        <td>108</td>\n",
       "        <td>10912</td>\n",
       "        <td>DSB 107</td>\n",
       "        <td>Winter2015</td>\n",
       "    </tr>\n",
       "    <tr>\n",
       "        <td>176</td>\n",
       "        <td>10913</td>\n",
       "        <td>DSB 115</td>\n",
       "        <td>Winter2015</td>\n",
       "    </tr>\n",
       "    <tr>\n",
       "        <td>108</td>\n",
       "        <td>11601</td>\n",
       "        <td>DSB 107</td>\n",
       "        <td>Winter2016</td>\n",
       "    </tr>\n",
       "</table>"
      ],
      "text/plain": [
       "[(40, 10896, 'DMH 347', 'Winter2015'),\n",
       " (40, 10903, 'JGS 25', 'Winter2015'),\n",
       " (40, 10905, 'LYL 8', 'Winter2015'),\n",
       " (40, 10906, 'DMH 231', 'Winter2015'),\n",
       " (108, 10908, 'DSB 111', 'Winter2015'),\n",
       " (108, 10909, 'DSB 111', 'Winter2015'),\n",
       " (40, 10911, 'DSB 109', 'Winter2015'),\n",
       " (108, 10912, 'DSB 107', 'Winter2015'),\n",
       " (176, 10913, 'DSB 115', 'Winter2015'),\n",
       " (108, 11601, 'DSB 107', 'Winter2016')]"
      ]
     },
     "execution_count": 18,
     "metadata": {},
     "output_type": "execute_result"
    }
   ],
   "source": [
    "%%sql \n",
    "\n",
    "SELECT (SUM(strftime('%s',End)-strftime('%s',Start))/60)/60 AS CourseHours, CRN, Location, Term\n",
    "FROM Course_Meetings\n",
    "GROUP BY CRN\n",
    "LIMIT 10;"
   ]
  },
  {
   "cell_type": "code",
   "execution_count": 19,
   "metadata": {},
   "outputs": [
    {
     "name": "stdout",
     "output_type": "stream",
     "text": [
      " * sqlite:///CourseData.db\n",
      "Done.\n"
     ]
    },
    {
     "data": {
      "text/html": [
       "<table>\n",
       "    <tr>\n",
       "        <th>COUNT(CRN)</th>\n",
       "        <th>Location</th>\n",
       "        <th>Term</th>\n",
       "        <th>CourseHours</th>\n",
       "    </tr>\n",
       "    <tr>\n",
       "        <td>343</td>\n",
       "        <td>SON 203</td>\n",
       "        <td>Spring2017</td>\n",
       "        <td>1142</td>\n",
       "    </tr>\n",
       "    <tr>\n",
       "        <td>303</td>\n",
       "        <td>NHS 224</td>\n",
       "        <td>Spring2018</td>\n",
       "        <td>1076</td>\n",
       "    </tr>\n",
       "    <tr>\n",
       "        <td>156</td>\n",
       "        <td>YAL </td>\n",
       "        <td>Spring2017</td>\n",
       "        <td>994</td>\n",
       "    </tr>\n",
       "    <tr>\n",
       "        <td>133</td>\n",
       "        <td>BY ARR </td>\n",
       "        <td>Fall2015</td>\n",
       "        <td>989</td>\n",
       "    </tr>\n",
       "    <tr>\n",
       "        <td>134</td>\n",
       "        <td>YAL </td>\n",
       "        <td>Spring2019</td>\n",
       "        <td>938</td>\n",
       "    </tr>\n",
       "    <tr>\n",
       "        <td>130</td>\n",
       "        <td>YAL </td>\n",
       "        <td>Fall2016</td>\n",
       "        <td>910</td>\n",
       "    </tr>\n",
       "    <tr>\n",
       "        <td>129</td>\n",
       "        <td>VA </td>\n",
       "        <td>Fall2017</td>\n",
       "        <td>903</td>\n",
       "    </tr>\n",
       "    <tr>\n",
       "        <td>268</td>\n",
       "        <td>NHS 224</td>\n",
       "        <td>Spring2019</td>\n",
       "        <td>899</td>\n",
       "    </tr>\n",
       "    <tr>\n",
       "        <td>141</td>\n",
       "        <td>YAL </td>\n",
       "        <td>Fall2014</td>\n",
       "        <td>890</td>\n",
       "    </tr>\n",
       "    <tr>\n",
       "        <td>590</td>\n",
       "        <td>BNW 127</td>\n",
       "        <td>Fall2018</td>\n",
       "        <td>862</td>\n",
       "    </tr>\n",
       "    <tr>\n",
       "        <td>456</td>\n",
       "        <td>DSB 106</td>\n",
       "        <td>Fall2018</td>\n",
       "        <td>843</td>\n",
       "    </tr>\n",
       "    <tr>\n",
       "        <td>359</td>\n",
       "        <td>DSB 111</td>\n",
       "        <td>Spring2016</td>\n",
       "        <td>837</td>\n",
       "    </tr>\n",
       "    <tr>\n",
       "        <td>370</td>\n",
       "        <td>DSB 112</td>\n",
       "        <td>Fall2014</td>\n",
       "        <td>833</td>\n",
       "    </tr>\n",
       "    <tr>\n",
       "        <td>117</td>\n",
       "        <td>VA </td>\n",
       "        <td>Fall2018</td>\n",
       "        <td>819</td>\n",
       "    </tr>\n",
       "    <tr>\n",
       "        <td>393</td>\n",
       "        <td>DSB 105</td>\n",
       "        <td>Spring2019</td>\n",
       "        <td>816</td>\n",
       "    </tr>\n",
       "    <tr>\n",
       "        <td>102</td>\n",
       "        <td>DSB 110</td>\n",
       "        <td>Spring2016</td>\n",
       "        <td>816</td>\n",
       "    </tr>\n",
       "    <tr>\n",
       "        <td>606</td>\n",
       "        <td>BNW 137</td>\n",
       "        <td>Fall2018</td>\n",
       "        <td>803</td>\n",
       "    </tr>\n",
       "    <tr>\n",
       "        <td>397</td>\n",
       "        <td>DSB 111</td>\n",
       "        <td>Spring2017</td>\n",
       "        <td>796</td>\n",
       "    </tr>\n",
       "    <tr>\n",
       "        <td>468</td>\n",
       "        <td>DSB 109</td>\n",
       "        <td>Spring2017</td>\n",
       "        <td>792</td>\n",
       "    </tr>\n",
       "    <tr>\n",
       "        <td>113</td>\n",
       "        <td>VA </td>\n",
       "        <td>Spring2018</td>\n",
       "        <td>791</td>\n",
       "    </tr>\n",
       "</table>"
      ],
      "text/plain": [
       "[(343, 'SON 203', 'Spring2017', 1142),\n",
       " (303, 'NHS 224', 'Spring2018', 1076),\n",
       " (156, 'YAL ', 'Spring2017', 994),\n",
       " (133, 'BY ARR ', 'Fall2015', 989),\n",
       " (134, 'YAL ', 'Spring2019', 938),\n",
       " (130, 'YAL ', 'Fall2016', 910),\n",
       " (129, 'VA ', 'Fall2017', 903),\n",
       " (268, 'NHS 224', 'Spring2019', 899),\n",
       " (141, 'YAL ', 'Fall2014', 890),\n",
       " (590, 'BNW 127', 'Fall2018', 862),\n",
       " (456, 'DSB 106', 'Fall2018', 843),\n",
       " (359, 'DSB 111', 'Spring2016', 837),\n",
       " (370, 'DSB 112', 'Fall2014', 833),\n",
       " (117, 'VA ', 'Fall2018', 819),\n",
       " (393, 'DSB 105', 'Spring2019', 816),\n",
       " (102, 'DSB 110', 'Spring2016', 816),\n",
       " (606, 'BNW 137', 'Fall2018', 803),\n",
       " (397, 'DSB 111', 'Spring2017', 796),\n",
       " (468, 'DSB 109', 'Spring2017', 792),\n",
       " (113, 'VA ', 'Spring2018', 791)]"
      ]
     },
     "execution_count": 19,
     "metadata": {},
     "output_type": "execute_result"
    }
   ],
   "source": [
    "%%sql \n",
    "\n",
    "SELECT COUNT(CRN), Location, Term, (SUM(strftime('%s',End)-strftime('%s',Start))/60)/60 AS CourseHours\n",
    "FROM Course_Meetings\n",
    "GROUP BY Location, Term\n",
    "ORDER BY CourseHours DESC\n",
    "LIMIT 20;"
   ]
  },
  {
   "cell_type": "markdown",
   "metadata": {},
   "source": [
    "# Querries "
   ]
  },
  {
   "cell_type": "code",
   "execution_count": 64,
   "metadata": {},
   "outputs": [
    {
     "name": "stdout",
     "output_type": "stream",
     "text": [
      " * sqlite:///CourseData.db\n",
      "Done.\n"
     ]
    },
    {
     "data": {
      "text/html": [
       "<table>\n",
       "    <tr>\n",
       "        <th>PName</th>\n",
       "        <th>PCode</th>\n",
       "        <th>Title</th>\n",
       "        <th>Credits</th>\n",
       "    </tr>\n",
       "    <tr>\n",
       "        <td>Accounting</td>\n",
       "        <td>AC</td>\n",
       "        <td>Introduction to Financial Accounting</td>\n",
       "        <td>3 Credits</td>\n",
       "    </tr>\n",
       "    <tr>\n",
       "        <td>American Studies</td>\n",
       "        <td>AS</td>\n",
       "        <td>Roots of American Culture</td>\n",
       "        <td>3 Credits</td>\n",
       "    </tr>\n",
       "    <tr>\n",
       "        <td>Anthropology</td>\n",
       "        <td>AY</td>\n",
       "        <td>Introduction to Four-Field Anthropology</td>\n",
       "        <td>3 Credits</td>\n",
       "    </tr>\n",
       "    <tr>\n",
       "        <td>Applied Ethics</td>\n",
       "        <td>AE</td>\n",
       "        <td>Ethics and the Community</td>\n",
       "        <td>3 Credits</td>\n",
       "    </tr>\n",
       "    <tr>\n",
       "        <td>Arabic</td>\n",
       "        <td>AR</td>\n",
       "        <td>Elementary Modern Standard Arabic I</td>\n",
       "        <td>3 Credits</td>\n",
       "    </tr>\n",
       "    <tr>\n",
       "        <td>Art History</td>\n",
       "        <td>AH</td>\n",
       "        <td>Origins and Transformations in Western Art</td>\n",
       "        <td>3 Credits</td>\n",
       "    </tr>\n",
       "    <tr>\n",
       "        <td>Asian Studies</td>\n",
       "        <td>AN</td>\n",
       "        <td>Independent Study</td>\n",
       "        <td>1-3 Credits</td>\n",
       "    </tr>\n",
       "</table>"
      ],
      "text/plain": [
       "[('Accounting', 'AC', 'Introduction to Financial Accounting', '3 Credits'),\n",
       " ('American Studies', 'AS', 'Roots of American Culture', '3 Credits'),\n",
       " ('Anthropology', 'AY', 'Introduction to Four-Field Anthropology', '3 Credits'),\n",
       " ('Applied Ethics', 'AE', 'Ethics and the Community', '3 Credits'),\n",
       " ('Arabic', 'AR', 'Elementary Modern Standard Arabic I', '3 Credits'),\n",
       " ('Art History', 'AH', 'Origins and Transformations in Western Art', '3 Credits'),\n",
       " ('Asian Studies', 'AN', 'Independent Study', '1-3 Credits')]"
      ]
     },
     "execution_count": 64,
     "metadata": {},
     "output_type": "execute_result"
    }
   ],
   "source": [
    "%%sql\n",
    "/* Select PName, PCode, Title, Credits from Catalog where PName begins with A */\n",
    "SELECT PName, PCode, Title, Credits\n",
    "FROM Catalog\n",
    "WHERE PName LIKE 'A%' \n",
    "GROUP BY PName\n",
    "\n",
    "LIMIT 20;\n",
    "\n",
    "\n"
   ]
  },
  {
   "cell_type": "code",
   "execution_count": 98,
   "metadata": {},
   "outputs": [
    {
     "name": "stdout",
     "output_type": "stream",
     "text": [
      " * sqlite:///CourseData.db\n",
      "Done.\n"
     ]
    },
    {
     "data": {
      "text/html": [
       "<table>\n",
       "    <tr>\n",
       "        <th>COUNT(*)</th>\n",
       "    </tr>\n",
       "    <tr>\n",
       "        <td>2221</td>\n",
       "    </tr>\n",
       "</table>"
      ],
      "text/plain": [
       "[(2221,)]"
      ]
     },
     "execution_count": 98,
     "metadata": {},
     "output_type": "execute_result"
    }
   ],
   "source": [
    "%%sql\n",
    "/* Using SELECT DISTINCT to look for duplicate a data records  */\n",
    "SELECT COUNT(*)\n",
    "    FROM Catalog;"
   ]
  },
  {
   "cell_type": "code",
   "execution_count": 90,
   "metadata": {},
   "outputs": [
    {
     "name": "stdout",
     "output_type": "stream",
     "text": [
      " * sqlite:///CourseData.db\n",
      "Done.\n"
     ]
    },
    {
     "data": {
      "text/html": [
       "<table>\n",
       "    <tr>\n",
       "        <th>COUNT(*)</th>\n",
       "    </tr>\n",
       "    <tr>\n",
       "        <td>2221</td>\n",
       "    </tr>\n",
       "</table>"
      ],
      "text/plain": [
       "[(2221,)]"
      ]
     },
     "execution_count": 90,
     "metadata": {},
     "output_type": "execute_result"
    }
   ],
   "source": [
    "%%sql\n",
    "/* Using SELECT DISTINCT to look for duplicate a data records  */\n",
    "\n",
    "SELECT DISTINCT COUNT(*)\n",
    "    FROM Catalog;"
   ]
  },
  {
   "cell_type": "code",
   "execution_count": 91,
   "metadata": {},
   "outputs": [
    {
     "name": "stdout",
     "output_type": "stream",
     "text": [
      " * sqlite:///CourseData.db\n",
      "Done.\n"
     ]
    },
    {
     "data": {
      "text/html": [
       "<table>\n",
       "    <tr>\n",
       "        <th>COUNT(*)</th>\n",
       "    </tr>\n",
       "    <tr>\n",
       "        <td>1105</td>\n",
       "    </tr>\n",
       "</table>"
      ],
      "text/plain": [
       "[(1105,)]"
      ]
     },
     "execution_count": 91,
     "metadata": {},
     "output_type": "execute_result"
    }
   ],
   "source": [
    "%%sql\n",
    "/* Using SELECT DISTINCT to look for duplicate a data records  */\n",
    "SELECT COUNT(*)\n",
    "    FROM Instructor;"
   ]
  },
  {
   "cell_type": "code",
   "execution_count": 92,
   "metadata": {},
   "outputs": [
    {
     "name": "stdout",
     "output_type": "stream",
     "text": [
      " * sqlite:///CourseData.db\n",
      "Done.\n"
     ]
    },
    {
     "data": {
      "text/html": [
       "<table>\n",
       "    <tr>\n",
       "        <th>COUNT(*)</th>\n",
       "    </tr>\n",
       "    <tr>\n",
       "        <td>1105</td>\n",
       "    </tr>\n",
       "</table>"
      ],
      "text/plain": [
       "[(1105,)]"
      ]
     },
     "execution_count": 92,
     "metadata": {},
     "output_type": "execute_result"
    }
   ],
   "source": [
    "%%sql\n",
    "/* Using SELECT DISTINCT to look for duplicate a data records  */\n",
    "SELECT DISTINCT COUNT(*)\n",
    "    FROM Instructor;"
   ]
  },
  {
   "cell_type": "code",
   "execution_count": 93,
   "metadata": {},
   "outputs": [
    {
     "name": "stdout",
     "output_type": "stream",
     "text": [
      " * sqlite:///CourseData.db\n",
      "Done.\n"
     ]
    },
    {
     "data": {
      "text/html": [
       "<table>\n",
       "    <tr>\n",
       "        <th>COUNT(*)</th>\n",
       "    </tr>\n",
       "    <tr>\n",
       "        <td>17435</td>\n",
       "    </tr>\n",
       "</table>"
      ],
      "text/plain": [
       "[(17435,)]"
      ]
     },
     "execution_count": 93,
     "metadata": {},
     "output_type": "execute_result"
    }
   ],
   "source": [
    "%%sql\n",
    "/* Using SELECT DISTINCT to look for duplicate a data records  */\n",
    "SELECT COUNT(*)\n",
    "    FROM Section;"
   ]
  },
  {
   "cell_type": "code",
   "execution_count": 94,
   "metadata": {},
   "outputs": [
    {
     "name": "stdout",
     "output_type": "stream",
     "text": [
      " * sqlite:///CourseData.db\n",
      "Done.\n"
     ]
    },
    {
     "data": {
      "text/html": [
       "<table>\n",
       "    <tr>\n",
       "        <th>COUNT(*)</th>\n",
       "    </tr>\n",
       "    <tr>\n",
       "        <td>17435</td>\n",
       "    </tr>\n",
       "</table>"
      ],
      "text/plain": [
       "[(17435,)]"
      ]
     },
     "execution_count": 94,
     "metadata": {},
     "output_type": "execute_result"
    }
   ],
   "source": [
    "%%sql\n",
    "/* Using SELECT DISTINCT to look for duplicate a data records  */\n",
    "SELECT DISTINCT COUNT(*)\n",
    "    FROM Section;"
   ]
  },
  {
   "cell_type": "code",
   "execution_count": 95,
   "metadata": {},
   "outputs": [
    {
     "name": "stdout",
     "output_type": "stream",
     "text": [
      " * sqlite:///CourseData.db\n",
      "Done.\n"
     ]
    },
    {
     "data": {
      "text/html": [
       "<table>\n",
       "    <tr>\n",
       "        <th>COUNT(*)</th>\n",
       "    </tr>\n",
       "    <tr>\n",
       "        <td>311142</td>\n",
       "    </tr>\n",
       "</table>"
      ],
      "text/plain": [
       "[(311142,)]"
      ]
     },
     "execution_count": 95,
     "metadata": {},
     "output_type": "execute_result"
    }
   ],
   "source": [
    "%%sql\n",
    "/* Using SELECT DISTINCT to look for duplicate a data records  */\n",
    "SELECT COUNT(*)\n",
    "    FROM Course_Meetings;"
   ]
  },
  {
   "cell_type": "code",
   "execution_count": 96,
   "metadata": {},
   "outputs": [
    {
     "name": "stdout",
     "output_type": "stream",
     "text": [
      " * sqlite:///CourseData.db\n",
      "Done.\n"
     ]
    },
    {
     "data": {
      "text/html": [
       "<table>\n",
       "    <tr>\n",
       "        <th>COUNT(*)</th>\n",
       "    </tr>\n",
       "    <tr>\n",
       "        <td>311142</td>\n",
       "    </tr>\n",
       "</table>"
      ],
      "text/plain": [
       "[(311142,)]"
      ]
     },
     "execution_count": 96,
     "metadata": {},
     "output_type": "execute_result"
    }
   ],
   "source": [
    "%%sql\n",
    "/* Using SELECT DISTINCT to look for duplicate a data records  */\n",
    "SELECT DISTINCT COUNT(*)\n",
    "    FROM Course_Meetings;"
   ]
  },
  {
   "cell_type": "code",
   "execution_count": 68,
   "metadata": {},
   "outputs": [
    {
     "name": "stdout",
     "output_type": "stream",
     "text": [
      " * sqlite:///CourseData.db\n",
      "Done.\n"
     ]
    },
    {
     "data": {
      "text/html": [
       "<table>\n",
       "    <tr>\n",
       "        <th>PName</th>\n",
       "        <th>Title</th>\n",
       "        <th>Name</th>\n",
       "        <th>Term</th>\n",
       "        <th>CRN</th>\n",
       "    </tr>\n",
       "    <tr>\n",
       "        <td>Accounting</td>\n",
       "        <td>Introduction to Financial Accounting</td>\n",
       "        <td>Michael P.  Coyne</td>\n",
       "        <td>Fall2014</td>\n",
       "        <td>70384</td>\n",
       "    </tr>\n",
       "    <tr>\n",
       "        <td>American Studies</td>\n",
       "        <td>Roots of American Culture</td>\n",
       "        <td>Anna M.  Lawrence</td>\n",
       "        <td>Fall2014</td>\n",
       "        <td>73082</td>\n",
       "    </tr>\n",
       "    <tr>\n",
       "        <td>Anthropology</td>\n",
       "        <td>Introduction to Four-Field Anthropology</td>\n",
       "        <td>Scott M.  Lacy</td>\n",
       "        <td>Fall2014</td>\n",
       "        <td>71173</td>\n",
       "    </tr>\n",
       "    <tr>\n",
       "        <td>Applied Ethics</td>\n",
       "        <td>Ethics and the Community</td>\n",
       "        <td>Robert A.  Liftig</td>\n",
       "        <td>Fall2014</td>\n",
       "        <td>70655</td>\n",
       "    </tr>\n",
       "    <tr>\n",
       "        <td>Arabic</td>\n",
       "        <td>Elementary Modern Standard Arabic I</td>\n",
       "        <td>Abdel Illah A.  Douda</td>\n",
       "        <td>Fall2014</td>\n",
       "        <td>70670</td>\n",
       "    </tr>\n",
       "    <tr>\n",
       "        <td>Art History</td>\n",
       "        <td>Origins and Transformations in Western Art</td>\n",
       "        <td>Katherine A.  Schwab</td>\n",
       "        <td>Fall2014</td>\n",
       "        <td>70255</td>\n",
       "    </tr>\n",
       "    <tr>\n",
       "        <td>Asian Studies</td>\n",
       "        <td>Independent Study</td>\n",
       "        <td>TBA</td>\n",
       "        <td>Fall2014</td>\n",
       "        <td>71858</td>\n",
       "    </tr>\n",
       "    <tr>\n",
       "        <td>Bioengineering</td>\n",
       "        <td>Biomechanics</td>\n",
       "        <td>Susan L.  Freudzon</td>\n",
       "        <td>Fall2017</td>\n",
       "        <td>72919</td>\n",
       "    </tr>\n",
       "    <tr>\n",
       "        <td>Biology</td>\n",
       "        <td>Fundamentals of Biology I</td>\n",
       "        <td>Bethann   Balazsi</td>\n",
       "        <td>Fall2014</td>\n",
       "        <td>72386</td>\n",
       "    </tr>\n",
       "    <tr>\n",
       "        <td>Black Studies</td>\n",
       "        <td>Independent Study</td>\n",
       "        <td>Gwendoline M.  Alphonso</td>\n",
       "        <td>Fall2015</td>\n",
       "        <td>77125</td>\n",
       "    </tr>\n",
       "    <tr>\n",
       "        <td>Business</td>\n",
       "        <td>Legal Environment of Business</td>\n",
       "        <td>Jennifer M. F.  Hillgen-Santa</td>\n",
       "        <td>Fall2014</td>\n",
       "        <td>71162</td>\n",
       "    </tr>\n",
       "    <tr>\n",
       "        <td>Chemistry</td>\n",
       "        <td>Chemistry: Sights and Insights</td>\n",
       "        <td>Edmond J.  O&#x27;Connell</td>\n",
       "        <td>Fall2014</td>\n",
       "        <td>72614</td>\n",
       "    </tr>\n",
       "    <tr>\n",
       "        <td>Chinese</td>\n",
       "        <td>Elementary Chinese I</td>\n",
       "        <td>Jiwei   Xiao</td>\n",
       "        <td>Fall2014</td>\n",
       "        <td>70674</td>\n",
       "    </tr>\n",
       "    <tr>\n",
       "        <td>Classical Studies</td>\n",
       "        <td>Masterpieces of Roman Literature in English Translation</td>\n",
       "        <td>Vincent J.  Rosivach</td>\n",
       "        <td>Fall2014</td>\n",
       "        <td>72929</td>\n",
       "    </tr>\n",
       "    <tr>\n",
       "        <td>Communication</td>\n",
       "        <td>Human Communication Theories</td>\n",
       "        <td>Niall P.  Brennan</td>\n",
       "        <td>Fall2014</td>\n",
       "        <td>70223</td>\n",
       "    </tr>\n",
       "    <tr>\n",
       "        <td>Computer Engineering</td>\n",
       "        <td>Digital Electronics Design II</td>\n",
       "        <td>James P.  Cavallo</td>\n",
       "        <td>Fall2014</td>\n",
       "        <td>73074</td>\n",
       "    </tr>\n",
       "    <tr>\n",
       "        <td>Computer Science</td>\n",
       "        <td>Data Structures</td>\n",
       "        <td>Peter   Spoerri</td>\n",
       "        <td>Fall2014</td>\n",
       "        <td>72202</td>\n",
       "    </tr>\n",
       "    <tr>\n",
       "        <td>Counseling</td>\n",
       "        <td>Comprehensive Exam in Clinical Mental Health Counseling</td>\n",
       "        <td>JoAnn M.  O&#x27;Connell</td>\n",
       "        <td>Fall2014</td>\n",
       "        <td>70616</td>\n",
       "    </tr>\n",
       "    <tr>\n",
       "        <td>Economics</td>\n",
       "        <td>Introduction to Microeconomics</td>\n",
       "        <td>Mark S.  Leclair</td>\n",
       "        <td>Fall2014</td>\n",
       "        <td>70215</td>\n",
       "    </tr>\n",
       "    <tr>\n",
       "        <td>Education</td>\n",
       "        <td>Explorations in Education: Introduction to Teaching, Learning, and Schooling</td>\n",
       "        <td>Stephanie L.  Storms</td>\n",
       "        <td>Fall2014</td>\n",
       "        <td>71070</td>\n",
       "    </tr>\n",
       "</table>"
      ],
      "text/plain": [
       "[('Accounting', 'Introduction to Financial Accounting', 'Michael P.  Coyne', 'Fall2014', 70384),\n",
       " ('American Studies', 'Roots of American Culture', 'Anna M.  Lawrence', 'Fall2014', 73082),\n",
       " ('Anthropology', 'Introduction to Four-Field Anthropology', 'Scott M.  Lacy', 'Fall2014', 71173),\n",
       " ('Applied Ethics', 'Ethics and the Community', 'Robert A.  Liftig', 'Fall2014', 70655),\n",
       " ('Arabic', 'Elementary Modern Standard Arabic I', 'Abdel Illah A.  Douda', 'Fall2014', 70670),\n",
       " ('Art History', 'Origins and Transformations in Western Art', 'Katherine A.  Schwab', 'Fall2014', 70255),\n",
       " ('Asian Studies', 'Independent Study', 'TBA', 'Fall2014', 71858),\n",
       " ('Bioengineering', 'Biomechanics', 'Susan L.  Freudzon', 'Fall2017', 72919),\n",
       " ('Biology', 'Fundamentals of Biology I', 'Bethann   Balazsi', 'Fall2014', 72386),\n",
       " ('Black Studies', 'Independent Study', 'Gwendoline M.  Alphonso', 'Fall2015', 77125),\n",
       " ('Business', 'Legal Environment of Business', 'Jennifer M. F.  Hillgen-Santa', 'Fall2014', 71162),\n",
       " ('Chemistry', 'Chemistry: Sights and Insights', \"Edmond J.  O'Connell\", 'Fall2014', 72614),\n",
       " ('Chinese', 'Elementary Chinese I', 'Jiwei   Xiao', 'Fall2014', 70674),\n",
       " ('Classical Studies', 'Masterpieces of Roman Literature in English Translation', 'Vincent J.  Rosivach', 'Fall2014', 72929),\n",
       " ('Communication', 'Human Communication Theories', 'Niall P.  Brennan', 'Fall2014', 70223),\n",
       " ('Computer Engineering', 'Digital Electronics Design II', 'James P.  Cavallo', 'Fall2014', 73074),\n",
       " ('Computer Science', 'Data Structures', 'Peter   Spoerri', 'Fall2014', 72202),\n",
       " ('Counseling', 'Comprehensive Exam in Clinical Mental Health Counseling', \"JoAnn M.  O'Connell\", 'Fall2014', 70616),\n",
       " ('Economics', 'Introduction to Microeconomics', 'Mark S.  Leclair', 'Fall2014', 70215),\n",
       " ('Education', 'Explorations in Education: Introduction to Teaching, Learning, and Schooling', 'Stephanie L.  Storms', 'Fall2014', 71070)]"
      ]
     },
     "execution_count": 68,
     "metadata": {},
     "output_type": "execute_result"
    }
   ],
   "source": [
    "%%sql\n",
    "/* PName, Title, Name, Term, CRN From Section GROUP BY PName */\n",
    "SELECT PName, Title, Name, Term, CRN\n",
    "FROM Section\n",
    "\n",
    "    JOIN Instructor USING (InID)\n",
    "    JOIN Catalog USING (CatID)\n",
    "GROUP BY PName\n",
    "\n",
    "\n",
    "LIMIT 20;\n",
    "\n",
    "\n",
    "\n"
   ]
  },
  {
   "cell_type": "code",
   "execution_count": null,
   "metadata": {},
   "outputs": [],
   "source": []
  },
  {
   "cell_type": "code",
   "execution_count": null,
   "metadata": {},
   "outputs": [],
   "source": []
  }
 ],
 "metadata": {
  "kernelspec": {
   "display_name": "Python 3",
   "language": "python",
   "name": "python3"
  },
  "language_info": {
   "codemirror_mode": {
    "name": "ipython",
    "version": 3
   },
   "file_extension": ".py",
   "mimetype": "text/x-python",
   "name": "python",
   "nbconvert_exporter": "python",
   "pygments_lexer": "ipython3",
   "version": "3.6.5"
  }
 },
 "nbformat": 4,
 "nbformat_minor": 2
}

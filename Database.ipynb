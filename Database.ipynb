{
 "cells": [
  {
   "cell_type": "code",
   "execution_count": 1,
   "metadata": {},
   "outputs": [
    {
     "data": {
      "text/plain": [
       "'Connected: @CourseData.db'"
      ]
     },
     "execution_count": 1,
     "metadata": {},
     "output_type": "execute_result"
    }
   ],
   "source": [
    "%load_ext sql\n",
    "%sql sqlite:///CourseData.db"
   ]
  },
  {
   "cell_type": "code",
   "execution_count": 2,
   "metadata": {},
   "outputs": [
    {
     "name": "stdout",
     "output_type": "stream",
     "text": [
      " * sqlite:///CourseData.db\n",
      "Done.\n",
      "Done.\n",
      "Done.\n",
      "Done.\n"
     ]
    },
    {
     "data": {
      "text/plain": [
       "[]"
      ]
     },
     "execution_count": 2,
     "metadata": {},
     "output_type": "execute_result"
    }
   ],
   "source": [
    "%%sql\n",
    "--Dropping tables for when we need to restart and clear CourseData database-- \n",
    "\n",
    "DROP TABLE IF EXISTS SECTION;\n",
    "DROP TABLE IF EXISTS COURSE;\n",
    "DROP TABLE IF EXISTS INSTRUCTOR;\n",
    "DROP TABLE IF EXISTS COURSE_MEETINGS;"
   ]
  },
  {
   "cell_type": "code",
   "execution_count": 3,
   "metadata": {},
   "outputs": [
    {
     "name": "stdout",
     "output_type": "stream",
     "text": [
      " * sqlite:///CourseData.db\n",
      "Done.\n"
     ]
    },
    {
     "data": {
      "text/plain": [
       "[]"
      ]
     },
     "execution_count": 3,
     "metadata": {},
     "output_type": "execute_result"
    }
   ],
   "source": [
    "%%sql\n",
    "-- Creating table INSTRUCTOR with surrogate primary key-- \n",
    "\n",
    "CREATE TABLE 'INSTRUCTOR' (\n",
    "    InID INTEGER NOT NULL PRIMARY KEY,\n",
    "    Name TEXT NOT NULL\n",
    ");"
   ]
  },
  {
   "cell_type": "code",
   "execution_count": 4,
   "metadata": {},
   "outputs": [
    {
     "name": "stdout",
     "output_type": "stream",
     "text": [
      " * sqlite:///CourseData.db\n",
      "Done.\n"
     ]
    },
    {
     "data": {
      "text/plain": [
       "[]"
      ]
     },
     "execution_count": 4,
     "metadata": {},
     "output_type": "execute_result"
    }
   ],
   "source": [
    "%%sql\n",
    "--Creating table COURSE with CatID as the primary key-- \n",
    "\n",
    "CREATE TABLE 'COURSE'(\n",
    "    CatID VARCHAR PRIMARY KEY,\n",
    "    Title VARCHAR NOT NULL,\n",
    "    Description TEXT NOT NULL,\n",
    "    Credits TEXT NOT NULL,\n",
    "    PName TEXT NOT NULL,\n",
    "    PCode TEXT,\n",
    "    PREREQS TEXT,\n",
    "    COREQS TEXT,\n",
    "    FEES INTEGER,\n",
    "    Attribute TEXT\n",
    "    \n",
    ");"
   ]
  },
  {
   "cell_type": "code",
   "execution_count": 5,
   "metadata": {},
   "outputs": [
    {
     "name": "stdout",
     "output_type": "stream",
     "text": [
      " * sqlite:///CourseData.db\n",
      "Done.\n"
     ]
    },
    {
     "data": {
      "text/plain": [
       "[]"
      ]
     },
     "execution_count": 5,
     "metadata": {},
     "output_type": "execute_result"
    }
   ],
   "source": [
    "%%sql\n",
    "--Creating table SECTION with surrogate primary key-- \n",
    "\n",
    "CREATE TABLE 'SECTION'(\n",
    "    SID INTEGER NOT NULL PRIMARY KEY,\n",
    "    CRN INTEGER NOT NULL,\n",
    "    Term TEXT NOT NULL,\n",
    "    Section VARCHAR NOT NULL,\n",
    "    Cap INTEGER,\n",
    "    Act INTEGER,\n",
    "    Rem INTEGER,\n",
    "    CatID VARCHAR,\n",
    "    InID INTEGER,\n",
    "    FOREIGN KEY (CatID) REFERENCES COURSE(CatID),\n",
    "    FOREIGN KEY (InID) REFERENCES INSTRUCTOR(InID)\n",
    ");"
   ]
  },
  {
   "cell_type": "code",
   "execution_count": 6,
   "metadata": {},
   "outputs": [
    {
     "name": "stdout",
     "output_type": "stream",
     "text": [
      " * sqlite:///CourseData.db\n",
      "Done.\n"
     ]
    },
    {
     "data": {
      "text/plain": [
       "[]"
      ]
     },
     "execution_count": 6,
     "metadata": {},
     "output_type": "execute_result"
    }
   ],
   "source": [
    "%%sql\n",
    "\n",
    "--Creating table COURSE_MEETINGS with CatID as the Primary Key-- \n",
    "\n",
    "CREATE TABLE 'COURSE_MEETINGS' (\n",
    "    MID INTEGER NOT NULL PRIMARY KEY,\n",
    "    CRN INTEGER NOT NULL,\n",
    "    Term TEXT NOT NULL,\n",
    "    Start TEXT NOT NULL,\n",
    "    Location VARCHAR NOT NULL,\n",
    "    Day TEXT NOT NULL,\n",
    "    End TEXT NOT NULL,\n",
    "    FOREIGN KEY (CRN) REFERENCES SECTION(CRN),\n",
    "    FOREIGN KEY (Term) REFERENCES SECTION(Term)\n",
    ");"
   ]
  },
  {
   "cell_type": "code",
   "execution_count": 7,
   "metadata": {},
   "outputs": [
    {
     "name": "stdout",
     "output_type": "stream",
     "text": [
      " * sqlite:///CourseData.db\n",
      "Done.\n"
     ]
    },
    {
     "data": {
      "text/plain": [
       "[]"
      ]
     },
     "execution_count": 7,
     "metadata": {},
     "output_type": "execute_result"
    }
   ],
   "source": [
    "%%sql\n",
    "\n",
    "--Populating Course_Meetings table using import_course_meetings data-- \n",
    "\n",
    "INSERT INTO Course_Meetings (CRN, Term, Start, Location, Day, End)\n",
    "SELECT DISTINCT crn, term, start, location, day, end \n",
    "FROM import_course_meetings;"
   ]
  },
  {
   "cell_type": "code",
   "execution_count": 8,
   "metadata": {},
   "outputs": [
    {
     "name": "stdout",
     "output_type": "stream",
     "text": [
      " * sqlite:///CourseData.db\n",
      "Done.\n"
     ]
    },
    {
     "data": {
      "text/html": [
       "<table>\n",
       "    <tr>\n",
       "        <th>MID</th>\n",
       "        <th>CRN</th>\n",
       "        <th>Term</th>\n",
       "        <th>Start</th>\n",
       "        <th>Location</th>\n",
       "        <th>Day</th>\n",
       "        <th>End</th>\n",
       "    </tr>\n",
       "    <tr>\n",
       "        <td>1</td>\n",
       "        <td>70384</td>\n",
       "        <td>Fall2014</td>\n",
       "        <td>2014-09-02T08:00:00</td>\n",
       "        <td>DSB 105</td>\n",
       "        <td>T</td>\n",
       "        <td>2014-09-02T09:15:00</td>\n",
       "    </tr>\n",
       "    <tr>\n",
       "        <td>2</td>\n",
       "        <td>70384</td>\n",
       "        <td>Fall2014</td>\n",
       "        <td>2014-09-05T08:00:00</td>\n",
       "        <td>DSB 105</td>\n",
       "        <td>F</td>\n",
       "        <td>2014-09-05T09:15:00</td>\n",
       "    </tr>\n",
       "    <tr>\n",
       "        <td>3</td>\n",
       "        <td>70384</td>\n",
       "        <td>Fall2014</td>\n",
       "        <td>2014-09-09T08:00:00</td>\n",
       "        <td>DSB 105</td>\n",
       "        <td>T</td>\n",
       "        <td>2014-09-09T09:15:00</td>\n",
       "    </tr>\n",
       "    <tr>\n",
       "        <td>4</td>\n",
       "        <td>70384</td>\n",
       "        <td>Fall2014</td>\n",
       "        <td>2014-09-12T08:00:00</td>\n",
       "        <td>DSB 105</td>\n",
       "        <td>F</td>\n",
       "        <td>2014-09-12T09:15:00</td>\n",
       "    </tr>\n",
       "    <tr>\n",
       "        <td>5</td>\n",
       "        <td>70384</td>\n",
       "        <td>Fall2014</td>\n",
       "        <td>2014-09-16T08:00:00</td>\n",
       "        <td>DSB 105</td>\n",
       "        <td>T</td>\n",
       "        <td>2014-09-16T09:15:00</td>\n",
       "    </tr>\n",
       "    <tr>\n",
       "        <td>6</td>\n",
       "        <td>70384</td>\n",
       "        <td>Fall2014</td>\n",
       "        <td>2014-09-19T08:00:00</td>\n",
       "        <td>DSB 105</td>\n",
       "        <td>F</td>\n",
       "        <td>2014-09-19T09:15:00</td>\n",
       "    </tr>\n",
       "    <tr>\n",
       "        <td>7</td>\n",
       "        <td>70384</td>\n",
       "        <td>Fall2014</td>\n",
       "        <td>2014-09-23T08:00:00</td>\n",
       "        <td>DSB 105</td>\n",
       "        <td>T</td>\n",
       "        <td>2014-09-23T09:15:00</td>\n",
       "    </tr>\n",
       "    <tr>\n",
       "        <td>8</td>\n",
       "        <td>70384</td>\n",
       "        <td>Fall2014</td>\n",
       "        <td>2014-09-26T08:00:00</td>\n",
       "        <td>DSB 105</td>\n",
       "        <td>F</td>\n",
       "        <td>2014-09-26T09:15:00</td>\n",
       "    </tr>\n",
       "    <tr>\n",
       "        <td>9</td>\n",
       "        <td>70384</td>\n",
       "        <td>Fall2014</td>\n",
       "        <td>2014-09-30T08:00:00</td>\n",
       "        <td>DSB 105</td>\n",
       "        <td>T</td>\n",
       "        <td>2014-09-30T09:15:00</td>\n",
       "    </tr>\n",
       "    <tr>\n",
       "        <td>10</td>\n",
       "        <td>70384</td>\n",
       "        <td>Fall2014</td>\n",
       "        <td>2014-10-03T08:00:00</td>\n",
       "        <td>DSB 105</td>\n",
       "        <td>F</td>\n",
       "        <td>2014-10-03T09:15:00</td>\n",
       "    </tr>\n",
       "</table>"
      ],
      "text/plain": [
       "[(1, 70384, 'Fall2014', '2014-09-02T08:00:00', 'DSB 105', 'T', '2014-09-02T09:15:00'),\n",
       " (2, 70384, 'Fall2014', '2014-09-05T08:00:00', 'DSB 105', 'F', '2014-09-05T09:15:00'),\n",
       " (3, 70384, 'Fall2014', '2014-09-09T08:00:00', 'DSB 105', 'T', '2014-09-09T09:15:00'),\n",
       " (4, 70384, 'Fall2014', '2014-09-12T08:00:00', 'DSB 105', 'F', '2014-09-12T09:15:00'),\n",
       " (5, 70384, 'Fall2014', '2014-09-16T08:00:00', 'DSB 105', 'T', '2014-09-16T09:15:00'),\n",
       " (6, 70384, 'Fall2014', '2014-09-19T08:00:00', 'DSB 105', 'F', '2014-09-19T09:15:00'),\n",
       " (7, 70384, 'Fall2014', '2014-09-23T08:00:00', 'DSB 105', 'T', '2014-09-23T09:15:00'),\n",
       " (8, 70384, 'Fall2014', '2014-09-26T08:00:00', 'DSB 105', 'F', '2014-09-26T09:15:00'),\n",
       " (9, 70384, 'Fall2014', '2014-09-30T08:00:00', 'DSB 105', 'T', '2014-09-30T09:15:00'),\n",
       " (10, 70384, 'Fall2014', '2014-10-03T08:00:00', 'DSB 105', 'F', '2014-10-03T09:15:00')]"
      ]
     },
     "execution_count": 8,
     "metadata": {},
     "output_type": "execute_result"
    }
   ],
   "source": [
    "%%sql \n",
    "\n",
    "--Checking data population of Course_Meetings table-- \n",
    "\n",
    "SELECT * \n",
    "FROM Course_Meetings\n",
    "LIMIT 10;"
   ]
  },
  {
   "cell_type": "code",
   "execution_count": 9,
   "metadata": {},
   "outputs": [
    {
     "name": "stdout",
     "output_type": "stream",
     "text": [
      " * sqlite:///CourseData.db\n",
      "Done.\n"
     ]
    },
    {
     "data": {
      "text/plain": [
       "[]"
      ]
     },
     "execution_count": 9,
     "metadata": {},
     "output_type": "execute_result"
    }
   ],
   "source": [
    "%%sql \n",
    "\n",
    "--Populating Course table using import_catalogs data--  \n",
    "\n",
    "INSERT INTO COURSE (CatID, Title, Description, Credits, PName, PCode, PREREQS, COREQS, FEES, Attribute)\n",
    "SELECT DISTINCT catalog_id, course_title, description, credits, program_name, program_code, prereqs, coreqs, fees, attributes\n",
    "FROM import_catalogs;"
   ]
  },
  {
   "cell_type": "code",
   "execution_count": 10,
   "metadata": {},
   "outputs": [
    {
     "name": "stdout",
     "output_type": "stream",
     "text": [
      " * sqlite:///CourseData.db\n",
      "Done.\n"
     ]
    },
    {
     "data": {
      "text/html": [
       "<table>\n",
       "    <tr>\n",
       "        <th>CatID</th>\n",
       "        <th>Title</th>\n",
       "        <th>Description</th>\n",
       "        <th>Credits</th>\n",
       "        <th>PName</th>\n",
       "        <th>PCode</th>\n",
       "        <th>PREREQS</th>\n",
       "        <th>COREQS</th>\n",
       "        <th>FEES</th>\n",
       "        <th>Attribute</th>\n",
       "    </tr>\n",
       "    <tr>\n",
       "        <td>AN 0301</td>\n",
       "        <td>Independent Study</td>\n",
       "        <td>Students undertake an individualized program of study in consultation with a director from the Asian studies faculty.</td>\n",
       "        <td>1-3 Credits</td>\n",
       "        <td>Asian Studies</td>\n",
       "        <td>AN</td>\n",
       "        <td></td>\n",
       "        <td></td>\n",
       "        <td></td>\n",
       "        <td></td>\n",
       "    </tr>\n",
       "</table>"
      ],
      "text/plain": [
       "[('AN 0301', 'Independent Study', 'Students undertake an individualized program of study in consultation with a director from the Asian studies faculty.', '1-3 Credits', 'Asian Studies', 'AN', '', '', '', '')]"
      ]
     },
     "execution_count": 10,
     "metadata": {},
     "output_type": "execute_result"
    }
   ],
   "source": [
    "%%sql \n",
    "\n",
    "--Checking data population of Course table-- \n",
    "\n",
    "SELECT * \n",
    "FROM COURSE\n",
    "LIMIT 1;"
   ]
  },
  {
   "cell_type": "code",
   "execution_count": 11,
   "metadata": {},
   "outputs": [
    {
     "name": "stdout",
     "output_type": "stream",
     "text": [
      " * sqlite:///CourseData.db\n",
      "Done.\n"
     ]
    },
    {
     "data": {
      "text/plain": [
       "[]"
      ]
     },
     "execution_count": 11,
     "metadata": {},
     "output_type": "execute_result"
    }
   ],
   "source": [
    "%%sql \n",
    "\n",
    "--Populating Instructor table using import_courses data--  \n",
    "\n",
    "INSERT INTO Instructor (Name)\n",
    "SELECT DISTINCT primary_instructor\n",
    "FROM import_courses\n",
    "WHERE primary_instructor <> 'TBA' AND primary_instructor NOT LIKE 'primary_instructor' AND primary_instructor NOT LIKE '%/';"
   ]
  },
  {
   "cell_type": "code",
   "execution_count": 12,
   "metadata": {},
   "outputs": [
    {
     "name": "stdout",
     "output_type": "stream",
     "text": [
      " * sqlite:///CourseData.db\n",
      "Done.\n"
     ]
    },
    {
     "data": {
      "text/html": [
       "<table>\n",
       "    <tr>\n",
       "        <th>InID</th>\n",
       "        <th>Name</th>\n",
       "    </tr>\n",
       "    <tr>\n",
       "        <td>274</td>\n",
       "        <td>Christopher L.  Huntley</td>\n",
       "    </tr>\n",
       "</table>"
      ],
      "text/plain": [
       "[(274, 'Christopher L.  Huntley')]"
      ]
     },
     "execution_count": 12,
     "metadata": {},
     "output_type": "execute_result"
    }
   ],
   "source": [
    "%%sql\n",
    "SELECT * \n",
    "FROM INSTRUCTOR\n",
    "WHERE NAME LIKE '%Huntley%';"
   ]
  },
  {
   "cell_type": "code",
   "execution_count": 13,
   "metadata": {},
   "outputs": [
    {
     "name": "stdout",
     "output_type": "stream",
     "text": [
      " * sqlite:///CourseData.db\n",
      "Done.\n"
     ]
    },
    {
     "data": {
      "text/html": [
       "<table>\n",
       "    <tr>\n",
       "        <th>InID</th>\n",
       "        <th>Name</th>\n",
       "    </tr>\n",
       "    <tr>\n",
       "        <td>1</td>\n",
       "        <td>Michael P.  Coyne</td>\n",
       "    </tr>\n",
       "    <tr>\n",
       "        <td>2</td>\n",
       "        <td>Rebecca I.  Bloch</td>\n",
       "    </tr>\n",
       "    <tr>\n",
       "        <td>3</td>\n",
       "        <td>Paul   Caster</td>\n",
       "    </tr>\n",
       "    <tr>\n",
       "        <td>4</td>\n",
       "        <td>Jo Ann   Drusbosky</td>\n",
       "    </tr>\n",
       "    <tr>\n",
       "        <td>5</td>\n",
       "        <td>Arleen N.  Kardos</td>\n",
       "    </tr>\n",
       "</table>"
      ],
      "text/plain": [
       "[(1, 'Michael P.  Coyne'),\n",
       " (2, 'Rebecca I.  Bloch'),\n",
       " (3, 'Paul   Caster'),\n",
       " (4, 'Jo Ann   Drusbosky'),\n",
       " (5, 'Arleen N.  Kardos')]"
      ]
     },
     "execution_count": 13,
     "metadata": {},
     "output_type": "execute_result"
    }
   ],
   "source": [
    "%%sql \n",
    "\n",
    "--Checking data population of Instructor table-- \n",
    "\n",
    "SELECT * \n",
    "FROM Instructor\n",
    "LIMIT 5;"
   ]
  },
  {
   "cell_type": "code",
   "execution_count": 14,
   "metadata": {},
   "outputs": [
    {
     "name": "stdout",
     "output_type": "stream",
     "text": [
      " * sqlite:///CourseData.db\n",
      "Done.\n"
     ]
    },
    {
     "data": {
      "text/plain": [
       "[]"
      ]
     },
     "execution_count": 14,
     "metadata": {},
     "output_type": "execute_result"
    }
   ],
   "source": [
    "%%sql \n",
    "\n",
    "--Populating the SECTION table using import_courses data--\n",
    "--Joining Instructor table using import_courses and instructor table--\n",
    "\n",
    "INSERT INTO SECTION (CRN, Term, Section, Cap, Act, Rem, CatID, InID)\n",
    "SELECT crn, term, section, cap, act, rem, catalog_id, InID\n",
    "FROM import_courses\n",
    "    JOIN Instructor ON (import_courses.primary_instructor = Instructor.Name)\n",
    ";"
   ]
  },
  {
   "cell_type": "code",
   "execution_count": 15,
   "metadata": {},
   "outputs": [
    {
     "name": "stdout",
     "output_type": "stream",
     "text": [
      " * sqlite:///CourseData.db\n",
      "Done.\n"
     ]
    },
    {
     "data": {
      "text/html": [
       "<table>\n",
       "    <tr>\n",
       "        <th>SID</th>\n",
       "        <th>CRN</th>\n",
       "        <th>Term</th>\n",
       "        <th>Section</th>\n",
       "        <th>Cap</th>\n",
       "        <th>Act</th>\n",
       "        <th>Rem</th>\n",
       "        <th>CatID</th>\n",
       "        <th>InID</th>\n",
       "    </tr>\n",
       "    <tr>\n",
       "        <td>1</td>\n",
       "        <td>70384</td>\n",
       "        <td>Fall2014</td>\n",
       "        <td>C01</td>\n",
       "        <td>0</td>\n",
       "        <td>31</td>\n",
       "        <td>-31</td>\n",
       "        <td>AC 0011</td>\n",
       "        <td>1</td>\n",
       "    </tr>\n",
       "    <tr>\n",
       "        <td>2</td>\n",
       "        <td>70385</td>\n",
       "        <td>Fall2014</td>\n",
       "        <td>C02</td>\n",
       "        <td>0</td>\n",
       "        <td>31</td>\n",
       "        <td>-31</td>\n",
       "        <td>AC 0011</td>\n",
       "        <td>1</td>\n",
       "    </tr>\n",
       "    <tr>\n",
       "        <td>3</td>\n",
       "        <td>70382</td>\n",
       "        <td>Fall2014</td>\n",
       "        <td>C03</td>\n",
       "        <td>0</td>\n",
       "        <td>31</td>\n",
       "        <td>-31</td>\n",
       "        <td>AC 0011</td>\n",
       "        <td>1</td>\n",
       "    </tr>\n",
       "    <tr>\n",
       "        <td>4</td>\n",
       "        <td>70291</td>\n",
       "        <td>Fall2014</td>\n",
       "        <td>C04</td>\n",
       "        <td>0</td>\n",
       "        <td>29</td>\n",
       "        <td>-29</td>\n",
       "        <td>AC 0011</td>\n",
       "        <td>2</td>\n",
       "    </tr>\n",
       "    <tr>\n",
       "        <td>5</td>\n",
       "        <td>70350</td>\n",
       "        <td>Fall2014</td>\n",
       "        <td>C05</td>\n",
       "        <td>0</td>\n",
       "        <td>30</td>\n",
       "        <td>-30</td>\n",
       "        <td>AC 0011</td>\n",
       "        <td>2</td>\n",
       "    </tr>\n",
       "    <tr>\n",
       "        <td>6</td>\n",
       "        <td>70381</td>\n",
       "        <td>Fall2014</td>\n",
       "        <td>C06</td>\n",
       "        <td>0</td>\n",
       "        <td>31</td>\n",
       "        <td>-31</td>\n",
       "        <td>AC 0011</td>\n",
       "        <td>2</td>\n",
       "    </tr>\n",
       "    <tr>\n",
       "        <td>7</td>\n",
       "        <td>70383</td>\n",
       "        <td>Fall2014</td>\n",
       "        <td>G</td>\n",
       "        <td>30</td>\n",
       "        <td>31</td>\n",
       "        <td>-1</td>\n",
       "        <td>AC 0011</td>\n",
       "        <td>3</td>\n",
       "    </tr>\n",
       "    <tr>\n",
       "        <td>8</td>\n",
       "        <td>70391</td>\n",
       "        <td>Fall2014</td>\n",
       "        <td>H</td>\n",
       "        <td>30</td>\n",
       "        <td>32</td>\n",
       "        <td>-2</td>\n",
       "        <td>AC 0011</td>\n",
       "        <td>4</td>\n",
       "    </tr>\n",
       "    <tr>\n",
       "        <td>9</td>\n",
       "        <td>71105</td>\n",
       "        <td>Fall2014</td>\n",
       "        <td>I</td>\n",
       "        <td>30</td>\n",
       "        <td>33</td>\n",
       "        <td>-3</td>\n",
       "        <td>AC 0011</td>\n",
       "        <td>4</td>\n",
       "    </tr>\n",
       "    <tr>\n",
       "        <td>10</td>\n",
       "        <td>71123</td>\n",
       "        <td>Fall2014</td>\n",
       "        <td>J</td>\n",
       "        <td>30</td>\n",
       "        <td>32</td>\n",
       "        <td>-2</td>\n",
       "        <td>AC 0011</td>\n",
       "        <td>4</td>\n",
       "    </tr>\n",
       "</table>"
      ],
      "text/plain": [
       "[(1, 70384, 'Fall2014', 'C01', 0, 31, -31, 'AC 0011', 1),\n",
       " (2, 70385, 'Fall2014', 'C02', 0, 31, -31, 'AC 0011', 1),\n",
       " (3, 70382, 'Fall2014', 'C03', 0, 31, -31, 'AC 0011', 1),\n",
       " (4, 70291, 'Fall2014', 'C04', 0, 29, -29, 'AC 0011', 2),\n",
       " (5, 70350, 'Fall2014', 'C05', 0, 30, -30, 'AC 0011', 2),\n",
       " (6, 70381, 'Fall2014', 'C06', 0, 31, -31, 'AC 0011', 2),\n",
       " (7, 70383, 'Fall2014', 'G', 30, 31, -1, 'AC 0011', 3),\n",
       " (8, 70391, 'Fall2014', 'H', 30, 32, -2, 'AC 0011', 4),\n",
       " (9, 71105, 'Fall2014', 'I', 30, 33, -3, 'AC 0011', 4),\n",
       " (10, 71123, 'Fall2014', 'J', 30, 32, -2, 'AC 0011', 4)]"
      ]
     },
     "execution_count": 15,
     "metadata": {},
     "output_type": "execute_result"
    }
   ],
   "source": [
    "%%sql \n",
    "\n",
    "--Checking data population of Section table--\n",
    "\n",
    "SELECT * \n",
    "FROM Section\n",
    "LIMIT 10;"
   ]
  },
  {
   "cell_type": "code",
   "execution_count": 16,
   "metadata": {},
   "outputs": [
    {
     "name": "stdout",
     "output_type": "stream",
     "text": [
      " * sqlite:///CourseData.db\n",
      "Done.\n"
     ]
    },
    {
     "data": {
      "text/html": [
       "<table>\n",
       "    <tr>\n",
       "        <th>COUNT(CatID)</th>\n",
       "    </tr>\n",
       "    <tr>\n",
       "        <td>55</td>\n",
       "    </tr>\n",
       "</table>"
      ],
      "text/plain": [
       "[(55,)]"
      ]
     },
     "execution_count": 16,
     "metadata": {},
     "output_type": "execute_result"
    }
   ],
   "source": [
    "%%sql\n",
    "SELECT COUNT(CatID) \n",
    "FROM COURSE\n",
    "WHERE Credits = '4 Credits' \n",
    "LIMIT 5;"
   ]
  },
  {
   "cell_type": "code",
   "execution_count": 17,
   "metadata": {},
   "outputs": [
    {
     "name": "stdout",
     "output_type": "stream",
     "text": [
      " * sqlite:///CourseData.db\n",
      "Done.\n"
     ]
    },
    {
     "data": {
      "text/html": [
       "<table>\n",
       "    <tr>\n",
       "        <th>COUNT(InID)</th>\n",
       "    </tr>\n",
       "    <tr>\n",
       "        <td>1103</td>\n",
       "    </tr>\n",
       "</table>"
      ],
      "text/plain": [
       "[(1103,)]"
      ]
     },
     "execution_count": 17,
     "metadata": {},
     "output_type": "execute_result"
    }
   ],
   "source": [
    "%%sql\n",
    "SELECT COUNT(InID) \n",
    "FROM Instructor \n",
    "LIMIT 5;"
   ]
  },
  {
   "cell_type": "code",
   "execution_count": 18,
   "metadata": {},
   "outputs": [
    {
     "name": "stdout",
     "output_type": "stream",
     "text": [
      " * sqlite:///CourseData.db\n",
      "Done.\n"
     ]
    },
    {
     "data": {
      "text/html": [
       "<table>\n",
       "    <tr>\n",
       "        <th>CourseHours</th>\n",
       "        <th>CRN</th>\n",
       "        <th>Location</th>\n",
       "        <th>Term</th>\n",
       "    </tr>\n",
       "    <tr>\n",
       "        <td>843</td>\n",
       "        <td>74648</td>\n",
       "        <td>DSB 106</td>\n",
       "        <td>Fall2018</td>\n",
       "    </tr>\n",
       "    <tr>\n",
       "        <td>837</td>\n",
       "        <td>37397</td>\n",
       "        <td>DSB 111</td>\n",
       "        <td>Spring2016</td>\n",
       "    </tr>\n",
       "    <tr>\n",
       "        <td>833</td>\n",
       "        <td>71437</td>\n",
       "        <td>DSB 112</td>\n",
       "        <td>Fall2014</td>\n",
       "    </tr>\n",
       "    <tr>\n",
       "        <td>816</td>\n",
       "        <td>37510</td>\n",
       "        <td>DSB 105</td>\n",
       "        <td>Spring2019</td>\n",
       "    </tr>\n",
       "    <tr>\n",
       "        <td>816</td>\n",
       "        <td>37042</td>\n",
       "        <td>DSB 110</td>\n",
       "        <td>Spring2016</td>\n",
       "    </tr>\n",
       "    <tr>\n",
       "        <td>796</td>\n",
       "        <td>31297</td>\n",
       "        <td>DSB 111</td>\n",
       "        <td>Spring2017</td>\n",
       "    </tr>\n",
       "    <tr>\n",
       "        <td>792</td>\n",
       "        <td>31427</td>\n",
       "        <td>DSB 109</td>\n",
       "        <td>Spring2017</td>\n",
       "    </tr>\n",
       "    <tr>\n",
       "        <td>790</td>\n",
       "        <td>75222</td>\n",
       "        <td>DSB 112</td>\n",
       "        <td>Fall2015</td>\n",
       "    </tr>\n",
       "    <tr>\n",
       "        <td>775</td>\n",
       "        <td>37271</td>\n",
       "        <td>DSB 114</td>\n",
       "        <td>Spring2016</td>\n",
       "    </tr>\n",
       "    <tr>\n",
       "        <td>757</td>\n",
       "        <td>70070</td>\n",
       "        <td>DSB 110B</td>\n",
       "        <td>Fall2014</td>\n",
       "    </tr>\n",
       "</table>"
      ],
      "text/plain": [
       "[(843, 74648, 'DSB 106', 'Fall2018'),\n",
       " (837, 37397, 'DSB 111', 'Spring2016'),\n",
       " (833, 71437, 'DSB 112', 'Fall2014'),\n",
       " (816, 37510, 'DSB 105', 'Spring2019'),\n",
       " (816, 37042, 'DSB 110', 'Spring2016'),\n",
       " (796, 31297, 'DSB 111', 'Spring2017'),\n",
       " (792, 31427, 'DSB 109', 'Spring2017'),\n",
       " (790, 75222, 'DSB 112', 'Fall2015'),\n",
       " (775, 37271, 'DSB 114', 'Spring2016'),\n",
       " (757, 70070, 'DSB 110B', 'Fall2014')]"
      ]
     },
     "execution_count": 18,
     "metadata": {},
     "output_type": "execute_result"
    }
   ],
   "source": [
    "%%sql \n",
    "\n",
    "SELECT (SUM(strftime('%s',End)-strftime('%s',Start))/60)/60 AS CourseHours, CRN, Location, Term\n",
    "FROM Course_Meetings\n",
    "WHERE LOCATION LIKE '%DSB%'\n",
    "GROUP BY Location, Term\n",
    "ORDER BY CourseHours DESC\n",
    "LIMIT 10;"
   ]
  },
  {
   "cell_type": "code",
   "execution_count": 19,
   "metadata": {},
   "outputs": [
    {
     "name": "stdout",
     "output_type": "stream",
     "text": [
      " * sqlite:///CourseData.db\n",
      "Done.\n"
     ]
    },
    {
     "data": {
      "text/html": [
       "<table>\n",
       "    <tr>\n",
       "        <th>CoursesTaught</th>\n",
       "        <th>InID</th>\n",
       "        <th>Term</th>\n",
       "    </tr>\n",
       "    <tr>\n",
       "        <td>108</td>\n",
       "        <td>730</td>\n",
       "        <td>Fall2017</td>\n",
       "    </tr>\n",
       "    <tr>\n",
       "        <td>64</td>\n",
       "        <td>173</td>\n",
       "        <td>Fall2017</td>\n",
       "    </tr>\n",
       "    <tr>\n",
       "        <td>54</td>\n",
       "        <td>730</td>\n",
       "        <td>Fall2018</td>\n",
       "    </tr>\n",
       "    <tr>\n",
       "        <td>51</td>\n",
       "        <td>730</td>\n",
       "        <td>Fall2016</td>\n",
       "    </tr>\n",
       "    <tr>\n",
       "        <td>50</td>\n",
       "        <td>245</td>\n",
       "        <td>Fall2015</td>\n",
       "    </tr>\n",
       "    <tr>\n",
       "        <td>46</td>\n",
       "        <td>245</td>\n",
       "        <td>Fall2014</td>\n",
       "    </tr>\n",
       "    <tr>\n",
       "        <td>32</td>\n",
       "        <td>173</td>\n",
       "        <td>Spring2016</td>\n",
       "    </tr>\n",
       "    <tr>\n",
       "        <td>31</td>\n",
       "        <td>173</td>\n",
       "        <td>Fall2015</td>\n",
       "    </tr>\n",
       "    <tr>\n",
       "        <td>31</td>\n",
       "        <td>173</td>\n",
       "        <td>Fall2016</td>\n",
       "    </tr>\n",
       "    <tr>\n",
       "        <td>31</td>\n",
       "        <td>173</td>\n",
       "        <td>Spring2017</td>\n",
       "    </tr>\n",
       "</table>"
      ],
      "text/plain": [
       "[(108, 730, 'Fall2017'),\n",
       " (64, 173, 'Fall2017'),\n",
       " (54, 730, 'Fall2018'),\n",
       " (51, 730, 'Fall2016'),\n",
       " (50, 245, 'Fall2015'),\n",
       " (46, 245, 'Fall2014'),\n",
       " (32, 173, 'Spring2016'),\n",
       " (31, 173, 'Fall2015'),\n",
       " (31, 173, 'Fall2016'),\n",
       " (31, 173, 'Spring2017')]"
      ]
     },
     "execution_count": 19,
     "metadata": {},
     "output_type": "execute_result"
    }
   ],
   "source": [
    "%%sql\n",
    "SELECT COUNT(InID) AS CoursesTaught, InID, Term\n",
    "FROM SECTION\n",
    "GROUP BY InID, Term\n",
    "ORDER BY CoursesTaught DESC\n",
    "LIMIT 10;"
   ]
  },
  {
   "cell_type": "code",
   "execution_count": 20,
   "metadata": {},
   "outputs": [
    {
     "name": "stdout",
     "output_type": "stream",
     "text": [
      " * sqlite:///CourseData.db\n",
      "Done.\n"
     ]
    },
    {
     "data": {
      "text/html": [
       "<table>\n",
       "    <tr>\n",
       "        <th>InID</th>\n",
       "        <th>Name</th>\n",
       "    </tr>\n",
       "    <tr>\n",
       "        <td>173</td>\n",
       "        <td>Sonya R.  Huber</td>\n",
       "    </tr>\n",
       "</table>"
      ],
      "text/plain": [
       "[(173, 'Sonya R.  Huber')]"
      ]
     },
     "execution_count": 20,
     "metadata": {},
     "output_type": "execute_result"
    }
   ],
   "source": [
    "%%sql\n",
    "SELECT * \n",
    "FROM Instructor \n",
    "Where InID = '173'; "
   ]
  },
  {
   "cell_type": "code",
   "execution_count": 21,
   "metadata": {},
   "outputs": [
    {
     "name": "stdout",
     "output_type": "stream",
     "text": [
      " * sqlite:///CourseData.db\n",
      "Done.\n"
     ]
    },
    {
     "data": {
      "text/html": [
       "<table>\n",
       "    <tr>\n",
       "        <th>InID</th>\n",
       "        <th>Term</th>\n",
       "        <th>Name</th>\n",
       "        <th>CoursesTaught</th>\n",
       "    </tr>\n",
       "    <tr>\n",
       "        <td>1</td>\n",
       "        <td>Summer2017</td>\n",
       "        <td>Michael P.  Coyne</td>\n",
       "        <td>1</td>\n",
       "    </tr>\n",
       "    <tr>\n",
       "        <td>1</td>\n",
       "        <td>Summer2018</td>\n",
       "        <td>Michael P.  Coyne</td>\n",
       "        <td>1</td>\n",
       "    </tr>\n",
       "    <tr>\n",
       "        <td>6</td>\n",
       "        <td>Spring2015</td>\n",
       "        <td>Scott M  Brenner</td>\n",
       "        <td>1</td>\n",
       "    </tr>\n",
       "    <tr>\n",
       "        <td>6</td>\n",
       "        <td>Spring2016</td>\n",
       "        <td>Scott M  Brenner</td>\n",
       "        <td>1</td>\n",
       "    </tr>\n",
       "    <tr>\n",
       "        <td>6</td>\n",
       "        <td>Spring2017</td>\n",
       "        <td>Scott M  Brenner</td>\n",
       "        <td>1</td>\n",
       "    </tr>\n",
       "    <tr>\n",
       "        <td>6</td>\n",
       "        <td>Spring2018</td>\n",
       "        <td>Scott M  Brenner</td>\n",
       "        <td>1</td>\n",
       "    </tr>\n",
       "    <tr>\n",
       "        <td>7</td>\n",
       "        <td>Fall2014</td>\n",
       "        <td>Kevin C.  Cassidy</td>\n",
       "        <td>1</td>\n",
       "    </tr>\n",
       "    <tr>\n",
       "        <td>7</td>\n",
       "        <td>Spring2016</td>\n",
       "        <td>Kevin C.  Cassidy</td>\n",
       "        <td>1</td>\n",
       "    </tr>\n",
       "    <tr>\n",
       "        <td>10</td>\n",
       "        <td>Fall2015</td>\n",
       "        <td>Stephen E.  Yost</td>\n",
       "        <td>1</td>\n",
       "    </tr>\n",
       "    <tr>\n",
       "        <td>10</td>\n",
       "        <td>Fall2016</td>\n",
       "        <td>Stephen E.  Yost</td>\n",
       "        <td>1</td>\n",
       "    </tr>\n",
       "</table>"
      ],
      "text/plain": [
       "[(1, 'Summer2017', 'Michael P.  Coyne', 1),\n",
       " (1, 'Summer2018', 'Michael P.  Coyne', 1),\n",
       " (6, 'Spring2015', 'Scott M  Brenner', 1),\n",
       " (6, 'Spring2016', 'Scott M  Brenner', 1),\n",
       " (6, 'Spring2017', 'Scott M  Brenner', 1),\n",
       " (6, 'Spring2018', 'Scott M  Brenner', 1),\n",
       " (7, 'Fall2014', 'Kevin C.  Cassidy', 1),\n",
       " (7, 'Spring2016', 'Kevin C.  Cassidy', 1),\n",
       " (10, 'Fall2015', 'Stephen E.  Yost', 1),\n",
       " (10, 'Fall2016', 'Stephen E.  Yost', 1)]"
      ]
     },
     "execution_count": 21,
     "metadata": {},
     "output_type": "execute_result"
    }
   ],
   "source": [
    "%%sql \n",
    "SELECT InID, Term, Name, Count(Name) AS CoursesTaught\n",
    "FROM Instructor\n",
    "    JOIN SECTION USING (InID)\n",
    "GROUP BY InID, Term\n",
    "ORDER BY CoursesTaught ASC\n",
    "LIMIT 10;"
   ]
  },
  {
   "cell_type": "code",
   "execution_count": 22,
   "metadata": {},
   "outputs": [
    {
     "name": "stdout",
     "output_type": "stream",
     "text": [
      " * sqlite:///CourseData.db\n",
      "Done.\n"
     ]
    },
    {
     "data": {
      "text/html": [
       "<table>\n",
       "    <tr>\n",
       "        <th>AverageCapacity</th>\n",
       "    </tr>\n",
       "    <tr>\n",
       "        <td>22.9560507107184</td>\n",
       "    </tr>\n",
       "</table>"
      ],
      "text/plain": [
       "[(22.9560507107184,)]"
      ]
     },
     "execution_count": 22,
     "metadata": {},
     "output_type": "execute_result"
    }
   ],
   "source": [
    "%%sql \n",
    "SELECT AVG(CAP) as AverageCapacity\n",
    "FROM SECTION \n",
    "WHERE CAP>10;"
   ]
  },
  {
   "cell_type": "code",
   "execution_count": 23,
   "metadata": {},
   "outputs": [],
   "source": [
    "# Huntley"
   ]
  },
  {
   "cell_type": "code",
   "execution_count": 78,
   "metadata": {},
   "outputs": [
    {
     "name": "stdout",
     "output_type": "stream",
     "text": [
      " * sqlite:///CourseData.db\n",
      "Done.\n"
     ]
    },
    {
     "data": {
      "text/html": [
       "<table>\n",
       "    <tr>\n",
       "        <th>CatID</th>\n",
       "        <th>Title</th>\n",
       "        <th>Name</th>\n",
       "        <th>TimesTaught</th>\n",
       "    </tr>\n",
       "    <tr>\n",
       "        <td>OM 0101</td>\n",
       "        <td>Operations Management</td>\n",
       "        <td>Christopher L.  Huntley</td>\n",
       "        <td>7</td>\n",
       "    </tr>\n",
       "    <tr>\n",
       "        <td>IS 0240</td>\n",
       "        <td>Systems Analysis and Logical Design</td>\n",
       "        <td>Christopher L.  Huntley</td>\n",
       "        <td>5</td>\n",
       "    </tr>\n",
       "    <tr>\n",
       "        <td>IS 0320</td>\n",
       "        <td>Systems Design and Implementation</td>\n",
       "        <td>Christopher L.  Huntley</td>\n",
       "        <td>4</td>\n",
       "    </tr>\n",
       "    <tr>\n",
       "        <td>IS 0399</td>\n",
       "        <td>Independent Study</td>\n",
       "        <td>Christopher L.  Huntley</td>\n",
       "        <td>4</td>\n",
       "    </tr>\n",
       "    <tr>\n",
       "        <td>IS 0100</td>\n",
       "        <td>Introduction to Information Systems</td>\n",
       "        <td>Christopher L.  Huntley</td>\n",
       "        <td>3</td>\n",
       "    </tr>\n",
       "    <tr>\n",
       "        <td>IS 0135</td>\n",
       "        <td>Fundamentals of Web Design</td>\n",
       "        <td>Christopher L.  Huntley</td>\n",
       "        <td>3</td>\n",
       "    </tr>\n",
       "    <tr>\n",
       "        <td>IS 0505</td>\n",
       "        <td>Python for Business Analytics</td>\n",
       "        <td>Christopher L.  Huntley</td>\n",
       "        <td>2</td>\n",
       "    </tr>\n",
       "    <tr>\n",
       "        <td>IS 0510</td>\n",
       "        <td>Databases for Business Analytics</td>\n",
       "        <td>Christopher L.  Huntley</td>\n",
       "        <td>2</td>\n",
       "    </tr>\n",
       "    <tr>\n",
       "        <td>IS 0260</td>\n",
       "        <td>Database Systems</td>\n",
       "        <td>Christopher L.  Huntley</td>\n",
       "        <td>1</td>\n",
       "    </tr>\n",
       "    <tr>\n",
       "        <td>IS 0585</td>\n",
       "        <td>Contemporary Topics in Information Systems and Operations Management</td>\n",
       "        <td>Christopher L.  Huntley</td>\n",
       "        <td>1</td>\n",
       "    </tr>\n",
       "</table>"
      ],
      "text/plain": [
       "[('OM 0101', 'Operations Management', 'Christopher L.  Huntley', 7),\n",
       " ('IS 0240', 'Systems Analysis and Logical Design', 'Christopher L.  Huntley', 5),\n",
       " ('IS 0320', 'Systems Design and Implementation', 'Christopher L.  Huntley', 4),\n",
       " ('IS 0399', 'Independent Study', 'Christopher L.  Huntley', 4),\n",
       " ('IS 0100', 'Introduction to Information Systems', 'Christopher L.  Huntley', 3),\n",
       " ('IS 0135', 'Fundamentals of Web Design', 'Christopher L.  Huntley', 3),\n",
       " ('IS 0505', 'Python for Business Analytics', 'Christopher L.  Huntley', 2),\n",
       " ('IS 0510', 'Databases for Business Analytics', 'Christopher L.  Huntley', 2),\n",
       " ('IS 0260', 'Database Systems', 'Christopher L.  Huntley', 1),\n",
       " ('IS 0585', 'Contemporary Topics in Information Systems and Operations Management', 'Christopher L.  Huntley', 1)]"
      ]
     },
     "execution_count": 78,
     "metadata": {},
     "output_type": "execute_result"
    }
   ],
   "source": [
    "%%sql \n",
    "SELECT CATID, Title, Name, COUNT(InID) AS TimesTaught\n",
    "FROM Course\n",
    "    JOIN SECTION USING (CatID)\n",
    "    JOIN INSTRUCTOR USING (InID)\n",
    "WHERE NAME LIKE \"%Huntley%\"\n",
    "GROUP BY CatID\n",
    "ORDER BY TimesTaught DESC;"
   ]
  },
  {
   "cell_type": "code",
   "execution_count": 76,
   "metadata": {},
   "outputs": [
    {
     "name": "stdout",
     "output_type": "stream",
     "text": [
      " * sqlite:///CourseData.db\n",
      "Done.\n"
     ]
    },
    {
     "data": {
      "text/html": [
       "<table>\n",
       "    <tr>\n",
       "        <th>Term</th>\n",
       "        <th>Name</th>\n",
       "        <th>CatID</th>\n",
       "    </tr>\n",
       "    <tr>\n",
       "        <td>Fall2014</td>\n",
       "        <td>Christopher L.  Huntley</td>\n",
       "        <td>IS 0100</td>\n",
       "    </tr>\n",
       "    <tr>\n",
       "        <td>Fall2015</td>\n",
       "        <td>Christopher L.  Huntley</td>\n",
       "        <td>IS 0100</td>\n",
       "    </tr>\n",
       "    <tr>\n",
       "        <td>Fall2015</td>\n",
       "        <td>Christopher L.  Huntley</td>\n",
       "        <td>IS 0100</td>\n",
       "    </tr>\n",
       "</table>"
      ],
      "text/plain": [
       "[('Fall2014', 'Christopher L.  Huntley', 'IS 0100'),\n",
       " ('Fall2015', 'Christopher L.  Huntley', 'IS 0100'),\n",
       " ('Fall2015', 'Christopher L.  Huntley', 'IS 0100')]"
      ]
     },
     "execution_count": 76,
     "metadata": {},
     "output_type": "execute_result"
    }
   ],
   "source": [
    "%%sql \n",
    "SELECT TERM, Name, CatID\n",
    "FROM SECTION \n",
    "    JOIN INSTRUCTOR USING (InID)\n",
    "    JOIN COURSE USING (CatID)\n",
    "WHERE NAME LIKE '%Huntley'AND CatID = \"IS 0100\";"
   ]
  },
  {
   "cell_type": "code",
   "execution_count": 79,
   "metadata": {},
   "outputs": [
    {
     "name": "stdout",
     "output_type": "stream",
     "text": [
      " * sqlite:///CourseData.db\n",
      "Done.\n"
     ]
    },
    {
     "data": {
      "text/html": [
       "<table>\n",
       "    <tr>\n",
       "        <th>Name</th>\n",
       "        <th>CourseHours</th>\n",
       "        <th>Term</th>\n",
       "    </tr>\n",
       "    <tr>\n",
       "        <td>Christopher L.  Huntley</td>\n",
       "        <td>447</td>\n",
       "        <td>Fall2017</td>\n",
       "    </tr>\n",
       "    <tr>\n",
       "        <td>Christopher L.  Huntley</td>\n",
       "        <td>130</td>\n",
       "        <td>Fall2015</td>\n",
       "    </tr>\n",
       "    <tr>\n",
       "        <td>Christopher L.  Huntley</td>\n",
       "        <td>118</td>\n",
       "        <td>Spring2016</td>\n",
       "    </tr>\n",
       "    <tr>\n",
       "        <td>Christopher L.  Huntley</td>\n",
       "        <td>102</td>\n",
       "        <td>Spring2017</td>\n",
       "    </tr>\n",
       "    <tr>\n",
       "        <td>Christopher L.  Huntley</td>\n",
       "        <td>102</td>\n",
       "        <td>Spring2018</td>\n",
       "    </tr>\n",
       "    <tr>\n",
       "        <td>Christopher L.  Huntley</td>\n",
       "        <td>97</td>\n",
       "        <td>Fall2014</td>\n",
       "    </tr>\n",
       "    <tr>\n",
       "        <td>Christopher L.  Huntley</td>\n",
       "        <td>70</td>\n",
       "        <td>Fall2018</td>\n",
       "    </tr>\n",
       "    <tr>\n",
       "        <td>Christopher L.  Huntley</td>\n",
       "        <td>65</td>\n",
       "        <td>Fall2016</td>\n",
       "    </tr>\n",
       "    <tr>\n",
       "        <td>Christopher L.  Huntley</td>\n",
       "        <td>62</td>\n",
       "        <td>Spring2019</td>\n",
       "    </tr>\n",
       "</table>"
      ],
      "text/plain": [
       "[('Christopher L.  Huntley', 447, 'Fall2017'),\n",
       " ('Christopher L.  Huntley', 130, 'Fall2015'),\n",
       " ('Christopher L.  Huntley', 118, 'Spring2016'),\n",
       " ('Christopher L.  Huntley', 102, 'Spring2017'),\n",
       " ('Christopher L.  Huntley', 102, 'Spring2018'),\n",
       " ('Christopher L.  Huntley', 97, 'Fall2014'),\n",
       " ('Christopher L.  Huntley', 70, 'Fall2018'),\n",
       " ('Christopher L.  Huntley', 65, 'Fall2016'),\n",
       " ('Christopher L.  Huntley', 62, 'Spring2019')]"
      ]
     },
     "execution_count": 79,
     "metadata": {},
     "output_type": "execute_result"
    }
   ],
   "source": [
    "%%sql \n",
    "SELECT Name, ((SUM(strftime('%s',End)-strftime('%s',Start)))/60)/60 AS CourseHours, Term\n",
    "FROM Course_Meetings\n",
    "    JOIN SECTION USING (CRN, Term)\n",
    "    JOIN INSTRUCTOR USING (InID)\n",
    "    JOIN COURSE USING (CatID)\n",
    "WHERE NAME LIKE \"%Huntley%\"\n",
    "GROUP BY Term\n",
    "ORDER BY CourseHours DESC;"
   ]
  },
  {
   "cell_type": "code",
   "execution_count": 82,
   "metadata": {},
   "outputs": [
    {
     "name": "stdout",
     "output_type": "stream",
     "text": [
      " * sqlite:///CourseData.db\n",
      "Done.\n"
     ]
    },
    {
     "data": {
      "text/html": [
       "<table>\n",
       "    <tr>\n",
       "        <th>Name</th>\n",
       "        <th>Term</th>\n",
       "        <th>CRN</th>\n",
       "        <th>CatID</th>\n",
       "    </tr>\n",
       "    <tr>\n",
       "        <td>Christopher L.  Huntley</td>\n",
       "        <td>Fall2017</td>\n",
       "        <td>71153</td>\n",
       "        <td>IS 0240</td>\n",
       "    </tr>\n",
       "    <tr>\n",
       "        <td>Christopher L.  Huntley</td>\n",
       "        <td>Fall2017</td>\n",
       "        <td>73088</td>\n",
       "        <td>IS 0399</td>\n",
       "    </tr>\n",
       "    <tr>\n",
       "        <td>Christopher L.  Huntley</td>\n",
       "        <td>Fall2017</td>\n",
       "        <td>72913</td>\n",
       "        <td>IS 0505</td>\n",
       "    </tr>\n",
       "    <tr>\n",
       "        <td>Christopher L.  Huntley</td>\n",
       "        <td>Fall2017</td>\n",
       "        <td>72914</td>\n",
       "        <td>IS 0510</td>\n",
       "    </tr>\n",
       "    <tr>\n",
       "        <td>Christopher L.  Huntley</td>\n",
       "        <td>Fall2017</td>\n",
       "        <td>71153</td>\n",
       "        <td>IS 0240</td>\n",
       "    </tr>\n",
       "    <tr>\n",
       "        <td>Christopher L.  Huntley</td>\n",
       "        <td>Fall2017</td>\n",
       "        <td>73088</td>\n",
       "        <td>IS 0399</td>\n",
       "    </tr>\n",
       "    <tr>\n",
       "        <td>Christopher L.  Huntley</td>\n",
       "        <td>Fall2017</td>\n",
       "        <td>72913</td>\n",
       "        <td>IS 0505</td>\n",
       "    </tr>\n",
       "    <tr>\n",
       "        <td>Christopher L.  Huntley</td>\n",
       "        <td>Fall2017</td>\n",
       "        <td>72914</td>\n",
       "        <td>IS 0510</td>\n",
       "    </tr>\n",
       "</table>"
      ],
      "text/plain": [
       "[('Christopher L.  Huntley', 'Fall2017', 71153, 'IS 0240'),\n",
       " ('Christopher L.  Huntley', 'Fall2017', 73088, 'IS 0399'),\n",
       " ('Christopher L.  Huntley', 'Fall2017', 72913, 'IS 0505'),\n",
       " ('Christopher L.  Huntley', 'Fall2017', 72914, 'IS 0510'),\n",
       " ('Christopher L.  Huntley', 'Fall2017', 71153, 'IS 0240'),\n",
       " ('Christopher L.  Huntley', 'Fall2017', 73088, 'IS 0399'),\n",
       " ('Christopher L.  Huntley', 'Fall2017', 72913, 'IS 0505'),\n",
       " ('Christopher L.  Huntley', 'Fall2017', 72914, 'IS 0510')]"
      ]
     },
     "execution_count": 82,
     "metadata": {},
     "output_type": "execute_result"
    }
   ],
   "source": [
    "%%sql \n",
    "SELECT Name, Term, CRN, CatID\n",
    "FROM Course\n",
    "    JOIN SECTION USING (CatID)\n",
    "    JOIN INSTRUCTOR USING (InID)\n",
    "WHERE NAME LIKE \"%Huntley%\" AND Term = \"Fall2017\";"
   ]
  },
  {
   "cell_type": "code",
   "execution_count": 71,
   "metadata": {},
   "outputs": [
    {
     "name": "stdout",
     "output_type": "stream",
     "text": [
      " * sqlite:///CourseData.db\n",
      "Done.\n"
     ]
    },
    {
     "data": {
      "text/html": [
       "<table>\n",
       "    <tr>\n",
       "        <th>Name</th>\n",
       "        <th>Location</th>\n",
       "        <th>NumClassMeetings</th>\n",
       "    </tr>\n",
       "    <tr>\n",
       "        <td>Christopher L.  Huntley</td>\n",
       "        <td>DSB 106</td>\n",
       "        <td>108</td>\n",
       "    </tr>\n",
       "    <tr>\n",
       "        <td>Christopher L.  Huntley</td>\n",
       "        <td>DSB 110B</td>\n",
       "        <td>105</td>\n",
       "    </tr>\n",
       "    <tr>\n",
       "        <td>Christopher L.  Huntley</td>\n",
       "        <td>DSB 115</td>\n",
       "        <td>91</td>\n",
       "    </tr>\n",
       "    <tr>\n",
       "        <td>Christopher L.  Huntley</td>\n",
       "        <td>DSB 109</td>\n",
       "        <td>66</td>\n",
       "    </tr>\n",
       "    <tr>\n",
       "        <td>Christopher L.  Huntley</td>\n",
       "        <td>DSB 110A</td>\n",
       "        <td>52</td>\n",
       "    </tr>\n",
       "    <tr>\n",
       "        <td>Christopher L.  Huntley</td>\n",
       "        <td>DSB 114</td>\n",
       "        <td>52</td>\n",
       "    </tr>\n",
       "    <tr>\n",
       "        <td>Christopher L.  Huntley</td>\n",
       "        <td>DSB 108</td>\n",
       "        <td>29</td>\n",
       "    </tr>\n",
       "    <tr>\n",
       "        <td>Christopher L.  Huntley</td>\n",
       "        <td>DSB 111</td>\n",
       "        <td>28</td>\n",
       "    </tr>\n",
       "    <tr>\n",
       "        <td>Christopher L.  Huntley</td>\n",
       "        <td>DSB 112</td>\n",
       "        <td>27</td>\n",
       "    </tr>\n",
       "    <tr>\n",
       "        <td>Christopher L.  Huntley</td>\n",
       "        <td>DSB 107</td>\n",
       "        <td>26</td>\n",
       "    </tr>\n",
       "    <tr>\n",
       "        <td>Christopher L.  Huntley</td>\n",
       "        <td>DSB 104</td>\n",
       "        <td>14</td>\n",
       "    </tr>\n",
       "    <tr>\n",
       "        <td>Christopher L.  Huntley</td>\n",
       "        <td>DSB 2109A</td>\n",
       "        <td>14</td>\n",
       "    </tr>\n",
       "</table>"
      ],
      "text/plain": [
       "[('Christopher L.  Huntley', 'DSB 106', 108),\n",
       " ('Christopher L.  Huntley', 'DSB 110B', 105),\n",
       " ('Christopher L.  Huntley', 'DSB 115', 91),\n",
       " ('Christopher L.  Huntley', 'DSB 109', 66),\n",
       " ('Christopher L.  Huntley', 'DSB 110A', 52),\n",
       " ('Christopher L.  Huntley', 'DSB 114', 52),\n",
       " ('Christopher L.  Huntley', 'DSB 108', 29),\n",
       " ('Christopher L.  Huntley', 'DSB 111', 28),\n",
       " ('Christopher L.  Huntley', 'DSB 112', 27),\n",
       " ('Christopher L.  Huntley', 'DSB 107', 26),\n",
       " ('Christopher L.  Huntley', 'DSB 104', 14),\n",
       " ('Christopher L.  Huntley', 'DSB 2109A', 14)]"
      ]
     },
     "execution_count": 71,
     "metadata": {},
     "output_type": "execute_result"
    }
   ],
   "source": [
    "%%sql \n",
    "SELECT Name, Location, COUNT(Location) AS NumClassMeetings\n",
    "FROM Course_Meetings\n",
    "    JOIN SECTION USING (CRN, Term)\n",
    "    JOIN INSTRUCTOR USING (InID)\n",
    "    JOIN COURSE USING (CatID)\n",
    "WHERE NAME LIKE \"%Huntley%\"\n",
    "GROUP BY Location\n",
    "ORDER BY NumClassMeetings DESC;"
   ]
  },
  {
   "cell_type": "code",
   "execution_count": 85,
   "metadata": {},
   "outputs": [
    {
     "name": "stdout",
     "output_type": "stream",
     "text": [
      " * sqlite:///CourseData.db\n",
      "Done.\n"
     ]
    },
    {
     "data": {
      "text/html": [
       "<table>\n",
       "    <tr>\n",
       "        <th>CourseHours</th>\n",
       "        <th>Day</th>\n",
       "    </tr>\n",
       "    <tr>\n",
       "        <td>116562</td>\n",
       "        <td>T</td>\n",
       "    </tr>\n",
       "    <tr>\n",
       "        <td>111245</td>\n",
       "        <td>R</td>\n",
       "    </tr>\n",
       "    <tr>\n",
       "        <td>108106</td>\n",
       "        <td>M</td>\n",
       "    </tr>\n",
       "    <tr>\n",
       "        <td>96924</td>\n",
       "        <td>W</td>\n",
       "    </tr>\n",
       "    <tr>\n",
       "        <td>68230</td>\n",
       "        <td>F</td>\n",
       "    </tr>\n",
       "    <tr>\n",
       "        <td>7143</td>\n",
       "        <td>S</td>\n",
       "    </tr>\n",
       "    <tr>\n",
       "        <td>956</td>\n",
       "        <td>U</td>\n",
       "    </tr>\n",
       "</table>"
      ],
      "text/plain": [
       "[(116562, 'T'),\n",
       " (111245, 'R'),\n",
       " (108106, 'M'),\n",
       " (96924, 'W'),\n",
       " (68230, 'F'),\n",
       " (7143, 'S'),\n",
       " (956, 'U')]"
      ]
     },
     "execution_count": 85,
     "metadata": {},
     "output_type": "execute_result"
    }
   ],
   "source": [
    "%%sql \n",
    "SELECT ((SUM(strftime('%s',End)-strftime('%s',Start)))/60)/60 AS CourseHours, Day\n",
    "FROM Course_Meetings\n",
    "WHERE DAY <> 'day'\n",
    "GROUP BY Day\n",
    "ORDER BY CourseHours DESC;"
   ]
  },
  {
   "cell_type": "code",
   "execution_count": 87,
   "metadata": {},
   "outputs": [
    {
     "name": "stdout",
     "output_type": "stream",
     "text": [
      " * sqlite:///CourseData.db\n",
      "Done.\n"
     ]
    },
    {
     "data": {
      "text/html": [
       "<table>\n",
       "    <tr>\n",
       "        <th>CourseHours</th>\n",
       "        <th>Day</th>\n",
       "        <th>Name</th>\n",
       "    </tr>\n",
       "    <tr>\n",
       "        <td>498</td>\n",
       "        <td>T</td>\n",
       "        <td>Christopher L.  Huntley</td>\n",
       "    </tr>\n",
       "    <tr>\n",
       "        <td>336</td>\n",
       "        <td>W</td>\n",
       "        <td>Christopher L.  Huntley</td>\n",
       "    </tr>\n",
       "    <tr>\n",
       "        <td>183</td>\n",
       "        <td>R</td>\n",
       "        <td>Christopher L.  Huntley</td>\n",
       "    </tr>\n",
       "    <tr>\n",
       "        <td>173</td>\n",
       "        <td>M</td>\n",
       "        <td>Christopher L.  Huntley</td>\n",
       "    </tr>\n",
       "    <tr>\n",
       "        <td>141</td>\n",
       "        <td>S</td>\n",
       "        <td>Christopher L.  Huntley</td>\n",
       "    </tr>\n",
       "    <tr>\n",
       "        <td>100</td>\n",
       "        <td>F</td>\n",
       "        <td>Christopher L.  Huntley</td>\n",
       "    </tr>\n",
       "</table>"
      ],
      "text/plain": [
       "[(498, 'T', 'Christopher L.  Huntley'),\n",
       " (336, 'W', 'Christopher L.  Huntley'),\n",
       " (183, 'R', 'Christopher L.  Huntley'),\n",
       " (173, 'M', 'Christopher L.  Huntley'),\n",
       " (141, 'S', 'Christopher L.  Huntley'),\n",
       " (100, 'F', 'Christopher L.  Huntley')]"
      ]
     },
     "execution_count": 87,
     "metadata": {},
     "output_type": "execute_result"
    }
   ],
   "source": [
    "%%sql \n",
    "SELECT ((SUM(strftime('%s',End)-strftime('%s',Start)))/60)/60 AS CourseHours, Day, Name\n",
    "FROM Course_Meetings\n",
    "    JOIN SECTION USING (CRN, Term)\n",
    "    JOIN Instructor USING (InID)\n",
    "WHERE DAY <> 'day'AND Name LIKE '%Huntley%'\n",
    "GROUP BY Day\n",
    "ORDER BY CourseHours DESC;"
   ]
  }
 ],
 "metadata": {
  "kernelspec": {
   "display_name": "Python 3",
   "language": "python",
   "name": "python3"
  },
  "language_info": {
   "codemirror_mode": {
    "name": "ipython",
    "version": 3
   },
   "file_extension": ".py",
   "mimetype": "text/x-python",
   "name": "python",
   "nbconvert_exporter": "python",
   "pygments_lexer": "ipython3",
   "version": "3.6.5"
  }
 },
 "nbformat": 4,
 "nbformat_minor": 2
}

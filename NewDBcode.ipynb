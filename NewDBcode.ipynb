{
 "cells": [
  {
   "cell_type": "code",
   "execution_count": null,
   "metadata": {},
   "outputs": [],
   "source": [
    "import pandas as pd \n",
    "import numpy as np\n",
    "import sqlite3\n",
    "conn = sqlite3.connect('CourseData2.db')\n",
    "c = conn.cursor()"
   ]
  },
  {
   "cell_type": "code",
   "execution_count": null,
   "metadata": {},
   "outputs": [],
   "source": [
    "%load_ext sql"
   ]
  },
  {
   "cell_type": "code",
   "execution_count": null,
   "metadata": {},
   "outputs": [],
   "source": [
    "%%sql\n",
    "sqlite:///CourseData2.db"
   ]
  },
  {
   "cell_type": "code",
   "execution_count": null,
   "metadata": {},
   "outputs": [],
   "source": [
    "%%sql\n",
    "--Dropping tables for when we need to restart and clear CourseData database-- \n",
    "--Drop ERD tables--\n",
    "DROP TABLE IF EXISTS SECTION;\n",
    "DROP TABLE IF EXISTS CATALOG;\n",
    "DROP TABLE IF EXISTS INSTRUCTOR;\n",
    "DROP TABLE IF EXISTS COURSE_MEETING;\n",
    "\n",
    "--Drop import tables--\n",
    "DROP TABLE IF EXISTS import_course;\n",
    "DROP TABLE IF EXISTS import_course_meeting;\n",
    "DROP TABLE IF EXISTS import_course_catalog;"
   ]
  },
  {
   "cell_type": "code",
   "execution_count": null,
   "metadata": {},
   "outputs": [],
   "source": [
    "%%sql\n",
    "--Creating import_catalog table-- \n",
    "\n",
    "CREATE TABLE 'import_course_catalog' (\n",
    "    program_code TEXT NOT NULL,\n",
    "    program_name VARCHAR NOT NULL,\n",
    "    catalog_id VARCHAR NOT NULL,\n",
    "    course_title VARCHAR NOT NULL, \n",
    "    credits VARCHAR NOT NULL,\n",
    "    prereqs VARCHAR, \n",
    "    coreqs VARCHAR,\n",
    "    fees VARCHAR,\n",
    "    attributes VARCHAR,\n",
    "    description VARCHAR \n",
    ");"
   ]
  },
  {
   "cell_type": "code",
   "execution_count": null,
   "metadata": {},
   "outputs": [],
   "source": [
    "%%sql\n",
    "--Creating import_course_meeting table-- \n",
    "\n",
    "CREATE TABLE 'import_course_meeting' (\n",
    "    term VARCHAR NOT NULL,\n",
    "    crn INTEGER NOT NULL,\n",
    "    location VARCHAR NOT NULL,\n",
    "    day TEXT NOT NULL,\n",
    "    start VARCHAR NOT NULL,\n",
    "    end VARCHAR NOT NULL \n",
    ");"
   ]
  },
  {
   "cell_type": "code",
   "execution_count": null,
   "metadata": {},
   "outputs": [],
   "source": [
    "%%sql\n",
    "--Creating import_course table-- \n",
    "\n",
    "CREATE TABLE 'import_course' (\n",
    "    term VARCHAR NOT NULL,\n",
    "    crn INTEGER NOT NULL,\n",
    "    catalog_id VARCHAR NOT NULL,\n",
    "    section VARCHAR NOT NULL,\n",
    "    credits VARCHAR,\n",
    "    title VARCHAR, \n",
    "    meetings VARCHAR,\n",
    "    timecodes VARCHAR, \n",
    "    primary_instructor TEXT,\n",
    "    cap INTEGER, \n",
    "    act INTEGER, \n",
    "    rem INTEGER \n",
    ");"
   ]
  },
  {
   "cell_type": "code",
   "execution_count": null,
   "metadata": {},
   "outputs": [],
   "source": [
    "%%sql\n",
    "-- Creating table INSTRUCTOR with surrogate primary key-- \n",
    "\n",
    "CREATE TABLE 'INSTRUCTOR' (\n",
    "    InID INTEGER NOT NULL PRIMARY KEY,\n",
    "    Name TEXT NOT NULL\n",
    ");\n",
    "\n",
    "--Creating table CATALOG with CatID as the primary key-- \n",
    "\n",
    "CREATE TABLE 'CATALOG'(\n",
    "    CatID VARCHAR PRIMARY KEY,\n",
    "    Title VARCHAR NOT NULL,\n",
    "    Description TEXT NOT NULL,\n",
    "    Credits TEXT NOT NULL,\n",
    "    PName TEXT NOT NULL,\n",
    "    PCode TEXT,\n",
    "    PREREQS TEXT,\n",
    "    COREQS TEXT,\n",
    "    FEES INTEGER,\n",
    "    Attribute TEXT\n",
    "    \n",
    ");\n",
    "\n",
    "--Creating table SECTION with surrogate primary key-- \n",
    "\n",
    "CREATE TABLE 'SECTION'(\n",
    "    SID INTEGER NOT NULL PRIMARY KEY,\n",
    "    CRN INTEGER NOT NULL,\n",
    "    Term TEXT NOT NULL,\n",
    "    Section VARCHAR NOT NULL,\n",
    "    Cap INTEGER,\n",
    "    Act INTEGER,\n",
    "    Rem INTEGER,\n",
    "    CatID VARCHAR,\n",
    "    InID INTEGER,\n",
    "    FOREIGN KEY (CatID) REFERENCES COURSE(CatID),\n",
    "    FOREIGN KEY (InID) REFERENCES INSTRUCTOR(InID)\n",
    ");\n",
    "\n",
    "--Creating table COURSE_MEETING with CatID as the Primary Key-- \n",
    "\n",
    "CREATE TABLE 'COURSE_MEETING' (\n",
    "    MID INTEGER NOT NULL PRIMARY KEY,\n",
    "    CRN INTEGER NOT NULL,\n",
    "    Term TEXT NOT NULL,\n",
    "    Start TEXT NOT NULL,\n",
    "    Location VARCHAR NOT NULL,\n",
    "    Day TEXT NOT NULL,\n",
    "    End TEXT NOT NULL,\n",
    "    FOREIGN KEY (CRN) REFERENCES SECTION(CRN),\n",
    "    FOREIGN KEY (Term) REFERENCES SECTION(Term)\n",
    ");"
   ]
  },
  {
   "cell_type": "code",
   "execution_count": null,
   "metadata": {},
   "outputs": [],
   "source": [
    "## populating import_course table\n",
    "df_course = pd.read_csv('SourceData/Fall2014/courses.csv')\n",
    "df_course.head()"
   ]
  },
  {
   "cell_type": "code",
   "execution_count": null,
   "metadata": {},
   "outputs": [],
   "source": [
    "summer = ['SourceData/Summer2015/courses.csv', 'SourceData/Summer2016/courses.csv',\n",
    "        'SourceData/Summer2017/courses.csv','SourceData/Summer2018/courses.csv']\n",
    "dfsm0 = pd.read_csv(summer[0])\n",
    "dfsm1 = pd.read_csv(summer[1])\n",
    "dfsm2 = pd.read_csv(summer[2])    \n",
    "dfsm3 = pd.read_csv(summer[3])\n"
   ]
  },
  {
   "cell_type": "code",
   "execution_count": null,
   "metadata": {},
   "outputs": [],
   "source": [
    "winter = ['SourceData/Winter2015/courses.csv', 'SourceData/Winter2016/courses.csv',\n",
    "        'SourceData/Winter2017/courses.csv','SourceData/Winter2018/courses.csv']\n",
    "dfw0 = pd.read_csv(winter[0])\n",
    "dfw1 = pd.read_csv(winter[1])\n",
    "dfw2 = pd.read_csv(winter[2])    \n",
    "dfw3 = pd.read_csv(winter[3])"
   ]
  },
  {
   "cell_type": "code",
   "execution_count": null,
   "metadata": {},
   "outputs": [],
   "source": []
  },
  {
   "cell_type": "code",
   "execution_count": null,
   "metadata": {},
   "outputs": [],
   "source": [
    "cm_fall = ['SourceData/Fall2014/course_meetings.csv', 'SourceData/Fall2015/course_meetings.csv',\n",
    "           'SourceData/Fall2016/course_meetings.csv', 'SourceData/Fall2017/course_meetings.csv',\n",
    "          'SourceData/Fall2018/course_meetings.csv']\n",
    "dfcmf1 = pd.read_csv(cm_fall[0])\n",
    "dfcmf2  = pd.read_csv(cm_fall[1])\n",
    "dfcmf3  = pd.read_csv(cm_fall[2])\n",
    "dfcmf4  = pd.read_csv(cm_fall[3])\n",
    "dfcmf5  = pd.read_csv(cm_fall[4])\n"
   ]
  },
  {
   "cell_type": "code",
   "execution_count": null,
   "metadata": {},
   "outputs": [],
   "source": [
    "df_test.head()"
   ]
  },
  {
   "cell_type": "code",
   "execution_count": null,
   "metadata": {},
   "outputs": [],
   "source": [
    "cm_spring = ['SourceData/Spring2015/course_meetings.csv',\n",
    "           'SourceData/Spring2016/course_meetings.csv', 'SourceData/Spring2017/course_meetings.csv',\n",
    "          'SourceData/Spring2018/course_meetings.csv', 'SourceData/Spring2019/course_meetings.csv']\n",
    "dfcms1 = pd.read_csv(cm_spring[0])\n",
    "dfcms2  = pd.read_csv(cm_spring[1])\n",
    "dfcms3  = pd.read_csv(cm_spring[2])\n",
    "dfcms4  = pd.read_csv(cm_spring[3])\n",
    "dfcms5  = pd.read_csv(cm_spring[4])\n"
   ]
  },
  {
   "cell_type": "code",
   "execution_count": null,
   "metadata": {},
   "outputs": [],
   "source": [
    "cm_springbreak = ['SourceData/SpringBreak2017/course_meetings.csv']\n",
    "\n",
    "dfcmsb1 = pd.read_csv(cm_springbreak[0])\n"
   ]
  },
  {
   "cell_type": "code",
   "execution_count": null,
   "metadata": {},
   "outputs": [],
   "source": [
    "cm_summer = ['SourceData/Summer2015/course_meetings.csv',\n",
    "           'SourceData/Summer2016/course_meetings.csv', 'SourceData/Summer2017/course_meetings.csv',\n",
    "          'SourceData/Summer2018/course_meetings.csv']\n",
    "dfcmsu1 = pd.read_csv(cm_summer[0])\n",
    "dfcmsu2  = pd.read_csv(cm_summer[1])\n",
    "dfcmsu3  = pd.read_csv(cm_summer[2])\n",
    "dfcmsu4  = pd.read_csv(cm_summer[3])"
   ]
  },
  {
   "cell_type": "code",
   "execution_count": null,
   "metadata": {},
   "outputs": [],
   "source": [
    "cm_winter = ['SourceData/Winter2015/course_meetings.csv',\n",
    "           'SourceData/Winter2016/course_meetings.csv', 'SourceData/Winter2017/course_meetings.csv',\n",
    "          'SourceData/Winter2018/course_meetings.csv']\n",
    "dfcmw1 = pd.read_csv(cm_winter[0])\n",
    "dfcmw2  = pd.read_csv(cm_winter[1])\n",
    "dfcmw3  = pd.read_csv(cm_winter[2])\n",
    "dfcmw4  = pd.read_csv(cm_winter[3])"
   ]
  },
  {
   "cell_type": "code",
   "execution_count": null,
   "metadata": {},
   "outputs": [],
   "source": [
    "cc2017_2018 = ['SourceData/CourseCatalog2017_2018/CourseCatalog2017_2018.csv']\n",
    "\n",
    "dfcc17_18 = pd.read_csv(cc2017_2018[0])\n"
   ]
  },
  {
   "cell_type": "code",
   "execution_count": null,
   "metadata": {},
   "outputs": [],
   "source": [
    "cc2018_2019 = ['SourceData/CourseCatalog2018_2019/CourseCatalog2018_2019.csv']\n",
    "\n",
    "dfcc18_17 = pd.read_csv(cc2018_2019[0])\n",
    "\n"
   ]
  }
 ],
 "metadata": {
  "kernelspec": {
   "display_name": "Python 3",
   "language": "python",
   "name": "python3"
  },
  "language_info": {
   "codemirror_mode": {
    "name": "ipython",
    "version": 3
   },
   "file_extension": ".py",
   "mimetype": "text/x-python",
   "name": "python",
   "nbconvert_exporter": "python",
   "pygments_lexer": "ipython3",
   "version": "3.6.5"
  }
 },
 "nbformat": 4,
 "nbformat_minor": 2
}

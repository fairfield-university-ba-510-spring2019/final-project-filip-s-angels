{
 "cells": [
  {
   "cell_type": "code",
   "execution_count": 1,
   "metadata": {},
   "outputs": [],
   "source": [
    "import pandas as pd \n",
    "import numpy as np\n",
    "import sqlite3\n",
    "conn = sqlite3.connect('CourseData2.db')\n",
    "c = conn.cursor()"
   ]
  },
  {
   "cell_type": "code",
   "execution_count": 2,
   "metadata": {},
   "outputs": [],
   "source": [
    "%load_ext sql"
   ]
  },
  {
   "cell_type": "code",
   "execution_count": 3,
   "metadata": {},
   "outputs": [
    {
     "data": {
      "text/plain": [
       "'Connected: @CourseData2.db'"
      ]
     },
     "execution_count": 3,
     "metadata": {},
     "output_type": "execute_result"
    }
   ],
   "source": [
    "%%sql\n",
    "sqlite:///CourseData2.db"
   ]
  },
  {
   "cell_type": "code",
   "execution_count": 4,
   "metadata": {},
   "outputs": [
    {
     "name": "stdout",
     "output_type": "stream",
     "text": [
      " * sqlite:///CourseData2.db\n",
      "Done.\n",
      "Done.\n",
      "Done.\n",
      "Done.\n",
      "Done.\n",
      "Done.\n",
      "Done.\n"
     ]
    },
    {
     "data": {
      "text/plain": [
       "[]"
      ]
     },
     "execution_count": 4,
     "metadata": {},
     "output_type": "execute_result"
    }
   ],
   "source": [
    "%%sql\n",
    "--Dropping tables for when we need to restart and clear CourseData database-- \n",
    "--Drop ERD tables--\n",
    "DROP TABLE IF EXISTS SECTION;\n",
    "DROP TABLE IF EXISTS CATALOG;\n",
    "DROP TABLE IF EXISTS INSTRUCTOR;\n",
    "DROP TABLE IF EXISTS COURSE_MEETING;\n",
    "\n",
    "--Drop import tables--\n",
    "DROP TABLE IF EXISTS import_course;\n",
    "DROP TABLE IF EXISTS import_course_meeting;\n",
    "DROP TABLE IF EXISTS import_course_catalog;"
   ]
  },
  {
   "cell_type": "code",
   "execution_count": 5,
   "metadata": {},
   "outputs": [
    {
     "name": "stdout",
     "output_type": "stream",
     "text": [
      " * sqlite:///CourseData2.db\n",
      "Done.\n"
     ]
    },
    {
     "data": {
      "text/plain": [
       "[]"
      ]
     },
     "execution_count": 5,
     "metadata": {},
     "output_type": "execute_result"
    }
   ],
   "source": [
    "%%sql\n",
    "--Creating import_catalog table-- \n",
    "\n",
    "CREATE TABLE 'import_course_catalog' (\n",
    "    program_code TEXT NOT NULL,\n",
    "    program_name VARCHAR NOT NULL,\n",
    "    catalog_id VARCHAR NOT NULL,\n",
    "    course_title VARCHAR NOT NULL, \n",
    "    credits VARCHAR NOT NULL,\n",
    "    prereqs VARCHAR, \n",
    "    coreqs VARCHAR,\n",
    "    fees VARCHAR,\n",
    "    attributes VARCHAR,\n",
    "    description VARCHAR \n",
    ");"
   ]
  },
  {
   "cell_type": "code",
   "execution_count": 6,
   "metadata": {},
   "outputs": [
    {
     "name": "stdout",
     "output_type": "stream",
     "text": [
      " * sqlite:///CourseData2.db\n",
      "Done.\n"
     ]
    },
    {
     "data": {
      "text/plain": [
       "[]"
      ]
     },
     "execution_count": 6,
     "metadata": {},
     "output_type": "execute_result"
    }
   ],
   "source": [
    "%%sql\n",
    "--Creating import_course_meeting table-- \n",
    "\n",
    "CREATE TABLE 'import_course_meeting' (\n",
    "    term VARCHAR NOT NULL,\n",
    "    crn INTEGER NOT NULL,\n",
    "    location VARCHAR NOT NULL,\n",
    "    day TEXT NOT NULL,\n",
    "    start VARCHAR NOT NULL,\n",
    "    end VARCHAR NOT NULL \n",
    ");"
   ]
  },
  {
   "cell_type": "code",
   "execution_count": 7,
   "metadata": {},
   "outputs": [
    {
     "name": "stdout",
     "output_type": "stream",
     "text": [
      " * sqlite:///CourseData2.db\n",
      "Done.\n"
     ]
    },
    {
     "data": {
      "text/plain": [
       "[]"
      ]
     },
     "execution_count": 7,
     "metadata": {},
     "output_type": "execute_result"
    }
   ],
   "source": [
    "%%sql\n",
    "--Creating import_course table-- \n",
    "\n",
    "CREATE TABLE 'import_course' (\n",
    "    term VARCHAR NOT NULL,\n",
    "    crn INTEGER NOT NULL,\n",
    "    catalog_id VARCHAR NOT NULL,\n",
    "    section VARCHAR NOT NULL,\n",
    "    credits VARCHAR,\n",
    "    title VARCHAR, \n",
    "    meetings VARCHAR,\n",
    "    timecodes VARCHAR, \n",
    "    primary_instructor TEXT,\n",
    "    cap INTEGER, \n",
    "    act INTEGER, \n",
    "    rem INTEGER \n",
    ");"
   ]
  },
  {
   "cell_type": "code",
   "execution_count": 8,
   "metadata": {},
   "outputs": [
    {
     "name": "stdout",
     "output_type": "stream",
     "text": [
      " * sqlite:///CourseData2.db\n",
      "Done.\n",
      "Done.\n",
      "Done.\n",
      "Done.\n"
     ]
    },
    {
     "data": {
      "text/plain": [
       "[]"
      ]
     },
     "execution_count": 8,
     "metadata": {},
     "output_type": "execute_result"
    }
   ],
   "source": [
    "%%sql\n",
    "-- Creating table INSTRUCTOR with surrogate primary key-- \n",
    "\n",
    "CREATE TABLE 'INSTRUCTOR' (\n",
    "    InID INTEGER NOT NULL PRIMARY KEY,\n",
    "    Name TEXT NOT NULL\n",
    ");\n",
    "\n",
    "--Creating table CATALOG with CatID as the primary key-- \n",
    "\n",
    "CREATE TABLE 'CATALOG'(\n",
    "    CatID VARCHAR PRIMARY KEY,\n",
    "    Title VARCHAR NOT NULL,\n",
    "    Description TEXT NOT NULL,\n",
    "    Credits TEXT NOT NULL,\n",
    "    PName TEXT NOT NULL,\n",
    "    PCode TEXT,\n",
    "    PREREQS TEXT,\n",
    "    COREQS TEXT,\n",
    "    FEES INTEGER,\n",
    "    Attribute TEXT\n",
    "    \n",
    ");\n",
    "\n",
    "--Creating table SECTION with surrogate primary key-- \n",
    "\n",
    "CREATE TABLE 'SECTION'(\n",
    "    SID INTEGER NOT NULL PRIMARY KEY,\n",
    "    CRN INTEGER NOT NULL,\n",
    "    Term TEXT NOT NULL,\n",
    "    Section VARCHAR NOT NULL,\n",
    "    Cap INTEGER,\n",
    "    Act INTEGER,\n",
    "    Rem INTEGER,\n",
    "    CatID VARCHAR,\n",
    "    InID INTEGER,\n",
    "    FOREIGN KEY (CatID) REFERENCES COURSE(CatID),\n",
    "    FOREIGN KEY (InID) REFERENCES INSTRUCTOR(InID)\n",
    ");\n",
    "\n",
    "--Creating table COURSE_MEETING with CatID as the Primary Key-- \n",
    "\n",
    "CREATE TABLE 'COURSE_MEETING' (\n",
    "    MID INTEGER NOT NULL PRIMARY KEY,\n",
    "    CRN INTEGER NOT NULL,\n",
    "    Term TEXT NOT NULL,\n",
    "    Start TEXT NOT NULL,\n",
    "    Location VARCHAR NOT NULL,\n",
    "    Day TEXT NOT NULL,\n",
    "    End TEXT NOT NULL,\n",
    "    FOREIGN KEY (CRN) REFERENCES SECTION(CRN),\n",
    "    FOREIGN KEY (Term) REFERENCES SECTION(Term)\n",
    ");"
   ]
  },
  {
   "cell_type": "markdown",
   "metadata": {},
   "source": [
    "**Creating Dataframes for the import course**"
   ]
  },
  {
   "cell_type": "code",
   "execution_count": 9,
   "metadata": {},
   "outputs": [],
   "source": [
    "## populating import_course table\n",
    "fall = ['SourceData/Fall2014/courses.csv','SourceData/Fall2015/courses.csv', 'SourceData/Fall2016/courses.csv',\n",
    "        'SourceData/Fall2017/courses.csv','SourceData/Fall2018/courses.csv']\n",
    "dff0 = pd.read_csv(fall[0])\n",
    "dff1 = pd.read_csv(fall[1])\n",
    "dff2 = pd.read_csv(fall[2])    \n",
    "dff3 = pd.read_csv(fall[3])\n",
    "dff4 = pd.read_csv(fall[4])"
   ]
  },
  {
   "cell_type": "code",
   "execution_count": 10,
   "metadata": {},
   "outputs": [
    {
     "data": {
      "text/html": [
       "<div>\n",
       "<style scoped>\n",
       "    .dataframe tbody tr th:only-of-type {\n",
       "        vertical-align: middle;\n",
       "    }\n",
       "\n",
       "    .dataframe tbody tr th {\n",
       "        vertical-align: top;\n",
       "    }\n",
       "\n",
       "    .dataframe thead th {\n",
       "        text-align: right;\n",
       "    }\n",
       "</style>\n",
       "<table border=\"1\" class=\"dataframe\">\n",
       "  <thead>\n",
       "    <tr style=\"text-align: right;\">\n",
       "      <th></th>\n",
       "      <th>term</th>\n",
       "      <th>crn</th>\n",
       "      <th>catalog_id</th>\n",
       "      <th>section</th>\n",
       "      <th>credits</th>\n",
       "      <th>title</th>\n",
       "      <th>meetings</th>\n",
       "      <th>timecodes</th>\n",
       "      <th>primary_instructor</th>\n",
       "      <th>cap</th>\n",
       "      <th>act</th>\n",
       "      <th>rem</th>\n",
       "    </tr>\n",
       "  </thead>\n",
       "  <tbody>\n",
       "    <tr>\n",
       "      <th>0</th>\n",
       "      <td>Fall2014</td>\n",
       "      <td>70384</td>\n",
       "      <td>AC 0011</td>\n",
       "      <td>C01</td>\n",
       "      <td>3.000</td>\n",
       "      <td>Introduction to Financial Accounting</td>\n",
       "      <td>[{'days': 'TF', 'times': '0800am-0915am', 'dat...</td>\n",
       "      <td>['TF 0800am-0915am 09/02-12/08 DSB 105']</td>\n",
       "      <td>Michael P.  Coyne</td>\n",
       "      <td>0</td>\n",
       "      <td>31</td>\n",
       "      <td>-31</td>\n",
       "    </tr>\n",
       "    <tr>\n",
       "      <th>1</th>\n",
       "      <td>Fall2014</td>\n",
       "      <td>70385</td>\n",
       "      <td>AC 0011</td>\n",
       "      <td>C02</td>\n",
       "      <td>3.000</td>\n",
       "      <td>Introduction to Financial Accounting</td>\n",
       "      <td>[{'days': 'TF', 'times': '0930am-1045am', 'dat...</td>\n",
       "      <td>['TF 0930am-1045am 09/02-12/08 DSB 105']</td>\n",
       "      <td>Michael P.  Coyne</td>\n",
       "      <td>0</td>\n",
       "      <td>31</td>\n",
       "      <td>-31</td>\n",
       "    </tr>\n",
       "    <tr>\n",
       "      <th>2</th>\n",
       "      <td>Fall2014</td>\n",
       "      <td>70382</td>\n",
       "      <td>AC 0011</td>\n",
       "      <td>C03</td>\n",
       "      <td>3.000</td>\n",
       "      <td>Introduction to Financial Accounting</td>\n",
       "      <td>[{'days': 'TF', 'times': '1230pm-0145pm', 'dat...</td>\n",
       "      <td>['TF 1230pm-0145pm 09/02-12/08 DSB 105']</td>\n",
       "      <td>Michael P.  Coyne</td>\n",
       "      <td>0</td>\n",
       "      <td>31</td>\n",
       "      <td>-31</td>\n",
       "    </tr>\n",
       "    <tr>\n",
       "      <th>3</th>\n",
       "      <td>Fall2014</td>\n",
       "      <td>70291</td>\n",
       "      <td>AC 0011</td>\n",
       "      <td>C04</td>\n",
       "      <td>3.000</td>\n",
       "      <td>Introduction to Financial Accounting</td>\n",
       "      <td>[{'days': 'MR', 'times': '1100am-1215pm', 'dat...</td>\n",
       "      <td>['MR 1100am-1215pm 09/02-12/08 DSB 111']</td>\n",
       "      <td>Rebecca I.  Bloch</td>\n",
       "      <td>0</td>\n",
       "      <td>29</td>\n",
       "      <td>-29</td>\n",
       "    </tr>\n",
       "    <tr>\n",
       "      <th>4</th>\n",
       "      <td>Fall2014</td>\n",
       "      <td>70350</td>\n",
       "      <td>AC 0011</td>\n",
       "      <td>C05</td>\n",
       "      <td>3.000</td>\n",
       "      <td>Introduction to Financial Accounting</td>\n",
       "      <td>[{'days': 'MR', 'times': '1230pm-0145pm', 'dat...</td>\n",
       "      <td>['MR 1230pm-0145pm 09/02-12/08 DSB 111']</td>\n",
       "      <td>Rebecca I.  Bloch</td>\n",
       "      <td>0</td>\n",
       "      <td>30</td>\n",
       "      <td>-30</td>\n",
       "    </tr>\n",
       "  </tbody>\n",
       "</table>\n",
       "</div>"
      ],
      "text/plain": [
       "       term    crn catalog_id section credits  \\\n",
       "0  Fall2014  70384    AC 0011     C01   3.000   \n",
       "1  Fall2014  70385    AC 0011     C02   3.000   \n",
       "2  Fall2014  70382    AC 0011     C03   3.000   \n",
       "3  Fall2014  70291    AC 0011     C04   3.000   \n",
       "4  Fall2014  70350    AC 0011     C05   3.000   \n",
       "\n",
       "                                  title  \\\n",
       "0  Introduction to Financial Accounting   \n",
       "1  Introduction to Financial Accounting   \n",
       "2  Introduction to Financial Accounting   \n",
       "3  Introduction to Financial Accounting   \n",
       "4  Introduction to Financial Accounting   \n",
       "\n",
       "                                            meetings  \\\n",
       "0  [{'days': 'TF', 'times': '0800am-0915am', 'dat...   \n",
       "1  [{'days': 'TF', 'times': '0930am-1045am', 'dat...   \n",
       "2  [{'days': 'TF', 'times': '1230pm-0145pm', 'dat...   \n",
       "3  [{'days': 'MR', 'times': '1100am-1215pm', 'dat...   \n",
       "4  [{'days': 'MR', 'times': '1230pm-0145pm', 'dat...   \n",
       "\n",
       "                                  timecodes primary_instructor  cap  act  rem  \n",
       "0  ['TF 0800am-0915am 09/02-12/08 DSB 105']  Michael P.  Coyne    0   31  -31  \n",
       "1  ['TF 0930am-1045am 09/02-12/08 DSB 105']  Michael P.  Coyne    0   31  -31  \n",
       "2  ['TF 1230pm-0145pm 09/02-12/08 DSB 105']  Michael P.  Coyne    0   31  -31  \n",
       "3  ['MR 1100am-1215pm 09/02-12/08 DSB 111']  Rebecca I.  Bloch    0   29  -29  \n",
       "4  ['MR 1230pm-0145pm 09/02-12/08 DSB 111']  Rebecca I.  Bloch    0   30  -30  "
      ]
     },
     "execution_count": 10,
     "metadata": {},
     "output_type": "execute_result"
    }
   ],
   "source": [
    "df_fall = pd.concat([dff0, dff1, dff2, dff3, dff4])\n",
    "df_fall.head()"
   ]
  },
  {
   "cell_type": "code",
   "execution_count": 11,
   "metadata": {},
   "outputs": [
    {
     "data": {
      "text/html": [
       "<div>\n",
       "<style scoped>\n",
       "    .dataframe tbody tr th:only-of-type {\n",
       "        vertical-align: middle;\n",
       "    }\n",
       "\n",
       "    .dataframe tbody tr th {\n",
       "        vertical-align: top;\n",
       "    }\n",
       "\n",
       "    .dataframe thead th {\n",
       "        text-align: right;\n",
       "    }\n",
       "</style>\n",
       "<table border=\"1\" class=\"dataframe\">\n",
       "  <thead>\n",
       "    <tr style=\"text-align: right;\">\n",
       "      <th></th>\n",
       "      <th>crn</th>\n",
       "      <th>cap</th>\n",
       "      <th>act</th>\n",
       "      <th>rem</th>\n",
       "    </tr>\n",
       "  </thead>\n",
       "  <tbody>\n",
       "    <tr>\n",
       "      <th>count</th>\n",
       "      <td>7486.000000</td>\n",
       "      <td>7486.00000</td>\n",
       "      <td>7486.000000</td>\n",
       "      <td>7486.000000</td>\n",
       "    </tr>\n",
       "    <tr>\n",
       "      <th>mean</th>\n",
       "      <td>74523.769169</td>\n",
       "      <td>18.39487</td>\n",
       "      <td>16.310446</td>\n",
       "      <td>2.219076</td>\n",
       "    </tr>\n",
       "    <tr>\n",
       "      <th>std</th>\n",
       "      <td>2512.545835</td>\n",
       "      <td>14.41373</td>\n",
       "      <td>9.863494</td>\n",
       "      <td>17.175757</td>\n",
       "    </tr>\n",
       "    <tr>\n",
       "      <th>min</th>\n",
       "      <td>70001.000000</td>\n",
       "      <td>0.00000</td>\n",
       "      <td>-1.000000</td>\n",
       "      <td>-75.000000</td>\n",
       "    </tr>\n",
       "    <tr>\n",
       "      <th>25%</th>\n",
       "      <td>72213.000000</td>\n",
       "      <td>12.00000</td>\n",
       "      <td>8.000000</td>\n",
       "      <td>0.000000</td>\n",
       "    </tr>\n",
       "    <tr>\n",
       "      <th>50%</th>\n",
       "      <td>74848.500000</td>\n",
       "      <td>19.00000</td>\n",
       "      <td>16.000000</td>\n",
       "      <td>1.000000</td>\n",
       "    </tr>\n",
       "    <tr>\n",
       "      <th>75%</th>\n",
       "      <td>76698.750000</td>\n",
       "      <td>25.00000</td>\n",
       "      <td>24.000000</td>\n",
       "      <td>5.000000</td>\n",
       "    </tr>\n",
       "    <tr>\n",
       "      <th>max</th>\n",
       "      <td>79215.000000</td>\n",
       "      <td>500.00000</td>\n",
       "      <td>90.000000</td>\n",
       "      <td>999.000000</td>\n",
       "    </tr>\n",
       "  </tbody>\n",
       "</table>\n",
       "</div>"
      ],
      "text/plain": [
       "                crn         cap          act          rem\n",
       "count   7486.000000  7486.00000  7486.000000  7486.000000\n",
       "mean   74523.769169    18.39487    16.310446     2.219076\n",
       "std     2512.545835    14.41373     9.863494    17.175757\n",
       "min    70001.000000     0.00000    -1.000000   -75.000000\n",
       "25%    72213.000000    12.00000     8.000000     0.000000\n",
       "50%    74848.500000    19.00000    16.000000     1.000000\n",
       "75%    76698.750000    25.00000    24.000000     5.000000\n",
       "max    79215.000000   500.00000    90.000000   999.000000"
      ]
     },
     "execution_count": 11,
     "metadata": {},
     "output_type": "execute_result"
    }
   ],
   "source": [
    "df_fall.describe()"
   ]
  },
  {
   "cell_type": "code",
   "execution_count": 12,
   "metadata": {},
   "outputs": [],
   "source": [
    "spring = ['SourceData/Spring2015/courses.csv','SourceData/Spring2016/courses.csv', 'SourceData/Spring2017/courses.csv',\n",
    "        'SourceData/Spring2018/courses.csv','SourceData/Spring2019/courses.csv', 'SourceData/SpringBreak2017/courses.csv']\n",
    "dfs0 = pd.read_csv(spring[0])\n",
    "dfs1 = pd.read_csv(spring[1])\n",
    "dfs2 = pd.read_csv(spring[2])    \n",
    "dfs3 = pd.read_csv(spring[3])\n",
    "dfs4 = pd.read_csv(spring[4])\n",
    "dfs5 = pd.read_csv(spring[5])"
   ]
  },
  {
   "cell_type": "code",
   "execution_count": 13,
   "metadata": {},
   "outputs": [
    {
     "data": {
      "text/html": [
       "<div>\n",
       "<style scoped>\n",
       "    .dataframe tbody tr th:only-of-type {\n",
       "        vertical-align: middle;\n",
       "    }\n",
       "\n",
       "    .dataframe tbody tr th {\n",
       "        vertical-align: top;\n",
       "    }\n",
       "\n",
       "    .dataframe thead th {\n",
       "        text-align: right;\n",
       "    }\n",
       "</style>\n",
       "<table border=\"1\" class=\"dataframe\">\n",
       "  <thead>\n",
       "    <tr style=\"text-align: right;\">\n",
       "      <th></th>\n",
       "      <th>term</th>\n",
       "      <th>crn</th>\n",
       "      <th>catalog_id</th>\n",
       "      <th>section</th>\n",
       "      <th>credits</th>\n",
       "      <th>title</th>\n",
       "      <th>meetings</th>\n",
       "      <th>timecodes</th>\n",
       "      <th>primary_instructor</th>\n",
       "      <th>cap</th>\n",
       "      <th>act</th>\n",
       "      <th>rem</th>\n",
       "    </tr>\n",
       "  </thead>\n",
       "  <tbody>\n",
       "    <tr>\n",
       "      <th>0</th>\n",
       "      <td>Spring2015</td>\n",
       "      <td>32436</td>\n",
       "      <td>AC 0011</td>\n",
       "      <td>A</td>\n",
       "      <td>3.000</td>\n",
       "      <td>Introduction to Financial Accounting</td>\n",
       "      <td>[{'days': 'MR', 'times': '0200pm-0315pm', 'dat...</td>\n",
       "      <td>['MR 0200pm-0315pm 01/20-04/30 DSB 108']</td>\n",
       "      <td>Dawn W  Massey</td>\n",
       "      <td>28</td>\n",
       "      <td>28</td>\n",
       "      <td>0</td>\n",
       "    </tr>\n",
       "    <tr>\n",
       "      <th>1</th>\n",
       "      <td>Spring2015</td>\n",
       "      <td>33880</td>\n",
       "      <td>AC 0011</td>\n",
       "      <td>B</td>\n",
       "      <td>3.000</td>\n",
       "      <td>Introduction to Financial Accounting</td>\n",
       "      <td>[{'days': 'MR', 'times': '0930am-1045am', 'dat...</td>\n",
       "      <td>['MR 0930am-1045am 01/20-04/30 DSB 106']</td>\n",
       "      <td>Dawn W  Massey</td>\n",
       "      <td>24</td>\n",
       "      <td>26</td>\n",
       "      <td>-2</td>\n",
       "    </tr>\n",
       "    <tr>\n",
       "      <th>2</th>\n",
       "      <td>Spring2015</td>\n",
       "      <td>33012</td>\n",
       "      <td>AC 0012</td>\n",
       "      <td>A</td>\n",
       "      <td>3.000</td>\n",
       "      <td>Introduction to Management Accounting</td>\n",
       "      <td>[{'days': 'MR', 'times': '1100am-1215pm', 'dat...</td>\n",
       "      <td>['MR 1100am-1215pm 01/20-04/30 DSB 110A']</td>\n",
       "      <td>Rebecca I.  Bloch</td>\n",
       "      <td>28</td>\n",
       "      <td>30</td>\n",
       "      <td>-2</td>\n",
       "    </tr>\n",
       "    <tr>\n",
       "      <th>3</th>\n",
       "      <td>Spring2015</td>\n",
       "      <td>33013</td>\n",
       "      <td>AC 0012</td>\n",
       "      <td>B</td>\n",
       "      <td>3.000</td>\n",
       "      <td>Introduction to Management Accounting</td>\n",
       "      <td>[{'days': 'MR', 'times': '1230pm-0145pm', 'dat...</td>\n",
       "      <td>['MR 1230pm-0145pm 01/20-04/30 DSB 104']</td>\n",
       "      <td>Rebecca I.  Bloch</td>\n",
       "      <td>28</td>\n",
       "      <td>28</td>\n",
       "      <td>0</td>\n",
       "    </tr>\n",
       "    <tr>\n",
       "      <th>4</th>\n",
       "      <td>Spring2015</td>\n",
       "      <td>33014</td>\n",
       "      <td>AC 0012</td>\n",
       "      <td>C</td>\n",
       "      <td>3.000</td>\n",
       "      <td>Introduction to Management Accounting</td>\n",
       "      <td>[{'days': 'MR', 'times': '0330pm-0445pm', 'dat...</td>\n",
       "      <td>['MR 0330pm-0445pm 01/20-04/30 DSB 104']</td>\n",
       "      <td>Rebecca I.  Bloch</td>\n",
       "      <td>28</td>\n",
       "      <td>28</td>\n",
       "      <td>0</td>\n",
       "    </tr>\n",
       "  </tbody>\n",
       "</table>\n",
       "</div>"
      ],
      "text/plain": [
       "         term    crn catalog_id section credits  \\\n",
       "0  Spring2015  32436    AC 0011       A   3.000   \n",
       "1  Spring2015  33880    AC 0011       B   3.000   \n",
       "2  Spring2015  33012    AC 0012       A   3.000   \n",
       "3  Spring2015  33013    AC 0012       B   3.000   \n",
       "4  Spring2015  33014    AC 0012       C   3.000   \n",
       "\n",
       "                                   title  \\\n",
       "0   Introduction to Financial Accounting   \n",
       "1   Introduction to Financial Accounting   \n",
       "2  Introduction to Management Accounting   \n",
       "3  Introduction to Management Accounting   \n",
       "4  Introduction to Management Accounting   \n",
       "\n",
       "                                            meetings  \\\n",
       "0  [{'days': 'MR', 'times': '0200pm-0315pm', 'dat...   \n",
       "1  [{'days': 'MR', 'times': '0930am-1045am', 'dat...   \n",
       "2  [{'days': 'MR', 'times': '1100am-1215pm', 'dat...   \n",
       "3  [{'days': 'MR', 'times': '1230pm-0145pm', 'dat...   \n",
       "4  [{'days': 'MR', 'times': '0330pm-0445pm', 'dat...   \n",
       "\n",
       "                                   timecodes primary_instructor  cap  act  rem  \n",
       "0   ['MR 0200pm-0315pm 01/20-04/30 DSB 108']     Dawn W  Massey   28   28    0  \n",
       "1   ['MR 0930am-1045am 01/20-04/30 DSB 106']     Dawn W  Massey   24   26   -2  \n",
       "2  ['MR 1100am-1215pm 01/20-04/30 DSB 110A']  Rebecca I.  Bloch   28   30   -2  \n",
       "3   ['MR 1230pm-0145pm 01/20-04/30 DSB 104']  Rebecca I.  Bloch   28   28    0  \n",
       "4   ['MR 0330pm-0445pm 01/20-04/30 DSB 104']  Rebecca I.  Bloch   28   28    0  "
      ]
     },
     "execution_count": 13,
     "metadata": {},
     "output_type": "execute_result"
    }
   ],
   "source": [
    "df_spring = pd.concat([dfs0,dfs1,dfs2,dfs3,dfs4,dfs5])\n",
    "df_spring.head()"
   ]
  },
  {
   "cell_type": "code",
   "execution_count": 15,
   "metadata": {},
   "outputs": [
    {
     "data": {
      "text/html": [
       "<div>\n",
       "<style scoped>\n",
       "    .dataframe tbody tr th:only-of-type {\n",
       "        vertical-align: middle;\n",
       "    }\n",
       "\n",
       "    .dataframe tbody tr th {\n",
       "        vertical-align: top;\n",
       "    }\n",
       "\n",
       "    .dataframe thead th {\n",
       "        text-align: right;\n",
       "    }\n",
       "</style>\n",
       "<table border=\"1\" class=\"dataframe\">\n",
       "  <thead>\n",
       "    <tr style=\"text-align: right;\">\n",
       "      <th></th>\n",
       "      <th>crn</th>\n",
       "      <th>cap</th>\n",
       "      <th>act</th>\n",
       "      <th>rem</th>\n",
       "    </tr>\n",
       "  </thead>\n",
       "  <tbody>\n",
       "    <tr>\n",
       "      <th>count</th>\n",
       "      <td>7122.000000</td>\n",
       "      <td>7122.000000</td>\n",
       "      <td>7122.000000</td>\n",
       "      <td>7122.000000</td>\n",
       "    </tr>\n",
       "    <tr>\n",
       "      <th>mean</th>\n",
       "      <td>35212.001966</td>\n",
       "      <td>18.123982</td>\n",
       "      <td>15.658804</td>\n",
       "      <td>2.465178</td>\n",
       "    </tr>\n",
       "    <tr>\n",
       "      <th>std</th>\n",
       "      <td>2618.670948</td>\n",
       "      <td>10.876640</td>\n",
       "      <td>10.342885</td>\n",
       "      <td>6.497100</td>\n",
       "    </tr>\n",
       "    <tr>\n",
       "      <th>min</th>\n",
       "      <td>31001.000000</td>\n",
       "      <td>0.000000</td>\n",
       "      <td>0.000000</td>\n",
       "      <td>-47.000000</td>\n",
       "    </tr>\n",
       "    <tr>\n",
       "      <th>25%</th>\n",
       "      <td>32773.250000</td>\n",
       "      <td>11.000000</td>\n",
       "      <td>7.000000</td>\n",
       "      <td>0.000000</td>\n",
       "    </tr>\n",
       "    <tr>\n",
       "      <th>50%</th>\n",
       "      <td>34835.000000</td>\n",
       "      <td>19.000000</td>\n",
       "      <td>16.000000</td>\n",
       "      <td>1.000000</td>\n",
       "    </tr>\n",
       "    <tr>\n",
       "      <th>75%</th>\n",
       "      <td>37693.750000</td>\n",
       "      <td>25.000000</td>\n",
       "      <td>24.000000</td>\n",
       "      <td>4.000000</td>\n",
       "    </tr>\n",
       "    <tr>\n",
       "      <th>max</th>\n",
       "      <td>41702.000000</td>\n",
       "      <td>100.000000</td>\n",
       "      <td>90.000000</td>\n",
       "      <td>89.000000</td>\n",
       "    </tr>\n",
       "  </tbody>\n",
       "</table>\n",
       "</div>"
      ],
      "text/plain": [
       "                crn          cap          act          rem\n",
       "count   7122.000000  7122.000000  7122.000000  7122.000000\n",
       "mean   35212.001966    18.123982    15.658804     2.465178\n",
       "std     2618.670948    10.876640    10.342885     6.497100\n",
       "min    31001.000000     0.000000     0.000000   -47.000000\n",
       "25%    32773.250000    11.000000     7.000000     0.000000\n",
       "50%    34835.000000    19.000000    16.000000     1.000000\n",
       "75%    37693.750000    25.000000    24.000000     4.000000\n",
       "max    41702.000000   100.000000    90.000000    89.000000"
      ]
     },
     "execution_count": 15,
     "metadata": {},
     "output_type": "execute_result"
    }
   ],
   "source": [
    "df_spring.describe()"
   ]
  },
  {
   "cell_type": "code",
   "execution_count": 16,
   "metadata": {},
   "outputs": [],
   "source": [
    "summer = ['SourceData/Summer2015/courses.csv', 'SourceData/Summer2016/courses.csv',\n",
    "        'SourceData/Summer2017/courses.csv','SourceData/Summer2018/courses.csv']\n",
    "dfsm0 = pd.read_csv(summer[0])\n",
    "dfsm1 = pd.read_csv(summer[1])\n",
    "dfsm2 = pd.read_csv(summer[2])    \n",
    "dfsm3 = pd.read_csv(summer[3])"
   ]
  },
  {
   "cell_type": "code",
   "execution_count": 17,
   "metadata": {},
   "outputs": [],
   "source": [
    "winter = ['SourceData/Winter2015/courses.csv', 'SourceData/Winter2016/courses.csv',\n",
    "        'SourceData/Winter2017/courses.csv','SourceData/Winter2018/courses.csv']\n",
    "dfw0 = pd.read_csv(winter[0])\n",
    "dfw1 = pd.read_csv(winter[1])\n",
    "dfw2 = pd.read_csv(winter[2])    \n",
    "dfw3 = pd.read_csv(winter[3])"
   ]
  },
  {
   "cell_type": "code",
   "execution_count": null,
   "metadata": {},
   "outputs": [],
   "source": []
  },
  {
   "cell_type": "code",
   "execution_count": null,
   "metadata": {},
   "outputs": [],
   "source": []
  },
  {
   "cell_type": "code",
   "execution_count": null,
   "metadata": {},
   "outputs": [],
   "source": []
  },
  {
   "cell_type": "code",
   "execution_count": 18,
   "metadata": {},
   "outputs": [],
   "source": [
    "meeting_test = ['SourceData/Fall2014/course_meetings.csv']\n",
    "df_test = pd.read_csv(meeting_test[0])"
   ]
  },
  {
   "cell_type": "code",
   "execution_count": 19,
   "metadata": {},
   "outputs": [
    {
     "data": {
      "text/html": [
       "<div>\n",
       "<style scoped>\n",
       "    .dataframe tbody tr th:only-of-type {\n",
       "        vertical-align: middle;\n",
       "    }\n",
       "\n",
       "    .dataframe tbody tr th {\n",
       "        vertical-align: top;\n",
       "    }\n",
       "\n",
       "    .dataframe thead th {\n",
       "        text-align: right;\n",
       "    }\n",
       "</style>\n",
       "<table border=\"1\" class=\"dataframe\">\n",
       "  <thead>\n",
       "    <tr style=\"text-align: right;\">\n",
       "      <th></th>\n",
       "      <th>term</th>\n",
       "      <th>crn</th>\n",
       "      <th>location</th>\n",
       "      <th>day</th>\n",
       "      <th>start</th>\n",
       "      <th>end</th>\n",
       "    </tr>\n",
       "  </thead>\n",
       "  <tbody>\n",
       "    <tr>\n",
       "      <th>0</th>\n",
       "      <td>Fall2014</td>\n",
       "      <td>70384</td>\n",
       "      <td>DSB 105</td>\n",
       "      <td>T</td>\n",
       "      <td>2014-09-02T08:00:00</td>\n",
       "      <td>2014-09-02T09:15:00</td>\n",
       "    </tr>\n",
       "    <tr>\n",
       "      <th>1</th>\n",
       "      <td>Fall2014</td>\n",
       "      <td>70384</td>\n",
       "      <td>DSB 105</td>\n",
       "      <td>F</td>\n",
       "      <td>2014-09-05T08:00:00</td>\n",
       "      <td>2014-09-05T09:15:00</td>\n",
       "    </tr>\n",
       "    <tr>\n",
       "      <th>2</th>\n",
       "      <td>Fall2014</td>\n",
       "      <td>70384</td>\n",
       "      <td>DSB 105</td>\n",
       "      <td>T</td>\n",
       "      <td>2014-09-09T08:00:00</td>\n",
       "      <td>2014-09-09T09:15:00</td>\n",
       "    </tr>\n",
       "    <tr>\n",
       "      <th>3</th>\n",
       "      <td>Fall2014</td>\n",
       "      <td>70384</td>\n",
       "      <td>DSB 105</td>\n",
       "      <td>F</td>\n",
       "      <td>2014-09-12T08:00:00</td>\n",
       "      <td>2014-09-12T09:15:00</td>\n",
       "    </tr>\n",
       "    <tr>\n",
       "      <th>4</th>\n",
       "      <td>Fall2014</td>\n",
       "      <td>70384</td>\n",
       "      <td>DSB 105</td>\n",
       "      <td>T</td>\n",
       "      <td>2014-09-16T08:00:00</td>\n",
       "      <td>2014-09-16T09:15:00</td>\n",
       "    </tr>\n",
       "  </tbody>\n",
       "</table>\n",
       "</div>"
      ],
      "text/plain": [
       "       term    crn location day                start                  end\n",
       "0  Fall2014  70384  DSB 105   T  2014-09-02T08:00:00  2014-09-02T09:15:00\n",
       "1  Fall2014  70384  DSB 105   F  2014-09-05T08:00:00  2014-09-05T09:15:00\n",
       "2  Fall2014  70384  DSB 105   T  2014-09-09T08:00:00  2014-09-09T09:15:00\n",
       "3  Fall2014  70384  DSB 105   F  2014-09-12T08:00:00  2014-09-12T09:15:00\n",
       "4  Fall2014  70384  DSB 105   T  2014-09-16T08:00:00  2014-09-16T09:15:00"
      ]
     },
     "execution_count": 19,
     "metadata": {},
     "output_type": "execute_result"
    }
   ],
   "source": [
    "df_test.head()"
   ]
  },
  {
   "cell_type": "code",
   "execution_count": null,
   "metadata": {},
   "outputs": [],
   "source": []
  }
 ],
 "metadata": {
  "kernelspec": {
   "display_name": "Python 3",
   "language": "python",
   "name": "python3"
  },
  "language_info": {
   "codemirror_mode": {
    "name": "ipython",
    "version": 3
   },
   "file_extension": ".py",
   "mimetype": "text/x-python",
   "name": "python",
   "nbconvert_exporter": "python",
   "pygments_lexer": "ipython3",
   "version": "3.6.5"
  }
 },
 "nbformat": 4,
 "nbformat_minor": 2
}

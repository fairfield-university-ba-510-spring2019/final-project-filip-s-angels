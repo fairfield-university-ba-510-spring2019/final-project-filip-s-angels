{
 "cells": [
  {
   "cell_type": "markdown",
   "metadata": {},
   "source": [
    "# Data Table Dictionary"
   ]
  },
  {
   "cell_type": "markdown",
   "metadata": {},
   "source": [
    "**INSTRUCTOR Table**\n",
    "\n",
    "|Attributes | Description |\n",
    "|----|----|\n",
    "|InID| Surrogate key acting as the Instructor ID|\n",
    "|Name| Full name of instructor|"
   ]
  },
  {
   "cell_type": "markdown",
   "metadata": {},
   "source": [
    "**CATALOG Table**\n",
    "\n",
    "|Attributes   |  Description  | \n",
    "|---|---|\n",
    "|CatalogClassifier|Surrogate Key for Catalog ID|\n",
    "|CatID   | Short for Catalog ID, program name acronym and course level number  |\n",
    "|Title  | Full title name of course  |   \n",
    "|Description   |Course description|  \n",
    "|Credits|Numerical credits each course is worth|\n",
    "|PName| Name of program|\n",
    "|PCode| Code of program|\n",
    "|Prereqs| Course or class standing required to enroll in another course|\n",
    "|Coreqs| Course required to be taken simultaneously with another course|\n",
    "|Fees| Additional course fee to be collected with registration|\n",
    "|Attribute| If a course fulfills a required attribute|"
   ]
  },
  {
   "cell_type": "markdown",
   "metadata": {},
   "source": [
    "**SECTION Table**\n",
    "\n",
    "|Attributes | Description |\n",
    "|----|----|\n",
    "|SID| Surrogate key acting as the Section ID|\n",
    "|CRN| Unique section identifer, although sometimes repeated from semester to semester|\n",
    "|Term| Semester and Year|\n",
    "|Section| Section Number or Letter of Course|\n",
    "|Cap| Capacity of class|\n",
    "|Act| Actual enrollment of class|\n",
    "|Rem| Remaining seats left in that class|\n",
    "|CatID| Short for Catalog ID, program name acronym and course level number |\n",
    "|CatalogClassifier|Surrogate Key for Catalog ID|\n",
    "|InID| Surrogate key acting as the Instructor ID |"
   ]
  },
  {
   "cell_type": "markdown",
   "metadata": {},
   "source": [
    "**COURSE_MEETINGS Table**\n",
    "\n",
    "|Attributes | Description |\n",
    "|----|----|\n",
    "|MID| Surrogate key acting as the Course Meetings ID|\n",
    "|CRN| Unique section identifier, although sometimes repeated from semester to semester|\n",
    "|Term| Semester and Year|\n",
    "|Start| Date and start Time of course meetings|\n",
    "|Day| Day of week course is meeting|\n",
    "|End| Date and end Time of course meetings |"
   ]
  },
  {
   "cell_type": "markdown",
   "metadata": {},
   "source": [
    "# Database ERD"
   ]
  },
  {
   "cell_type": "markdown",
   "metadata": {},
   "source": [
    "# Data Warehouse Star Schema"
   ]
  }
 ],
 "metadata": {
  "kernelspec": {
   "display_name": "Python 3",
   "language": "python",
   "name": "python3"
  },
  "language_info": {
   "codemirror_mode": {
    "name": "ipython",
    "version": 3
   },
   "file_extension": ".py",
   "mimetype": "text/x-python",
   "name": "python",
   "nbconvert_exporter": "python",
   "pygments_lexer": "ipython3",
   "version": "3.6.5"
  }
 },
 "nbformat": 4,
 "nbformat_minor": 2
}

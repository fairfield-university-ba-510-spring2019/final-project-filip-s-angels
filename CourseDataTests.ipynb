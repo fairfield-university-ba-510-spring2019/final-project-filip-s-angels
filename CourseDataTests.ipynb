{
 "cells": [
  {
   "cell_type": "code",
   "execution_count": null,
   "metadata": {},
   "outputs": [],
   "source": [
    "# Course Data Tests Notebook"
   ]
  },
  {
   "cell_type": "code",
   "execution_count": null,
   "metadata": {},
   "outputs": [],
   "source": [
    "# Testing the integrity of your new CourseData.db"
   ]
  },
  {
   "cell_type": "code",
   "execution_count": 1,
   "metadata": {},
   "outputs": [
    {
     "data": {
      "text/plain": [
       "'Connected: @CourseData2.db'"
      ]
     },
     "execution_count": 1,
     "metadata": {},
     "output_type": "execute_result"
    }
   ],
   "source": [
    "%load_ext sql\n",
    "%sql sqlite:///CourseData2.db"
   ]
  },
  {
   "cell_type": "markdown",
   "metadata": {},
   "source": [
    "# Querries \n"
   ]
  },
  {
   "cell_type": "code",
   "execution_count": 2,
   "metadata": {},
   "outputs": [
    {
     "name": "stdout",
     "output_type": "stream",
     "text": [
      " * sqlite:///CourseData2.db\n",
      "(sqlite3.OperationalError) no such table: SECTION [SQL: '/* Using SELECT to look for duplicate a data records  */\\n\\nSELECT COUNT(CRN), COUNT(Term)\\nFROM SECTION;'] (Background on this error at: http://sqlalche.me/e/e3q8)\n"
     ]
    }
   ],
   "source": [
    "%%sql\n",
    "/* Using SELECT to look for duplicate a data records  */\n",
    "\n",
    "SELECT COUNT(CRN), COUNT(Term)\n",
    "FROM SECTION;"
   ]
  },
  {
   "cell_type": "code",
   "execution_count": null,
   "metadata": {},
   "outputs": [],
   "source": [
    "%%sql\n",
    "/* Using SELECT DISTINCT to look for duplicate a data records  */\n",
    "\n",
    "SELECT DISTINCT COUNT(CRN), COUNT(Term)\n",
    "FROM SECTION;"
   ]
  },
  {
   "cell_type": "code",
   "execution_count": null,
   "metadata": {},
   "outputs": [],
   "source": [
    "%%sql\n",
    "/* Using SELECT  to look for duplicate a data records  */\n",
    "SELECT COUNT(Name)\n",
    "    FROM Instructor;"
   ]
  },
  {
   "cell_type": "code",
   "execution_count": null,
   "metadata": {},
   "outputs": [],
   "source": [
    "%%sql\n",
    "/* Using SELECT DISTINCT to look for duplicate a data records  */\n",
    "SELECT DISTINCT COUNT(Name)\n",
    "    FROM Instructor;"
   ]
  },
  {
   "cell_type": "code",
   "execution_count": null,
   "metadata": {},
   "outputs": [],
   "source": [
    "%%sql\n",
    "/* Using SELECT  to look for duplicate a data records  */\n",
    "SELECT COUNT(Title), COUNT(CatID)\n",
    "    FROM Catalog;"
   ]
  },
  {
   "cell_type": "code",
   "execution_count": null,
   "metadata": {},
   "outputs": [],
   "source": [
    "%%sql\n",
    "/* Using SELECT DISTINCT to look for duplicate a data records  */\n",
    "SELECT DISTINCT COUNT(Title), COUNT(CatID)\n",
    "    FROM Catalog;"
   ]
  },
  {
   "cell_type": "code",
   "execution_count": null,
   "metadata": {},
   "outputs": [],
   "source": [
    "%%sql\n",
    "/* Using SELECT to look for duplicate a data records  */\n",
    "SELECT COUNT(CRN), COUNT(Term)\n",
    "    FROM Course_Meetings;"
   ]
  },
  {
   "cell_type": "code",
   "execution_count": null,
   "metadata": {},
   "outputs": [],
   "source": [
    "%%sql\n",
    "/* Using SELECT DISTINCT to look for duplicate a data records  */\n",
    "SELECT DISTINCT COUNT(CRN), COUNT(Term)\n",
    "    FROM Course_Meetings;"
   ]
  },
  {
   "cell_type": "code",
   "execution_count": null,
   "metadata": {},
   "outputs": [],
   "source": []
  },
  {
   "cell_type": "code",
   "execution_count": null,
   "metadata": {},
   "outputs": [],
   "source": []
  },
  {
   "cell_type": "code",
   "execution_count": null,
   "metadata": {},
   "outputs": [],
   "source": []
  }
 ],
 "metadata": {
  "kernelspec": {
   "display_name": "Python 3",
   "language": "python",
   "name": "python3"
  },
  "language_info": {
   "codemirror_mode": {
    "name": "ipython",
    "version": 3
   },
   "file_extension": ".py",
   "mimetype": "text/x-python",
   "name": "python",
   "nbconvert_exporter": "python",
   "pygments_lexer": "ipython3",
   "version": "3.6.5"
  }
 },
 "nbformat": 4,
 "nbformat_minor": 2
}

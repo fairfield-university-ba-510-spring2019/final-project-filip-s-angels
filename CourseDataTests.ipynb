{
 "cells": [
  {
   "cell_type": "code",
   "execution_count": null,
   "metadata": {},
   "outputs": [],
   "source": [
    "# Course Data Tests Notebook"
   ]
  },
  {
   "cell_type": "code",
   "execution_count": null,
   "metadata": {},
   "outputs": [],
   "source": [
    "# Testing the integrity of your new CourseData.db"
   ]
  },
  {
   "cell_type": "code",
   "execution_count": 1,
   "metadata": {},
   "outputs": [
    {
     "data": {
      "text/plain": [
       "'Connected: @CourseData.db'"
      ]
     },
     "execution_count": 1,
     "metadata": {},
     "output_type": "execute_result"
    }
   ],
   "source": [
    "%load_ext sql\n",
    "%sql sqlite:///CourseData.db"
   ]
  },
  {
   "cell_type": "code",
   "execution_count": null,
   "metadata": {},
   "outputs": [],
   "source": []
  },
  {
   "cell_type": "code",
   "execution_count": 5,
   "metadata": {},
   "outputs": [
    {
     "name": "stdout",
     "output_type": "stream",
     "text": [
      " * sqlite:///CourseData.db\n",
      "Done.\n",
      "Done.\n",
      "Done.\n",
      "Done.\n"
     ]
    },
    {
     "data": {
      "text/plain": [
       "[]"
      ]
     },
     "execution_count": 5,
     "metadata": {},
     "output_type": "execute_result"
    }
   ],
   "source": [
    "%%sql\n",
    "--Dropping tables for when we need to restart and clear CourseData database-- \n",
    "\n",
    "DROP TABLE IF EXISTS SECTION;\n",
    "DROP TABLE IF EXISTS CATALOG\n",
    ";\n",
    "DROP TABLE IF EXISTS INSTRUCTOR;\n",
    "DROP TABLE IF EXISTS COURSE_MEETINGS;\n",
    "\n"
   ]
  },
  {
   "cell_type": "code",
   "execution_count": 6,
   "metadata": {},
   "outputs": [
    {
     "name": "stdout",
     "output_type": "stream",
     "text": [
      " * sqlite:///CourseData.db\n",
      "Done.\n",
      "Done.\n",
      "Done.\n",
      "Done.\n"
     ]
    },
    {
     "data": {
      "text/plain": [
       "[]"
      ]
     },
     "execution_count": 6,
     "metadata": {},
     "output_type": "execute_result"
    }
   ],
   "source": [
    "%%sql\n",
    "-- Creating table INSTRUCTOR with surrogate primary key-- \n",
    "\n",
    "CREATE TABLE 'INSTRUCTOR' (\n",
    "    InID INTEGER NOT NULL PRIMARY KEY,\n",
    "    Name TEXT NOT NULL\n",
    ");\n",
    "\n",
    "--Creating table CATALOG with CatID as the primary key-- \n",
    "\n",
    "CREATE TABLE 'CATALOG'(\n",
    "    CatID VARCHAR PRIMARY KEY,\n",
    "    Title VARCHAR NOT NULL,\n",
    "    Description TEXT NOT NULL,\n",
    "    Credits TEXT NOT NULL,\n",
    "    PName TEXT NOT NULL,\n",
    "    PCode TEXT,\n",
    "    PREREQS TEXT,\n",
    "    COREQS TEXT,\n",
    "    FEES INTEGER,\n",
    "    Attribute TEXT\n",
    "    \n",
    ");\n",
    "\n",
    "--Creating table SECTION with surrogate primary key-- \n",
    "\n",
    "CREATE TABLE 'SECTION'(\n",
    "    SID INTEGER NOT NULL PRIMARY KEY,\n",
    "    CRN INTEGER NOT NULL,\n",
    "    Term TEXT NOT NULL,\n",
    "    Section VARCHAR NOT NULL,\n",
    "    Cap INTEGER,\n",
    "    Act INTEGER,\n",
    "    Rem INTEGER,\n",
    "    CatID VARCHAR,\n",
    "    InID INTEGER,\n",
    "    FOREIGN KEY (CatID) REFERENCES COURSE(CatID),\n",
    "    FOREIGN KEY (InID) REFERENCES INSTRUCTOR(InID)\n",
    ");\n",
    "\n",
    "--Creating table COURSE_MEETINGS with CatID as the Primary Key-- \n",
    "\n",
    "CREATE TABLE 'COURSE_MEETINGS' (\n",
    "    MID INTEGER NOT NULL PRIMARY KEY,\n",
    "    CRN INTEGER NOT NULL,\n",
    "    Term TEXT NOT NULL,\n",
    "    Start TEXT NOT NULL,\n",
    "    Location VARCHAR NOT NULL,\n",
    "    Day TEXT NOT NULL,\n",
    "    End TEXT NOT NULL,\n",
    "    FOREIGN KEY (CRN) REFERENCES SECTION(CRN),\n",
    "    FOREIGN KEY (Term) REFERENCES SECTION(Term)\n",
    ");"
   ]
  },
  {
   "cell_type": "code",
   "execution_count": 7,
   "metadata": {},
   "outputs": [
    {
     "name": "stdout",
     "output_type": "stream",
     "text": [
      " * sqlite:///CourseData.db\n",
      "Done.\n"
     ]
    },
    {
     "data": {
      "text/plain": [
       "[]"
      ]
     },
     "execution_count": 7,
     "metadata": {},
     "output_type": "execute_result"
    }
   ],
   "source": [
    "%%sql\n",
    "\n",
    "--Populating Course_Meetings table using import_course_meetings data-- \n",
    "\n",
    "INSERT INTO Course_Meetings (CRN, Term, Start, Location, Day, End)\n",
    "SELECT DISTINCT crn, term, start, location, day, end \n",
    "FROM import_course_meetings;"
   ]
  },
  {
   "cell_type": "code",
   "execution_count": 8,
   "metadata": {},
   "outputs": [
    {
     "name": "stdout",
     "output_type": "stream",
     "text": [
      " * sqlite:///CourseData.db\n",
      "Done.\n"
     ]
    },
    {
     "data": {
      "text/plain": [
       "[]"
      ]
     },
     "execution_count": 8,
     "metadata": {},
     "output_type": "execute_result"
    }
   ],
   "source": [
    "%%sql \n",
    "\n",
    "--Populating Catalog table using import_catalogs data--  \n",
    "\n",
    "INSERT INTO Catalog (CatID, Title, Description, Credits, PName, PCode, PREREQS, COREQS, FEES, Attribute)\n",
    "SELECT DISTINCT catalog_id, course_title, description, credits, program_name, program_code, prereqs, coreqs, fees, attributes\n",
    "FROM import_catalogs;"
   ]
  },
  {
   "cell_type": "code",
   "execution_count": 9,
   "metadata": {},
   "outputs": [
    {
     "name": "stdout",
     "output_type": "stream",
     "text": [
      " * sqlite:///CourseData.db\n",
      "Done.\n"
     ]
    },
    {
     "data": {
      "text/plain": [
       "[]"
      ]
     },
     "execution_count": 9,
     "metadata": {},
     "output_type": "execute_result"
    }
   ],
   "source": [
    "%%sql \n",
    "\n",
    "--Populating Instructor table using import_courses data--  \n",
    "\n",
    "INSERT INTO Instructor (Name)\n",
    "SELECT DISTINCT primary_instructor\n",
    "FROM import_courses;"
   ]
  },
  {
   "cell_type": "code",
   "execution_count": 10,
   "metadata": {},
   "outputs": [
    {
     "name": "stdout",
     "output_type": "stream",
     "text": [
      " * sqlite:///CourseData.db\n",
      "Done.\n"
     ]
    },
    {
     "data": {
      "text/plain": [
       "[]"
      ]
     },
     "execution_count": 10,
     "metadata": {},
     "output_type": "execute_result"
    }
   ],
   "source": [
    "%%sql \n",
    "\n",
    "--Populating the SECTION table using import_courses data--\n",
    "--Joining Instructor table using import_courses and instructor table--\n",
    "\n",
    "INSERT INTO SECTION (CRN, Term, Section, Cap, Act, Rem, CatID, InID)\n",
    "SELECT crn, term, section, cap, act, rem, catalog_id, InID\n",
    "FROM import_courses\n",
    "    JOIN Instructor ON (import_courses.primary_instructor = Instructor.Name)\n",
    ";"
   ]
  },
  {
   "cell_type": "markdown",
   "metadata": {},
   "source": [
    "# Querries \n"
   ]
  },
  {
   "cell_type": "code",
   "execution_count": 11,
   "metadata": {},
   "outputs": [
    {
     "name": "stdout",
     "output_type": "stream",
     "text": [
      " * sqlite:///CourseData.db\n",
      "Done.\n"
     ]
    },
    {
     "data": {
      "text/html": [
       "<table>\n",
       "    <tr>\n",
       "        <th>COUNT(*)</th>\n",
       "    </tr>\n",
       "    <tr>\n",
       "        <td>2221</td>\n",
       "    </tr>\n",
       "</table>"
      ],
      "text/plain": [
       "[(2221,)]"
      ]
     },
     "execution_count": 11,
     "metadata": {},
     "output_type": "execute_result"
    }
   ],
   "source": [
    "%%sql\n",
    "/* Using SELECT to look for duplicate a data records  */\n",
    "SELECT COUNT(*)\n",
    "    FROM Catalog;"
   ]
  },
  {
   "cell_type": "code",
   "execution_count": 12,
   "metadata": {},
   "outputs": [
    {
     "name": "stdout",
     "output_type": "stream",
     "text": [
      " * sqlite:///CourseData.db\n",
      "Done.\n"
     ]
    },
    {
     "data": {
      "text/html": [
       "<table>\n",
       "    <tr>\n",
       "        <th>COUNT(*)</th>\n",
       "    </tr>\n",
       "    <tr>\n",
       "        <td>2221</td>\n",
       "    </tr>\n",
       "</table>"
      ],
      "text/plain": [
       "[(2221,)]"
      ]
     },
     "execution_count": 12,
     "metadata": {},
     "output_type": "execute_result"
    }
   ],
   "source": [
    "%%sql\n",
    "/* Using SELECT DISTINCT to look for duplicate a data records  */\n",
    "\n",
    "SELECT DISTINCT COUNT(*)\n",
    "    FROM Catalog;"
   ]
  },
  {
   "cell_type": "code",
   "execution_count": 13,
   "metadata": {},
   "outputs": [
    {
     "name": "stdout",
     "output_type": "stream",
     "text": [
      " * sqlite:///CourseData.db\n",
      "Done.\n"
     ]
    },
    {
     "data": {
      "text/html": [
       "<table>\n",
       "    <tr>\n",
       "        <th>COUNT(*)</th>\n",
       "    </tr>\n",
       "    <tr>\n",
       "        <td>1105</td>\n",
       "    </tr>\n",
       "</table>"
      ],
      "text/plain": [
       "[(1105,)]"
      ]
     },
     "execution_count": 13,
     "metadata": {},
     "output_type": "execute_result"
    }
   ],
   "source": [
    "%%sql\n",
    "/* Using SELECT  to look for duplicate a data records  */\n",
    "SELECT COUNT(*)\n",
    "    FROM Instructor;"
   ]
  },
  {
   "cell_type": "code",
   "execution_count": 14,
   "metadata": {},
   "outputs": [
    {
     "name": "stdout",
     "output_type": "stream",
     "text": [
      " * sqlite:///CourseData.db\n",
      "Done.\n"
     ]
    },
    {
     "data": {
      "text/html": [
       "<table>\n",
       "    <tr>\n",
       "        <th>COUNT(*)</th>\n",
       "    </tr>\n",
       "    <tr>\n",
       "        <td>1105</td>\n",
       "    </tr>\n",
       "</table>"
      ],
      "text/plain": [
       "[(1105,)]"
      ]
     },
     "execution_count": 14,
     "metadata": {},
     "output_type": "execute_result"
    }
   ],
   "source": [
    "%%sql\n",
    "/* Using SELECT DISTINCT to look for duplicate a data records  */\n",
    "SELECT DISTINCT COUNT(*)\n",
    "    FROM Instructor;"
   ]
  },
  {
   "cell_type": "code",
   "execution_count": 15,
   "metadata": {},
   "outputs": [
    {
     "name": "stdout",
     "output_type": "stream",
     "text": [
      " * sqlite:///CourseData.db\n",
      "Done.\n"
     ]
    },
    {
     "data": {
      "text/html": [
       "<table>\n",
       "    <tr>\n",
       "        <th>COUNT(*)</th>\n",
       "    </tr>\n",
       "    <tr>\n",
       "        <td>17435</td>\n",
       "    </tr>\n",
       "</table>"
      ],
      "text/plain": [
       "[(17435,)]"
      ]
     },
     "execution_count": 15,
     "metadata": {},
     "output_type": "execute_result"
    }
   ],
   "source": [
    "%%sql\n",
    "/* Using SELECT  to look for duplicate a data records  */\n",
    "SELECT COUNT(*)\n",
    "    FROM Section;"
   ]
  },
  {
   "cell_type": "code",
   "execution_count": 16,
   "metadata": {},
   "outputs": [
    {
     "name": "stdout",
     "output_type": "stream",
     "text": [
      " * sqlite:///CourseData.db\n",
      "Done.\n"
     ]
    },
    {
     "data": {
      "text/html": [
       "<table>\n",
       "    <tr>\n",
       "        <th>COUNT(*)</th>\n",
       "    </tr>\n",
       "    <tr>\n",
       "        <td>17435</td>\n",
       "    </tr>\n",
       "</table>"
      ],
      "text/plain": [
       "[(17435,)]"
      ]
     },
     "execution_count": 16,
     "metadata": {},
     "output_type": "execute_result"
    }
   ],
   "source": [
    "%%sql\n",
    "/* Using SELECT DISTINCT to look for duplicate a data records  */\n",
    "SELECT DISTINCT COUNT(*)\n",
    "    FROM Section;"
   ]
  },
  {
   "cell_type": "code",
   "execution_count": 17,
   "metadata": {},
   "outputs": [
    {
     "name": "stdout",
     "output_type": "stream",
     "text": [
      " * sqlite:///CourseData.db\n",
      "Done.\n"
     ]
    },
    {
     "data": {
      "text/html": [
       "<table>\n",
       "    <tr>\n",
       "        <th>COUNT(*)</th>\n",
       "    </tr>\n",
       "    <tr>\n",
       "        <td>311142</td>\n",
       "    </tr>\n",
       "</table>"
      ],
      "text/plain": [
       "[(311142,)]"
      ]
     },
     "execution_count": 17,
     "metadata": {},
     "output_type": "execute_result"
    }
   ],
   "source": [
    "%%sql\n",
    "/* Using SELECT to look for duplicate a data records  */\n",
    "SELECT COUNT(*)\n",
    "    FROM Course_Meetings;"
   ]
  },
  {
   "cell_type": "code",
   "execution_count": 18,
   "metadata": {},
   "outputs": [
    {
     "name": "stdout",
     "output_type": "stream",
     "text": [
      " * sqlite:///CourseData.db\n",
      "Done.\n"
     ]
    },
    {
     "data": {
      "text/html": [
       "<table>\n",
       "    <tr>\n",
       "        <th>COUNT(*)</th>\n",
       "    </tr>\n",
       "    <tr>\n",
       "        <td>311142</td>\n",
       "    </tr>\n",
       "</table>"
      ],
      "text/plain": [
       "[(311142,)]"
      ]
     },
     "execution_count": 18,
     "metadata": {},
     "output_type": "execute_result"
    }
   ],
   "source": [
    "%%sql\n",
    "/* Using SELECT DISTINCT to look for duplicate a data records  */\n",
    "SELECT DISTINCT COUNT(*)\n",
    "    FROM Course_Meetings;"
   ]
  },
  {
   "cell_type": "code",
   "execution_count": null,
   "metadata": {},
   "outputs": [],
   "source": []
  },
  {
   "cell_type": "code",
   "execution_count": null,
   "metadata": {},
   "outputs": [],
   "source": []
  }
 ],
 "metadata": {
  "kernelspec": {
   "display_name": "Python 3",
   "language": "python",
   "name": "python3"
  },
  "language_info": {
   "codemirror_mode": {
    "name": "ipython",
    "version": 3
   },
   "file_extension": ".py",
   "mimetype": "text/x-python",
   "name": "python",
   "nbconvert_exporter": "python",
   "pygments_lexer": "ipython3",
   "version": "3.6.5"
  }
 },
 "nbformat": 4,
 "nbformat_minor": 2
}
